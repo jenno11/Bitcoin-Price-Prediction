{
  "nbformat": 4,
  "nbformat_minor": 5,
  "metadata": {
    "colab": {
      "name": "Copy of Crypto_news.ipynb",
      "provenance": [],
      "collapsed_sections": []
    },
    "kernelspec": {
      "display_name": "Python [conda env:mlenv] *",
      "language": "python",
      "name": "conda-env-mlenv-py"
    },
    "language_info": {
      "codemirror_mode": {
        "name": "ipython",
        "version": 3
      },
      "file_extension": ".py",
      "mimetype": "text/x-python",
      "name": "python",
      "nbconvert_exporter": "python",
      "pygments_lexer": "ipython3",
      "version": "3.7.7"
    },
    "widgets": {
      "application/vnd.jupyter.widget-state+json": {
        "dd93a74ca8ed4f0d8e2af41c598a1818": {
          "model_module": "@jupyter-widgets/controls",
          "model_name": "HBoxModel",
          "model_module_version": "1.5.0",
          "state": {
            "_dom_classes": [],
            "_model_module": "@jupyter-widgets/controls",
            "_model_module_version": "1.5.0",
            "_model_name": "HBoxModel",
            "_view_count": null,
            "_view_module": "@jupyter-widgets/controls",
            "_view_module_version": "1.5.0",
            "_view_name": "HBoxView",
            "box_style": "",
            "children": [
              "IPY_MODEL_bb885d96979942c5abbcb21fe8a5736e",
              "IPY_MODEL_add2ec45ee074255bcec7fe0c742b0c2",
              "IPY_MODEL_0aa61aeb04c7409a815897b00794e5ed"
            ],
            "layout": "IPY_MODEL_f92792b226524893844764256d31933a"
          }
        },
        "bb885d96979942c5abbcb21fe8a5736e": {
          "model_module": "@jupyter-widgets/controls",
          "model_name": "HTMLModel",
          "model_module_version": "1.5.0",
          "state": {
            "_dom_classes": [],
            "_model_module": "@jupyter-widgets/controls",
            "_model_module_version": "1.5.0",
            "_model_name": "HTMLModel",
            "_view_count": null,
            "_view_module": "@jupyter-widgets/controls",
            "_view_module_version": "1.5.0",
            "_view_name": "HTMLView",
            "description": "",
            "description_tooltip": null,
            "layout": "IPY_MODEL_8a58618949d744e786554770a1ea1a71",
            "placeholder": "​",
            "style": "IPY_MODEL_9934c9449ef141b4bd13dc58f34d7c94",
            "value": "Downloading: 100%"
          }
        },
        "add2ec45ee074255bcec7fe0c742b0c2": {
          "model_module": "@jupyter-widgets/controls",
          "model_name": "FloatProgressModel",
          "model_module_version": "1.5.0",
          "state": {
            "_dom_classes": [],
            "_model_module": "@jupyter-widgets/controls",
            "_model_module_version": "1.5.0",
            "_model_name": "FloatProgressModel",
            "_view_count": null,
            "_view_module": "@jupyter-widgets/controls",
            "_view_module_version": "1.5.0",
            "_view_name": "ProgressView",
            "bar_style": "success",
            "description": "",
            "description_tooltip": null,
            "layout": "IPY_MODEL_043747ec9ab948c185ede78001657824",
            "max": 1912529,
            "min": 0,
            "orientation": "horizontal",
            "style": "IPY_MODEL_482da33045a149689830aa92684f6a7f",
            "value": 1912529
          }
        },
        "0aa61aeb04c7409a815897b00794e5ed": {
          "model_module": "@jupyter-widgets/controls",
          "model_name": "HTMLModel",
          "model_module_version": "1.5.0",
          "state": {
            "_dom_classes": [],
            "_model_module": "@jupyter-widgets/controls",
            "_model_module_version": "1.5.0",
            "_model_name": "HTMLModel",
            "_view_count": null,
            "_view_module": "@jupyter-widgets/controls",
            "_view_module_version": "1.5.0",
            "_view_name": "HTMLView",
            "description": "",
            "description_tooltip": null,
            "layout": "IPY_MODEL_00bbc8b20b804e55aee73ebea2e6f4e6",
            "placeholder": "​",
            "style": "IPY_MODEL_752b0cba9f4644c4aa828668f2f3330e",
            "value": " 1.82M/1.82M [00:00&lt;00:00, 1.16MB/s]"
          }
        },
        "f92792b226524893844764256d31933a": {
          "model_module": "@jupyter-widgets/base",
          "model_name": "LayoutModel",
          "model_module_version": "1.2.0",
          "state": {
            "_model_module": "@jupyter-widgets/base",
            "_model_module_version": "1.2.0",
            "_model_name": "LayoutModel",
            "_view_count": null,
            "_view_module": "@jupyter-widgets/base",
            "_view_module_version": "1.2.0",
            "_view_name": "LayoutView",
            "align_content": null,
            "align_items": null,
            "align_self": null,
            "border": null,
            "bottom": null,
            "display": null,
            "flex": null,
            "flex_flow": null,
            "grid_area": null,
            "grid_auto_columns": null,
            "grid_auto_flow": null,
            "grid_auto_rows": null,
            "grid_column": null,
            "grid_gap": null,
            "grid_row": null,
            "grid_template_areas": null,
            "grid_template_columns": null,
            "grid_template_rows": null,
            "height": null,
            "justify_content": null,
            "justify_items": null,
            "left": null,
            "margin": null,
            "max_height": null,
            "max_width": null,
            "min_height": null,
            "min_width": null,
            "object_fit": null,
            "object_position": null,
            "order": null,
            "overflow": null,
            "overflow_x": null,
            "overflow_y": null,
            "padding": null,
            "right": null,
            "top": null,
            "visibility": null,
            "width": null
          }
        },
        "8a58618949d744e786554770a1ea1a71": {
          "model_module": "@jupyter-widgets/base",
          "model_name": "LayoutModel",
          "model_module_version": "1.2.0",
          "state": {
            "_model_module": "@jupyter-widgets/base",
            "_model_module_version": "1.2.0",
            "_model_name": "LayoutModel",
            "_view_count": null,
            "_view_module": "@jupyter-widgets/base",
            "_view_module_version": "1.2.0",
            "_view_name": "LayoutView",
            "align_content": null,
            "align_items": null,
            "align_self": null,
            "border": null,
            "bottom": null,
            "display": null,
            "flex": null,
            "flex_flow": null,
            "grid_area": null,
            "grid_auto_columns": null,
            "grid_auto_flow": null,
            "grid_auto_rows": null,
            "grid_column": null,
            "grid_gap": null,
            "grid_row": null,
            "grid_template_areas": null,
            "grid_template_columns": null,
            "grid_template_rows": null,
            "height": null,
            "justify_content": null,
            "justify_items": null,
            "left": null,
            "margin": null,
            "max_height": null,
            "max_width": null,
            "min_height": null,
            "min_width": null,
            "object_fit": null,
            "object_position": null,
            "order": null,
            "overflow": null,
            "overflow_x": null,
            "overflow_y": null,
            "padding": null,
            "right": null,
            "top": null,
            "visibility": null,
            "width": null
          }
        },
        "9934c9449ef141b4bd13dc58f34d7c94": {
          "model_module": "@jupyter-widgets/controls",
          "model_name": "DescriptionStyleModel",
          "model_module_version": "1.5.0",
          "state": {
            "_model_module": "@jupyter-widgets/controls",
            "_model_module_version": "1.5.0",
            "_model_name": "DescriptionStyleModel",
            "_view_count": null,
            "_view_module": "@jupyter-widgets/base",
            "_view_module_version": "1.2.0",
            "_view_name": "StyleView",
            "description_width": ""
          }
        },
        "043747ec9ab948c185ede78001657824": {
          "model_module": "@jupyter-widgets/base",
          "model_name": "LayoutModel",
          "model_module_version": "1.2.0",
          "state": {
            "_model_module": "@jupyter-widgets/base",
            "_model_module_version": "1.2.0",
            "_model_name": "LayoutModel",
            "_view_count": null,
            "_view_module": "@jupyter-widgets/base",
            "_view_module_version": "1.2.0",
            "_view_name": "LayoutView",
            "align_content": null,
            "align_items": null,
            "align_self": null,
            "border": null,
            "bottom": null,
            "display": null,
            "flex": null,
            "flex_flow": null,
            "grid_area": null,
            "grid_auto_columns": null,
            "grid_auto_flow": null,
            "grid_auto_rows": null,
            "grid_column": null,
            "grid_gap": null,
            "grid_row": null,
            "grid_template_areas": null,
            "grid_template_columns": null,
            "grid_template_rows": null,
            "height": null,
            "justify_content": null,
            "justify_items": null,
            "left": null,
            "margin": null,
            "max_height": null,
            "max_width": null,
            "min_height": null,
            "min_width": null,
            "object_fit": null,
            "object_position": null,
            "order": null,
            "overflow": null,
            "overflow_x": null,
            "overflow_y": null,
            "padding": null,
            "right": null,
            "top": null,
            "visibility": null,
            "width": null
          }
        },
        "482da33045a149689830aa92684f6a7f": {
          "model_module": "@jupyter-widgets/controls",
          "model_name": "ProgressStyleModel",
          "model_module_version": "1.5.0",
          "state": {
            "_model_module": "@jupyter-widgets/controls",
            "_model_module_version": "1.5.0",
            "_model_name": "ProgressStyleModel",
            "_view_count": null,
            "_view_module": "@jupyter-widgets/base",
            "_view_module_version": "1.2.0",
            "_view_name": "StyleView",
            "bar_color": null,
            "description_width": ""
          }
        },
        "00bbc8b20b804e55aee73ebea2e6f4e6": {
          "model_module": "@jupyter-widgets/base",
          "model_name": "LayoutModel",
          "model_module_version": "1.2.0",
          "state": {
            "_model_module": "@jupyter-widgets/base",
            "_model_module_version": "1.2.0",
            "_model_name": "LayoutModel",
            "_view_count": null,
            "_view_module": "@jupyter-widgets/base",
            "_view_module_version": "1.2.0",
            "_view_name": "LayoutView",
            "align_content": null,
            "align_items": null,
            "align_self": null,
            "border": null,
            "bottom": null,
            "display": null,
            "flex": null,
            "flex_flow": null,
            "grid_area": null,
            "grid_auto_columns": null,
            "grid_auto_flow": null,
            "grid_auto_rows": null,
            "grid_column": null,
            "grid_gap": null,
            "grid_row": null,
            "grid_template_areas": null,
            "grid_template_columns": null,
            "grid_template_rows": null,
            "height": null,
            "justify_content": null,
            "justify_items": null,
            "left": null,
            "margin": null,
            "max_height": null,
            "max_width": null,
            "min_height": null,
            "min_width": null,
            "object_fit": null,
            "object_position": null,
            "order": null,
            "overflow": null,
            "overflow_x": null,
            "overflow_y": null,
            "padding": null,
            "right": null,
            "top": null,
            "visibility": null,
            "width": null
          }
        },
        "752b0cba9f4644c4aa828668f2f3330e": {
          "model_module": "@jupyter-widgets/controls",
          "model_name": "DescriptionStyleModel",
          "model_module_version": "1.5.0",
          "state": {
            "_model_module": "@jupyter-widgets/controls",
            "_model_module_version": "1.5.0",
            "_model_name": "DescriptionStyleModel",
            "_view_count": null,
            "_view_module": "@jupyter-widgets/base",
            "_view_module_version": "1.2.0",
            "_view_name": "StyleView",
            "description_width": ""
          }
        },
        "359a919933534870ae3258eb68b75da6": {
          "model_module": "@jupyter-widgets/controls",
          "model_name": "HBoxModel",
          "model_module_version": "1.5.0",
          "state": {
            "_dom_classes": [],
            "_model_module": "@jupyter-widgets/controls",
            "_model_module_version": "1.5.0",
            "_model_name": "HBoxModel",
            "_view_count": null,
            "_view_module": "@jupyter-widgets/controls",
            "_view_module_version": "1.5.0",
            "_view_name": "HBoxView",
            "box_style": "",
            "children": [
              "IPY_MODEL_acc0082f407a48649a4b254211d0d5b1",
              "IPY_MODEL_1da5d2476e5d42b180468fc02891ac81",
              "IPY_MODEL_b450c818a13f441c8b29c2ca0b90b6a5"
            ],
            "layout": "IPY_MODEL_e7aa01273ef742d5a2b5344c0325dde9"
          }
        },
        "acc0082f407a48649a4b254211d0d5b1": {
          "model_module": "@jupyter-widgets/controls",
          "model_name": "HTMLModel",
          "model_module_version": "1.5.0",
          "state": {
            "_dom_classes": [],
            "_model_module": "@jupyter-widgets/controls",
            "_model_module_version": "1.5.0",
            "_model_name": "HTMLModel",
            "_view_count": null,
            "_view_module": "@jupyter-widgets/controls",
            "_view_module_version": "1.5.0",
            "_view_name": "HTMLView",
            "description": "",
            "description_tooltip": null,
            "layout": "IPY_MODEL_ca58d09c90e348aa891f70777af2b585",
            "placeholder": "​",
            "style": "IPY_MODEL_60bea1d2a57846fc935261efd198995c",
            "value": "Downloading: 100%"
          }
        },
        "1da5d2476e5d42b180468fc02891ac81": {
          "model_module": "@jupyter-widgets/controls",
          "model_name": "FloatProgressModel",
          "model_module_version": "1.5.0",
          "state": {
            "_dom_classes": [],
            "_model_module": "@jupyter-widgets/controls",
            "_model_module_version": "1.5.0",
            "_model_name": "FloatProgressModel",
            "_view_count": null,
            "_view_module": "@jupyter-widgets/controls",
            "_view_module_version": "1.5.0",
            "_view_name": "ProgressView",
            "bar_style": "success",
            "description": "",
            "description_tooltip": null,
            "layout": "IPY_MODEL_49b7ec4156d8472b9ed3fea43077164d",
            "max": 1341,
            "min": 0,
            "orientation": "horizontal",
            "style": "IPY_MODEL_a18d22649aed463993ce21ed251f7dc9",
            "value": 1341
          }
        },
        "b450c818a13f441c8b29c2ca0b90b6a5": {
          "model_module": "@jupyter-widgets/controls",
          "model_name": "HTMLModel",
          "model_module_version": "1.5.0",
          "state": {
            "_dom_classes": [],
            "_model_module": "@jupyter-widgets/controls",
            "_model_module_version": "1.5.0",
            "_model_name": "HTMLModel",
            "_view_count": null,
            "_view_module": "@jupyter-widgets/controls",
            "_view_module_version": "1.5.0",
            "_view_name": "HTMLView",
            "description": "",
            "description_tooltip": null,
            "layout": "IPY_MODEL_df15ed6d047d45d5a1917a3282dae384",
            "placeholder": "​",
            "style": "IPY_MODEL_8679c2df47f94c5e93bb13def38f3cbc",
            "value": " 1.31k/1.31k [00:00&lt;00:00, 29.5kB/s]"
          }
        },
        "e7aa01273ef742d5a2b5344c0325dde9": {
          "model_module": "@jupyter-widgets/base",
          "model_name": "LayoutModel",
          "model_module_version": "1.2.0",
          "state": {
            "_model_module": "@jupyter-widgets/base",
            "_model_module_version": "1.2.0",
            "_model_name": "LayoutModel",
            "_view_count": null,
            "_view_module": "@jupyter-widgets/base",
            "_view_module_version": "1.2.0",
            "_view_name": "LayoutView",
            "align_content": null,
            "align_items": null,
            "align_self": null,
            "border": null,
            "bottom": null,
            "display": null,
            "flex": null,
            "flex_flow": null,
            "grid_area": null,
            "grid_auto_columns": null,
            "grid_auto_flow": null,
            "grid_auto_rows": null,
            "grid_column": null,
            "grid_gap": null,
            "grid_row": null,
            "grid_template_areas": null,
            "grid_template_columns": null,
            "grid_template_rows": null,
            "height": null,
            "justify_content": null,
            "justify_items": null,
            "left": null,
            "margin": null,
            "max_height": null,
            "max_width": null,
            "min_height": null,
            "min_width": null,
            "object_fit": null,
            "object_position": null,
            "order": null,
            "overflow": null,
            "overflow_x": null,
            "overflow_y": null,
            "padding": null,
            "right": null,
            "top": null,
            "visibility": null,
            "width": null
          }
        },
        "ca58d09c90e348aa891f70777af2b585": {
          "model_module": "@jupyter-widgets/base",
          "model_name": "LayoutModel",
          "model_module_version": "1.2.0",
          "state": {
            "_model_module": "@jupyter-widgets/base",
            "_model_module_version": "1.2.0",
            "_model_name": "LayoutModel",
            "_view_count": null,
            "_view_module": "@jupyter-widgets/base",
            "_view_module_version": "1.2.0",
            "_view_name": "LayoutView",
            "align_content": null,
            "align_items": null,
            "align_self": null,
            "border": null,
            "bottom": null,
            "display": null,
            "flex": null,
            "flex_flow": null,
            "grid_area": null,
            "grid_auto_columns": null,
            "grid_auto_flow": null,
            "grid_auto_rows": null,
            "grid_column": null,
            "grid_gap": null,
            "grid_row": null,
            "grid_template_areas": null,
            "grid_template_columns": null,
            "grid_template_rows": null,
            "height": null,
            "justify_content": null,
            "justify_items": null,
            "left": null,
            "margin": null,
            "max_height": null,
            "max_width": null,
            "min_height": null,
            "min_width": null,
            "object_fit": null,
            "object_position": null,
            "order": null,
            "overflow": null,
            "overflow_x": null,
            "overflow_y": null,
            "padding": null,
            "right": null,
            "top": null,
            "visibility": null,
            "width": null
          }
        },
        "60bea1d2a57846fc935261efd198995c": {
          "model_module": "@jupyter-widgets/controls",
          "model_name": "DescriptionStyleModel",
          "model_module_version": "1.5.0",
          "state": {
            "_model_module": "@jupyter-widgets/controls",
            "_model_module_version": "1.5.0",
            "_model_name": "DescriptionStyleModel",
            "_view_count": null,
            "_view_module": "@jupyter-widgets/base",
            "_view_module_version": "1.2.0",
            "_view_name": "StyleView",
            "description_width": ""
          }
        },
        "49b7ec4156d8472b9ed3fea43077164d": {
          "model_module": "@jupyter-widgets/base",
          "model_name": "LayoutModel",
          "model_module_version": "1.2.0",
          "state": {
            "_model_module": "@jupyter-widgets/base",
            "_model_module_version": "1.2.0",
            "_model_name": "LayoutModel",
            "_view_count": null,
            "_view_module": "@jupyter-widgets/base",
            "_view_module_version": "1.2.0",
            "_view_name": "LayoutView",
            "align_content": null,
            "align_items": null,
            "align_self": null,
            "border": null,
            "bottom": null,
            "display": null,
            "flex": null,
            "flex_flow": null,
            "grid_area": null,
            "grid_auto_columns": null,
            "grid_auto_flow": null,
            "grid_auto_rows": null,
            "grid_column": null,
            "grid_gap": null,
            "grid_row": null,
            "grid_template_areas": null,
            "grid_template_columns": null,
            "grid_template_rows": null,
            "height": null,
            "justify_content": null,
            "justify_items": null,
            "left": null,
            "margin": null,
            "max_height": null,
            "max_width": null,
            "min_height": null,
            "min_width": null,
            "object_fit": null,
            "object_position": null,
            "order": null,
            "overflow": null,
            "overflow_x": null,
            "overflow_y": null,
            "padding": null,
            "right": null,
            "top": null,
            "visibility": null,
            "width": null
          }
        },
        "a18d22649aed463993ce21ed251f7dc9": {
          "model_module": "@jupyter-widgets/controls",
          "model_name": "ProgressStyleModel",
          "model_module_version": "1.5.0",
          "state": {
            "_model_module": "@jupyter-widgets/controls",
            "_model_module_version": "1.5.0",
            "_model_name": "ProgressStyleModel",
            "_view_count": null,
            "_view_module": "@jupyter-widgets/base",
            "_view_module_version": "1.2.0",
            "_view_name": "StyleView",
            "bar_color": null,
            "description_width": ""
          }
        },
        "df15ed6d047d45d5a1917a3282dae384": {
          "model_module": "@jupyter-widgets/base",
          "model_name": "LayoutModel",
          "model_module_version": "1.2.0",
          "state": {
            "_model_module": "@jupyter-widgets/base",
            "_model_module_version": "1.2.0",
            "_model_name": "LayoutModel",
            "_view_count": null,
            "_view_module": "@jupyter-widgets/base",
            "_view_module_version": "1.2.0",
            "_view_name": "LayoutView",
            "align_content": null,
            "align_items": null,
            "align_self": null,
            "border": null,
            "bottom": null,
            "display": null,
            "flex": null,
            "flex_flow": null,
            "grid_area": null,
            "grid_auto_columns": null,
            "grid_auto_flow": null,
            "grid_auto_rows": null,
            "grid_column": null,
            "grid_gap": null,
            "grid_row": null,
            "grid_template_areas": null,
            "grid_template_columns": null,
            "grid_template_rows": null,
            "height": null,
            "justify_content": null,
            "justify_items": null,
            "left": null,
            "margin": null,
            "max_height": null,
            "max_width": null,
            "min_height": null,
            "min_width": null,
            "object_fit": null,
            "object_position": null,
            "order": null,
            "overflow": null,
            "overflow_x": null,
            "overflow_y": null,
            "padding": null,
            "right": null,
            "top": null,
            "visibility": null,
            "width": null
          }
        },
        "8679c2df47f94c5e93bb13def38f3cbc": {
          "model_module": "@jupyter-widgets/controls",
          "model_name": "DescriptionStyleModel",
          "model_module_version": "1.5.0",
          "state": {
            "_model_module": "@jupyter-widgets/controls",
            "_model_module_version": "1.5.0",
            "_model_name": "DescriptionStyleModel",
            "_view_count": null,
            "_view_module": "@jupyter-widgets/base",
            "_view_module_version": "1.2.0",
            "_view_name": "StyleView",
            "description_width": ""
          }
        },
        "b06a8dc20fce4b84bd6be6666315d6ad": {
          "model_module": "@jupyter-widgets/controls",
          "model_name": "HBoxModel",
          "model_module_version": "1.5.0",
          "state": {
            "_dom_classes": [],
            "_model_module": "@jupyter-widgets/controls",
            "_model_module_version": "1.5.0",
            "_model_name": "HBoxModel",
            "_view_count": null,
            "_view_module": "@jupyter-widgets/controls",
            "_view_module_version": "1.5.0",
            "_view_name": "HBoxView",
            "box_style": "",
            "children": [
              "IPY_MODEL_fc93bd2f82ce45f9bca304e95ec33d5a",
              "IPY_MODEL_8b95869491524c7bb84c74047a8353a1",
              "IPY_MODEL_f2d95799db3e4f7b9343e5a1393c4247"
            ],
            "layout": "IPY_MODEL_aebc2a826d904787960f5548194966ee"
          }
        },
        "fc93bd2f82ce45f9bca304e95ec33d5a": {
          "model_module": "@jupyter-widgets/controls",
          "model_name": "HTMLModel",
          "model_module_version": "1.5.0",
          "state": {
            "_dom_classes": [],
            "_model_module": "@jupyter-widgets/controls",
            "_model_module_version": "1.5.0",
            "_model_name": "HTMLModel",
            "_view_count": null,
            "_view_module": "@jupyter-widgets/controls",
            "_view_module_version": "1.5.0",
            "_view_name": "HTMLView",
            "description": "",
            "description_tooltip": null,
            "layout": "IPY_MODEL_5d9ad6f18bd84a088fe9a586224fa85f",
            "placeholder": "​",
            "style": "IPY_MODEL_6b2d7884f4dc404c87c11967e74d7434",
            "value": "Downloading: 100%"
          }
        },
        "8b95869491524c7bb84c74047a8353a1": {
          "model_module": "@jupyter-widgets/controls",
          "model_name": "FloatProgressModel",
          "model_module_version": "1.5.0",
          "state": {
            "_dom_classes": [],
            "_model_module": "@jupyter-widgets/controls",
            "_model_module_version": "1.5.0",
            "_model_name": "FloatProgressModel",
            "_view_count": null,
            "_view_module": "@jupyter-widgets/controls",
            "_view_module_version": "1.5.0",
            "_view_name": "ProgressView",
            "bar_style": "success",
            "description": "",
            "description_tooltip": null,
            "layout": "IPY_MODEL_f271864fc5c7491199807fc69eedc7eb",
            "max": 1436,
            "min": 0,
            "orientation": "horizontal",
            "style": "IPY_MODEL_f41e6e2422b244268a36cdc60ee67a8c",
            "value": 1436
          }
        },
        "f2d95799db3e4f7b9343e5a1393c4247": {
          "model_module": "@jupyter-widgets/controls",
          "model_name": "HTMLModel",
          "model_module_version": "1.5.0",
          "state": {
            "_dom_classes": [],
            "_model_module": "@jupyter-widgets/controls",
            "_model_module_version": "1.5.0",
            "_model_name": "HTMLModel",
            "_view_count": null,
            "_view_module": "@jupyter-widgets/controls",
            "_view_module_version": "1.5.0",
            "_view_name": "HTMLView",
            "description": "",
            "description_tooltip": null,
            "layout": "IPY_MODEL_9b8ade141798408c83cfe2b8aea3224c",
            "placeholder": "​",
            "style": "IPY_MODEL_6b0ba4a9bb4146039c054f0c22b19d06",
            "value": " 1.40k/1.40k [00:00&lt;00:00, 27.7kB/s]"
          }
        },
        "aebc2a826d904787960f5548194966ee": {
          "model_module": "@jupyter-widgets/base",
          "model_name": "LayoutModel",
          "model_module_version": "1.2.0",
          "state": {
            "_model_module": "@jupyter-widgets/base",
            "_model_module_version": "1.2.0",
            "_model_name": "LayoutModel",
            "_view_count": null,
            "_view_module": "@jupyter-widgets/base",
            "_view_module_version": "1.2.0",
            "_view_name": "LayoutView",
            "align_content": null,
            "align_items": null,
            "align_self": null,
            "border": null,
            "bottom": null,
            "display": null,
            "flex": null,
            "flex_flow": null,
            "grid_area": null,
            "grid_auto_columns": null,
            "grid_auto_flow": null,
            "grid_auto_rows": null,
            "grid_column": null,
            "grid_gap": null,
            "grid_row": null,
            "grid_template_areas": null,
            "grid_template_columns": null,
            "grid_template_rows": null,
            "height": null,
            "justify_content": null,
            "justify_items": null,
            "left": null,
            "margin": null,
            "max_height": null,
            "max_width": null,
            "min_height": null,
            "min_width": null,
            "object_fit": null,
            "object_position": null,
            "order": null,
            "overflow": null,
            "overflow_x": null,
            "overflow_y": null,
            "padding": null,
            "right": null,
            "top": null,
            "visibility": null,
            "width": null
          }
        },
        "5d9ad6f18bd84a088fe9a586224fa85f": {
          "model_module": "@jupyter-widgets/base",
          "model_name": "LayoutModel",
          "model_module_version": "1.2.0",
          "state": {
            "_model_module": "@jupyter-widgets/base",
            "_model_module_version": "1.2.0",
            "_model_name": "LayoutModel",
            "_view_count": null,
            "_view_module": "@jupyter-widgets/base",
            "_view_module_version": "1.2.0",
            "_view_name": "LayoutView",
            "align_content": null,
            "align_items": null,
            "align_self": null,
            "border": null,
            "bottom": null,
            "display": null,
            "flex": null,
            "flex_flow": null,
            "grid_area": null,
            "grid_auto_columns": null,
            "grid_auto_flow": null,
            "grid_auto_rows": null,
            "grid_column": null,
            "grid_gap": null,
            "grid_row": null,
            "grid_template_areas": null,
            "grid_template_columns": null,
            "grid_template_rows": null,
            "height": null,
            "justify_content": null,
            "justify_items": null,
            "left": null,
            "margin": null,
            "max_height": null,
            "max_width": null,
            "min_height": null,
            "min_width": null,
            "object_fit": null,
            "object_position": null,
            "order": null,
            "overflow": null,
            "overflow_x": null,
            "overflow_y": null,
            "padding": null,
            "right": null,
            "top": null,
            "visibility": null,
            "width": null
          }
        },
        "6b2d7884f4dc404c87c11967e74d7434": {
          "model_module": "@jupyter-widgets/controls",
          "model_name": "DescriptionStyleModel",
          "model_module_version": "1.5.0",
          "state": {
            "_model_module": "@jupyter-widgets/controls",
            "_model_module_version": "1.5.0",
            "_model_name": "DescriptionStyleModel",
            "_view_count": null,
            "_view_module": "@jupyter-widgets/base",
            "_view_module_version": "1.2.0",
            "_view_name": "StyleView",
            "description_width": ""
          }
        },
        "f271864fc5c7491199807fc69eedc7eb": {
          "model_module": "@jupyter-widgets/base",
          "model_name": "LayoutModel",
          "model_module_version": "1.2.0",
          "state": {
            "_model_module": "@jupyter-widgets/base",
            "_model_module_version": "1.2.0",
            "_model_name": "LayoutModel",
            "_view_count": null,
            "_view_module": "@jupyter-widgets/base",
            "_view_module_version": "1.2.0",
            "_view_name": "LayoutView",
            "align_content": null,
            "align_items": null,
            "align_self": null,
            "border": null,
            "bottom": null,
            "display": null,
            "flex": null,
            "flex_flow": null,
            "grid_area": null,
            "grid_auto_columns": null,
            "grid_auto_flow": null,
            "grid_auto_rows": null,
            "grid_column": null,
            "grid_gap": null,
            "grid_row": null,
            "grid_template_areas": null,
            "grid_template_columns": null,
            "grid_template_rows": null,
            "height": null,
            "justify_content": null,
            "justify_items": null,
            "left": null,
            "margin": null,
            "max_height": null,
            "max_width": null,
            "min_height": null,
            "min_width": null,
            "object_fit": null,
            "object_position": null,
            "order": null,
            "overflow": null,
            "overflow_x": null,
            "overflow_y": null,
            "padding": null,
            "right": null,
            "top": null,
            "visibility": null,
            "width": null
          }
        },
        "f41e6e2422b244268a36cdc60ee67a8c": {
          "model_module": "@jupyter-widgets/controls",
          "model_name": "ProgressStyleModel",
          "model_module_version": "1.5.0",
          "state": {
            "_model_module": "@jupyter-widgets/controls",
            "_model_module_version": "1.5.0",
            "_model_name": "ProgressStyleModel",
            "_view_count": null,
            "_view_module": "@jupyter-widgets/base",
            "_view_module_version": "1.2.0",
            "_view_name": "StyleView",
            "bar_color": null,
            "description_width": ""
          }
        },
        "9b8ade141798408c83cfe2b8aea3224c": {
          "model_module": "@jupyter-widgets/base",
          "model_name": "LayoutModel",
          "model_module_version": "1.2.0",
          "state": {
            "_model_module": "@jupyter-widgets/base",
            "_model_module_version": "1.2.0",
            "_model_name": "LayoutModel",
            "_view_count": null,
            "_view_module": "@jupyter-widgets/base",
            "_view_module_version": "1.2.0",
            "_view_name": "LayoutView",
            "align_content": null,
            "align_items": null,
            "align_self": null,
            "border": null,
            "bottom": null,
            "display": null,
            "flex": null,
            "flex_flow": null,
            "grid_area": null,
            "grid_auto_columns": null,
            "grid_auto_flow": null,
            "grid_auto_rows": null,
            "grid_column": null,
            "grid_gap": null,
            "grid_row": null,
            "grid_template_areas": null,
            "grid_template_columns": null,
            "grid_template_rows": null,
            "height": null,
            "justify_content": null,
            "justify_items": null,
            "left": null,
            "margin": null,
            "max_height": null,
            "max_width": null,
            "min_height": null,
            "min_width": null,
            "object_fit": null,
            "object_position": null,
            "order": null,
            "overflow": null,
            "overflow_x": null,
            "overflow_y": null,
            "padding": null,
            "right": null,
            "top": null,
            "visibility": null,
            "width": null
          }
        },
        "6b0ba4a9bb4146039c054f0c22b19d06": {
          "model_module": "@jupyter-widgets/controls",
          "model_name": "DescriptionStyleModel",
          "model_module_version": "1.5.0",
          "state": {
            "_model_module": "@jupyter-widgets/controls",
            "_model_module_version": "1.5.0",
            "_model_name": "DescriptionStyleModel",
            "_view_count": null,
            "_view_module": "@jupyter-widgets/base",
            "_view_module_version": "1.2.0",
            "_view_name": "StyleView",
            "description_width": ""
          }
        },
        "7491d95860534aa798755db185d81091": {
          "model_module": "@jupyter-widgets/controls",
          "model_name": "HBoxModel",
          "model_module_version": "1.5.0",
          "state": {
            "_dom_classes": [],
            "_model_module": "@jupyter-widgets/controls",
            "_model_module_version": "1.5.0",
            "_model_name": "HBoxModel",
            "_view_count": null,
            "_view_module": "@jupyter-widgets/controls",
            "_view_module_version": "1.5.0",
            "_view_name": "HBoxView",
            "box_style": "",
            "children": [
              "IPY_MODEL_1a7b4e0aba0c46c68a9aef1493bbe2d4",
              "IPY_MODEL_08174e03216444389891235701f6ddc4",
              "IPY_MODEL_07f980a22f2e4385b9e949f5d1334a7d"
            ],
            "layout": "IPY_MODEL_d0077892af37470d9aa079e8d6bc2e27"
          }
        },
        "1a7b4e0aba0c46c68a9aef1493bbe2d4": {
          "model_module": "@jupyter-widgets/controls",
          "model_name": "HTMLModel",
          "model_module_version": "1.5.0",
          "state": {
            "_dom_classes": [],
            "_model_module": "@jupyter-widgets/controls",
            "_model_module_version": "1.5.0",
            "_model_name": "HTMLModel",
            "_view_count": null,
            "_view_module": "@jupyter-widgets/controls",
            "_view_module_version": "1.5.0",
            "_view_name": "HTMLView",
            "description": "",
            "description_tooltip": null,
            "layout": "IPY_MODEL_38cbd8c05cd7456ca937d908b1b5bb0d",
            "placeholder": "​",
            "style": "IPY_MODEL_ee07e946d4124c6482da87e393fd2f07",
            "value": "Downloading: 100%"
          }
        },
        "08174e03216444389891235701f6ddc4": {
          "model_module": "@jupyter-widgets/controls",
          "model_name": "FloatProgressModel",
          "model_module_version": "1.5.0",
          "state": {
            "_dom_classes": [],
            "_model_module": "@jupyter-widgets/controls",
            "_model_module_version": "1.5.0",
            "_model_name": "FloatProgressModel",
            "_view_count": null,
            "_view_module": "@jupyter-widgets/controls",
            "_view_module_version": "1.5.0",
            "_view_name": "ProgressView",
            "bar_style": "success",
            "description": "",
            "description_tooltip": null,
            "layout": "IPY_MODEL_9b78fa2449bf4a14a47053649d349fab",
            "max": 1274,
            "min": 0,
            "orientation": "horizontal",
            "style": "IPY_MODEL_e0cda9b34848409a85f00308032182c2",
            "value": 1274
          }
        },
        "07f980a22f2e4385b9e949f5d1334a7d": {
          "model_module": "@jupyter-widgets/controls",
          "model_name": "HTMLModel",
          "model_module_version": "1.5.0",
          "state": {
            "_dom_classes": [],
            "_model_module": "@jupyter-widgets/controls",
            "_model_module_version": "1.5.0",
            "_model_name": "HTMLModel",
            "_view_count": null,
            "_view_module": "@jupyter-widgets/controls",
            "_view_module_version": "1.5.0",
            "_view_name": "HTMLView",
            "description": "",
            "description_tooltip": null,
            "layout": "IPY_MODEL_f00e992e2c68416ab55e7f04ccde20bb",
            "placeholder": "​",
            "style": "IPY_MODEL_7f2acfcd324545b1aae21d1072f252a8",
            "value": " 1.24k/1.24k [00:00&lt;00:00, 21.6kB/s]"
          }
        },
        "d0077892af37470d9aa079e8d6bc2e27": {
          "model_module": "@jupyter-widgets/base",
          "model_name": "LayoutModel",
          "model_module_version": "1.2.0",
          "state": {
            "_model_module": "@jupyter-widgets/base",
            "_model_module_version": "1.2.0",
            "_model_name": "LayoutModel",
            "_view_count": null,
            "_view_module": "@jupyter-widgets/base",
            "_view_module_version": "1.2.0",
            "_view_name": "LayoutView",
            "align_content": null,
            "align_items": null,
            "align_self": null,
            "border": null,
            "bottom": null,
            "display": null,
            "flex": null,
            "flex_flow": null,
            "grid_area": null,
            "grid_auto_columns": null,
            "grid_auto_flow": null,
            "grid_auto_rows": null,
            "grid_column": null,
            "grid_gap": null,
            "grid_row": null,
            "grid_template_areas": null,
            "grid_template_columns": null,
            "grid_template_rows": null,
            "height": null,
            "justify_content": null,
            "justify_items": null,
            "left": null,
            "margin": null,
            "max_height": null,
            "max_width": null,
            "min_height": null,
            "min_width": null,
            "object_fit": null,
            "object_position": null,
            "order": null,
            "overflow": null,
            "overflow_x": null,
            "overflow_y": null,
            "padding": null,
            "right": null,
            "top": null,
            "visibility": null,
            "width": null
          }
        },
        "38cbd8c05cd7456ca937d908b1b5bb0d": {
          "model_module": "@jupyter-widgets/base",
          "model_name": "LayoutModel",
          "model_module_version": "1.2.0",
          "state": {
            "_model_module": "@jupyter-widgets/base",
            "_model_module_version": "1.2.0",
            "_model_name": "LayoutModel",
            "_view_count": null,
            "_view_module": "@jupyter-widgets/base",
            "_view_module_version": "1.2.0",
            "_view_name": "LayoutView",
            "align_content": null,
            "align_items": null,
            "align_self": null,
            "border": null,
            "bottom": null,
            "display": null,
            "flex": null,
            "flex_flow": null,
            "grid_area": null,
            "grid_auto_columns": null,
            "grid_auto_flow": null,
            "grid_auto_rows": null,
            "grid_column": null,
            "grid_gap": null,
            "grid_row": null,
            "grid_template_areas": null,
            "grid_template_columns": null,
            "grid_template_rows": null,
            "height": null,
            "justify_content": null,
            "justify_items": null,
            "left": null,
            "margin": null,
            "max_height": null,
            "max_width": null,
            "min_height": null,
            "min_width": null,
            "object_fit": null,
            "object_position": null,
            "order": null,
            "overflow": null,
            "overflow_x": null,
            "overflow_y": null,
            "padding": null,
            "right": null,
            "top": null,
            "visibility": null,
            "width": null
          }
        },
        "ee07e946d4124c6482da87e393fd2f07": {
          "model_module": "@jupyter-widgets/controls",
          "model_name": "DescriptionStyleModel",
          "model_module_version": "1.5.0",
          "state": {
            "_model_module": "@jupyter-widgets/controls",
            "_model_module_version": "1.5.0",
            "_model_name": "DescriptionStyleModel",
            "_view_count": null,
            "_view_module": "@jupyter-widgets/base",
            "_view_module_version": "1.2.0",
            "_view_name": "StyleView",
            "description_width": ""
          }
        },
        "9b78fa2449bf4a14a47053649d349fab": {
          "model_module": "@jupyter-widgets/base",
          "model_name": "LayoutModel",
          "model_module_version": "1.2.0",
          "state": {
            "_model_module": "@jupyter-widgets/base",
            "_model_module_version": "1.2.0",
            "_model_name": "LayoutModel",
            "_view_count": null,
            "_view_module": "@jupyter-widgets/base",
            "_view_module_version": "1.2.0",
            "_view_name": "LayoutView",
            "align_content": null,
            "align_items": null,
            "align_self": null,
            "border": null,
            "bottom": null,
            "display": null,
            "flex": null,
            "flex_flow": null,
            "grid_area": null,
            "grid_auto_columns": null,
            "grid_auto_flow": null,
            "grid_auto_rows": null,
            "grid_column": null,
            "grid_gap": null,
            "grid_row": null,
            "grid_template_areas": null,
            "grid_template_columns": null,
            "grid_template_rows": null,
            "height": null,
            "justify_content": null,
            "justify_items": null,
            "left": null,
            "margin": null,
            "max_height": null,
            "max_width": null,
            "min_height": null,
            "min_width": null,
            "object_fit": null,
            "object_position": null,
            "order": null,
            "overflow": null,
            "overflow_x": null,
            "overflow_y": null,
            "padding": null,
            "right": null,
            "top": null,
            "visibility": null,
            "width": null
          }
        },
        "e0cda9b34848409a85f00308032182c2": {
          "model_module": "@jupyter-widgets/controls",
          "model_name": "ProgressStyleModel",
          "model_module_version": "1.5.0",
          "state": {
            "_model_module": "@jupyter-widgets/controls",
            "_model_module_version": "1.5.0",
            "_model_name": "ProgressStyleModel",
            "_view_count": null,
            "_view_module": "@jupyter-widgets/base",
            "_view_module_version": "1.2.0",
            "_view_name": "StyleView",
            "bar_color": null,
            "description_width": ""
          }
        },
        "f00e992e2c68416ab55e7f04ccde20bb": {
          "model_module": "@jupyter-widgets/base",
          "model_name": "LayoutModel",
          "model_module_version": "1.2.0",
          "state": {
            "_model_module": "@jupyter-widgets/base",
            "_model_module_version": "1.2.0",
            "_model_name": "LayoutModel",
            "_view_count": null,
            "_view_module": "@jupyter-widgets/base",
            "_view_module_version": "1.2.0",
            "_view_name": "LayoutView",
            "align_content": null,
            "align_items": null,
            "align_self": null,
            "border": null,
            "bottom": null,
            "display": null,
            "flex": null,
            "flex_flow": null,
            "grid_area": null,
            "grid_auto_columns": null,
            "grid_auto_flow": null,
            "grid_auto_rows": null,
            "grid_column": null,
            "grid_gap": null,
            "grid_row": null,
            "grid_template_areas": null,
            "grid_template_columns": null,
            "grid_template_rows": null,
            "height": null,
            "justify_content": null,
            "justify_items": null,
            "left": null,
            "margin": null,
            "max_height": null,
            "max_width": null,
            "min_height": null,
            "min_width": null,
            "object_fit": null,
            "object_position": null,
            "order": null,
            "overflow": null,
            "overflow_x": null,
            "overflow_y": null,
            "padding": null,
            "right": null,
            "top": null,
            "visibility": null,
            "width": null
          }
        },
        "7f2acfcd324545b1aae21d1072f252a8": {
          "model_module": "@jupyter-widgets/controls",
          "model_name": "DescriptionStyleModel",
          "model_module_version": "1.5.0",
          "state": {
            "_model_module": "@jupyter-widgets/controls",
            "_model_module_version": "1.5.0",
            "_model_name": "DescriptionStyleModel",
            "_view_count": null,
            "_view_module": "@jupyter-widgets/base",
            "_view_module_version": "1.2.0",
            "_view_name": "StyleView",
            "description_width": ""
          }
        },
        "07ef7eb33ea4499695d2391b68103d19": {
          "model_module": "@jupyter-widgets/controls",
          "model_name": "HBoxModel",
          "model_module_version": "1.5.0",
          "state": {
            "_dom_classes": [],
            "_model_module": "@jupyter-widgets/controls",
            "_model_module_version": "1.5.0",
            "_model_name": "HBoxModel",
            "_view_count": null,
            "_view_module": "@jupyter-widgets/controls",
            "_view_module_version": "1.5.0",
            "_view_name": "HBoxView",
            "box_style": "",
            "children": [
              "IPY_MODEL_67eb8ca454014ef3883b22bf1e35b823",
              "IPY_MODEL_2006243a194645c2aa52760ac8204966",
              "IPY_MODEL_e145f03dc70f4135b6f3982048661dbf"
            ],
            "layout": "IPY_MODEL_c4e14bca4e59463abbfba3d91a834e8f"
          }
        },
        "67eb8ca454014ef3883b22bf1e35b823": {
          "model_module": "@jupyter-widgets/controls",
          "model_name": "HTMLModel",
          "model_module_version": "1.5.0",
          "state": {
            "_dom_classes": [],
            "_model_module": "@jupyter-widgets/controls",
            "_model_module_version": "1.5.0",
            "_model_name": "HTMLModel",
            "_view_count": null,
            "_view_module": "@jupyter-widgets/controls",
            "_view_module_version": "1.5.0",
            "_view_name": "HTMLView",
            "description": "",
            "description_tooltip": null,
            "layout": "IPY_MODEL_46257d9c4c09459a8981ac2b1e9c3718",
            "placeholder": "​",
            "style": "IPY_MODEL_6673b01193764cc7a81387eddf448536",
            "value": "Downloading: 100%"
          }
        },
        "2006243a194645c2aa52760ac8204966": {
          "model_module": "@jupyter-widgets/controls",
          "model_name": "FloatProgressModel",
          "model_module_version": "1.5.0",
          "state": {
            "_dom_classes": [],
            "_model_module": "@jupyter-widgets/controls",
            "_model_module_version": "1.5.0",
            "_model_name": "FloatProgressModel",
            "_view_count": null,
            "_view_module": "@jupyter-widgets/controls",
            "_view_module_version": "1.5.0",
            "_view_name": "ProgressView",
            "bar_style": "success",
            "description": "",
            "description_tooltip": null,
            "layout": "IPY_MODEL_f605ff9f5088409daeb4dee9eac4d0dd",
            "max": 2275419259,
            "min": 0,
            "orientation": "horizontal",
            "style": "IPY_MODEL_92fa7efa42c747b3bd37843976823a12",
            "value": 2275419259
          }
        },
        "e145f03dc70f4135b6f3982048661dbf": {
          "model_module": "@jupyter-widgets/controls",
          "model_name": "HTMLModel",
          "model_module_version": "1.5.0",
          "state": {
            "_dom_classes": [],
            "_model_module": "@jupyter-widgets/controls",
            "_model_module_version": "1.5.0",
            "_model_name": "HTMLModel",
            "_view_count": null,
            "_view_module": "@jupyter-widgets/controls",
            "_view_module_version": "1.5.0",
            "_view_name": "HTMLView",
            "description": "",
            "description_tooltip": null,
            "layout": "IPY_MODEL_2fca90cbd0c845f5a9101908511367a4",
            "placeholder": "​",
            "style": "IPY_MODEL_575b73a8935d444f9a39517ca96065db",
            "value": " 2.12G/2.12G [55:37&lt;00:00, 729kB/s]"
          }
        },
        "c4e14bca4e59463abbfba3d91a834e8f": {
          "model_module": "@jupyter-widgets/base",
          "model_name": "LayoutModel",
          "model_module_version": "1.2.0",
          "state": {
            "_model_module": "@jupyter-widgets/base",
            "_model_module_version": "1.2.0",
            "_model_name": "LayoutModel",
            "_view_count": null,
            "_view_module": "@jupyter-widgets/base",
            "_view_module_version": "1.2.0",
            "_view_name": "LayoutView",
            "align_content": null,
            "align_items": null,
            "align_self": null,
            "border": null,
            "bottom": null,
            "display": null,
            "flex": null,
            "flex_flow": null,
            "grid_area": null,
            "grid_auto_columns": null,
            "grid_auto_flow": null,
            "grid_auto_rows": null,
            "grid_column": null,
            "grid_gap": null,
            "grid_row": null,
            "grid_template_areas": null,
            "grid_template_columns": null,
            "grid_template_rows": null,
            "height": null,
            "justify_content": null,
            "justify_items": null,
            "left": null,
            "margin": null,
            "max_height": null,
            "max_width": null,
            "min_height": null,
            "min_width": null,
            "object_fit": null,
            "object_position": null,
            "order": null,
            "overflow": null,
            "overflow_x": null,
            "overflow_y": null,
            "padding": null,
            "right": null,
            "top": null,
            "visibility": null,
            "width": null
          }
        },
        "46257d9c4c09459a8981ac2b1e9c3718": {
          "model_module": "@jupyter-widgets/base",
          "model_name": "LayoutModel",
          "model_module_version": "1.2.0",
          "state": {
            "_model_module": "@jupyter-widgets/base",
            "_model_module_version": "1.2.0",
            "_model_name": "LayoutModel",
            "_view_count": null,
            "_view_module": "@jupyter-widgets/base",
            "_view_module_version": "1.2.0",
            "_view_name": "LayoutView",
            "align_content": null,
            "align_items": null,
            "align_self": null,
            "border": null,
            "bottom": null,
            "display": null,
            "flex": null,
            "flex_flow": null,
            "grid_area": null,
            "grid_auto_columns": null,
            "grid_auto_flow": null,
            "grid_auto_rows": null,
            "grid_column": null,
            "grid_gap": null,
            "grid_row": null,
            "grid_template_areas": null,
            "grid_template_columns": null,
            "grid_template_rows": null,
            "height": null,
            "justify_content": null,
            "justify_items": null,
            "left": null,
            "margin": null,
            "max_height": null,
            "max_width": null,
            "min_height": null,
            "min_width": null,
            "object_fit": null,
            "object_position": null,
            "order": null,
            "overflow": null,
            "overflow_x": null,
            "overflow_y": null,
            "padding": null,
            "right": null,
            "top": null,
            "visibility": null,
            "width": null
          }
        },
        "6673b01193764cc7a81387eddf448536": {
          "model_module": "@jupyter-widgets/controls",
          "model_name": "DescriptionStyleModel",
          "model_module_version": "1.5.0",
          "state": {
            "_model_module": "@jupyter-widgets/controls",
            "_model_module_version": "1.5.0",
            "_model_name": "DescriptionStyleModel",
            "_view_count": null,
            "_view_module": "@jupyter-widgets/base",
            "_view_module_version": "1.2.0",
            "_view_name": "StyleView",
            "description_width": ""
          }
        },
        "f605ff9f5088409daeb4dee9eac4d0dd": {
          "model_module": "@jupyter-widgets/base",
          "model_name": "LayoutModel",
          "model_module_version": "1.2.0",
          "state": {
            "_model_module": "@jupyter-widgets/base",
            "_model_module_version": "1.2.0",
            "_model_name": "LayoutModel",
            "_view_count": null,
            "_view_module": "@jupyter-widgets/base",
            "_view_module_version": "1.2.0",
            "_view_name": "LayoutView",
            "align_content": null,
            "align_items": null,
            "align_self": null,
            "border": null,
            "bottom": null,
            "display": null,
            "flex": null,
            "flex_flow": null,
            "grid_area": null,
            "grid_auto_columns": null,
            "grid_auto_flow": null,
            "grid_auto_rows": null,
            "grid_column": null,
            "grid_gap": null,
            "grid_row": null,
            "grid_template_areas": null,
            "grid_template_columns": null,
            "grid_template_rows": null,
            "height": null,
            "justify_content": null,
            "justify_items": null,
            "left": null,
            "margin": null,
            "max_height": null,
            "max_width": null,
            "min_height": null,
            "min_width": null,
            "object_fit": null,
            "object_position": null,
            "order": null,
            "overflow": null,
            "overflow_x": null,
            "overflow_y": null,
            "padding": null,
            "right": null,
            "top": null,
            "visibility": null,
            "width": null
          }
        },
        "92fa7efa42c747b3bd37843976823a12": {
          "model_module": "@jupyter-widgets/controls",
          "model_name": "ProgressStyleModel",
          "model_module_version": "1.5.0",
          "state": {
            "_model_module": "@jupyter-widgets/controls",
            "_model_module_version": "1.5.0",
            "_model_name": "ProgressStyleModel",
            "_view_count": null,
            "_view_module": "@jupyter-widgets/base",
            "_view_module_version": "1.2.0",
            "_view_name": "StyleView",
            "bar_color": null,
            "description_width": ""
          }
        },
        "2fca90cbd0c845f5a9101908511367a4": {
          "model_module": "@jupyter-widgets/base",
          "model_name": "LayoutModel",
          "model_module_version": "1.2.0",
          "state": {
            "_model_module": "@jupyter-widgets/base",
            "_model_module_version": "1.2.0",
            "_model_name": "LayoutModel",
            "_view_count": null,
            "_view_module": "@jupyter-widgets/base",
            "_view_module_version": "1.2.0",
            "_view_name": "LayoutView",
            "align_content": null,
            "align_items": null,
            "align_self": null,
            "border": null,
            "bottom": null,
            "display": null,
            "flex": null,
            "flex_flow": null,
            "grid_area": null,
            "grid_auto_columns": null,
            "grid_auto_flow": null,
            "grid_auto_rows": null,
            "grid_column": null,
            "grid_gap": null,
            "grid_row": null,
            "grid_template_areas": null,
            "grid_template_columns": null,
            "grid_template_rows": null,
            "height": null,
            "justify_content": null,
            "justify_items": null,
            "left": null,
            "margin": null,
            "max_height": null,
            "max_width": null,
            "min_height": null,
            "min_width": null,
            "object_fit": null,
            "object_position": null,
            "order": null,
            "overflow": null,
            "overflow_x": null,
            "overflow_y": null,
            "padding": null,
            "right": null,
            "top": null,
            "visibility": null,
            "width": null
          }
        },
        "575b73a8935d444f9a39517ca96065db": {
          "model_module": "@jupyter-widgets/controls",
          "model_name": "DescriptionStyleModel",
          "model_module_version": "1.5.0",
          "state": {
            "_model_module": "@jupyter-widgets/controls",
            "_model_module_version": "1.5.0",
            "_model_name": "DescriptionStyleModel",
            "_view_count": null,
            "_view_module": "@jupyter-widgets/base",
            "_view_module_version": "1.2.0",
            "_view_name": "StyleView",
            "description_width": ""
          }
        }
      }
    }
  },
  "cells": [
    {
      "cell_type": "code",
      "metadata": {
        "colab": {
          "base_uri": "https://localhost:8080/"
        },
        "id": "7924c57e",
        "outputId": "9071e844-ef67-41ae-9d8b-86d267d494ec"
      },
      "source": [
        "!pip install transformers"
      ],
      "id": "7924c57e",
      "execution_count": null,
      "outputs": [
        {
          "name": "stdout",
          "output_type": "stream",
          "text": [
            "Collecting transformers\n",
            "  Downloading transformers-4.11.3-py3-none-any.whl (2.9 MB)\n",
            "\u001b[K     |████████████████████████████████| 2.9 MB 5.2 MB/s \n",
            "\u001b[?25hRequirement already satisfied: filelock in /usr/local/lib/python3.7/dist-packages (from transformers) (3.3.0)\n",
            "Collecting tokenizers<0.11,>=0.10.1\n",
            "  Downloading tokenizers-0.10.3-cp37-cp37m-manylinux_2_5_x86_64.manylinux1_x86_64.manylinux_2_12_x86_64.manylinux2010_x86_64.whl (3.3 MB)\n",
            "\u001b[K     |████████████████████████████████| 3.3 MB 38.7 MB/s \n",
            "\u001b[?25hRequirement already satisfied: requests in /usr/local/lib/python3.7/dist-packages (from transformers) (2.23.0)\n",
            "Requirement already satisfied: tqdm>=4.27 in /usr/local/lib/python3.7/dist-packages (from transformers) (4.62.3)\n",
            "Collecting sacremoses\n",
            "  Downloading sacremoses-0.0.46-py3-none-any.whl (895 kB)\n",
            "\u001b[K     |████████████████████████████████| 895 kB 57.1 MB/s \n",
            "\u001b[?25hCollecting huggingface-hub>=0.0.17\n",
            "  Downloading huggingface_hub-0.0.19-py3-none-any.whl (56 kB)\n",
            "\u001b[K     |████████████████████████████████| 56 kB 4.7 MB/s \n",
            "\u001b[?25hRequirement already satisfied: regex!=2019.12.17 in /usr/local/lib/python3.7/dist-packages (from transformers) (2019.12.20)\n",
            "Collecting pyyaml>=5.1\n",
            "  Downloading PyYAML-6.0-cp37-cp37m-manylinux_2_5_x86_64.manylinux1_x86_64.manylinux_2_12_x86_64.manylinux2010_x86_64.whl (596 kB)\n",
            "\u001b[K     |████████████████████████████████| 596 kB 37.1 MB/s \n",
            "\u001b[?25hRequirement already satisfied: importlib-metadata in /usr/local/lib/python3.7/dist-packages (from transformers) (4.8.1)\n",
            "Requirement already satisfied: packaging>=20.0 in /usr/local/lib/python3.7/dist-packages (from transformers) (21.0)\n",
            "Requirement already satisfied: numpy>=1.17 in /usr/local/lib/python3.7/dist-packages (from transformers) (1.19.5)\n",
            "Requirement already satisfied: typing-extensions in /usr/local/lib/python3.7/dist-packages (from huggingface-hub>=0.0.17->transformers) (3.7.4.3)\n",
            "Requirement already satisfied: pyparsing>=2.0.2 in /usr/local/lib/python3.7/dist-packages (from packaging>=20.0->transformers) (2.4.7)\n",
            "Requirement already satisfied: zipp>=0.5 in /usr/local/lib/python3.7/dist-packages (from importlib-metadata->transformers) (3.6.0)\n",
            "Requirement already satisfied: certifi>=2017.4.17 in /usr/local/lib/python3.7/dist-packages (from requests->transformers) (2021.5.30)\n",
            "Requirement already satisfied: idna<3,>=2.5 in /usr/local/lib/python3.7/dist-packages (from requests->transformers) (2.10)\n",
            "Requirement already satisfied: urllib3!=1.25.0,!=1.25.1,<1.26,>=1.21.1 in /usr/local/lib/python3.7/dist-packages (from requests->transformers) (1.24.3)\n",
            "Requirement already satisfied: chardet<4,>=3.0.2 in /usr/local/lib/python3.7/dist-packages (from requests->transformers) (3.0.4)\n",
            "Requirement already satisfied: click in /usr/local/lib/python3.7/dist-packages (from sacremoses->transformers) (7.1.2)\n",
            "Requirement already satisfied: six in /usr/local/lib/python3.7/dist-packages (from sacremoses->transformers) (1.15.0)\n",
            "Requirement already satisfied: joblib in /usr/local/lib/python3.7/dist-packages (from sacremoses->transformers) (1.0.1)\n",
            "Installing collected packages: pyyaml, tokenizers, sacremoses, huggingface-hub, transformers\n",
            "  Attempting uninstall: pyyaml\n",
            "    Found existing installation: PyYAML 3.13\n",
            "    Uninstalling PyYAML-3.13:\n",
            "      Successfully uninstalled PyYAML-3.13\n",
            "Successfully installed huggingface-hub-0.0.19 pyyaml-6.0 sacremoses-0.0.46 tokenizers-0.10.3 transformers-4.11.3\n"
          ]
        }
      ]
    },
    {
      "cell_type": "code",
      "metadata": {
        "colab": {
          "base_uri": "https://localhost:8080/"
        },
        "id": "e3360cde",
        "outputId": "3207e53d-d600-4035-b96a-c864b36fa0b5"
      },
      "source": [
        "pip install sentencepiece"
      ],
      "id": "e3360cde",
      "execution_count": null,
      "outputs": [
        {
          "name": "stdout",
          "output_type": "stream",
          "text": [
            "Collecting sentencepiece\n",
            "  Downloading sentencepiece-0.1.96-cp37-cp37m-manylinux_2_17_x86_64.manylinux2014_x86_64.whl (1.2 MB)\n",
            "\u001b[K     |████████████████████████████████| 1.2 MB 5.2 MB/s \n",
            "\u001b[?25hInstalling collected packages: sentencepiece\n",
            "Successfully installed sentencepiece-0.1.96\n"
          ]
        }
      ]
    },
    {
      "cell_type": "code",
      "metadata": {
        "colab": {
          "base_uri": "https://localhost:8080/"
        },
        "id": "47ccbe66",
        "scrolled": true,
        "outputId": "4a62e26f-1ffc-4406-fb7a-1c79625a901b"
      },
      "source": [
        "pip install torch==1.9.1+cpu torchvision==0.10.1+cpu torchaudio==0.9.1 -f https://download.pytorch.org/whl/torch_stable.html"
      ],
      "id": "47ccbe66",
      "execution_count": null,
      "outputs": [
        {
          "name": "stdout",
          "output_type": "stream",
          "text": [
            "Looking in links: https://download.pytorch.org/whl/torch_stable.html\n",
            "Collecting torch==1.9.1+cpu\n",
            "  Downloading https://download.pytorch.org/whl/cpu/torch-1.9.1%2Bcpu-cp37-cp37m-linux_x86_64.whl (175.4 MB)\n",
            "\u001b[K     |████████████████████████████████| 175.4 MB 25 kB/s \n",
            "\u001b[?25hCollecting torchvision==0.10.1+cpu\n",
            "  Downloading https://download.pytorch.org/whl/cpu/torchvision-0.10.1%2Bcpu-cp37-cp37m-linux_x86_64.whl (15.7 MB)\n",
            "\u001b[K     |████████████████████████████████| 15.7 MB 21 kB/s \n",
            "\u001b[?25hCollecting torchaudio==0.9.1\n",
            "  Downloading torchaudio-0.9.1-cp37-cp37m-manylinux1_x86_64.whl (1.9 MB)\n",
            "\u001b[K     |████████████████████████████████| 1.9 MB 5.4 MB/s \n",
            "\u001b[?25hRequirement already satisfied: typing-extensions in /usr/local/lib/python3.7/dist-packages (from torch==1.9.1+cpu) (3.7.4.3)\n",
            "Requirement already satisfied: numpy in /usr/local/lib/python3.7/dist-packages (from torchvision==0.10.1+cpu) (1.19.5)\n",
            "Requirement already satisfied: pillow>=5.3.0 in /usr/local/lib/python3.7/dist-packages (from torchvision==0.10.1+cpu) (7.1.2)\n",
            "Installing collected packages: torch, torchvision, torchaudio\n",
            "  Attempting uninstall: torch\n",
            "    Found existing installation: torch 1.9.0+cu111\n",
            "    Uninstalling torch-1.9.0+cu111:\n",
            "      Successfully uninstalled torch-1.9.0+cu111\n",
            "  Attempting uninstall: torchvision\n",
            "    Found existing installation: torchvision 0.10.0+cu111\n",
            "    Uninstalling torchvision-0.10.0+cu111:\n",
            "      Successfully uninstalled torchvision-0.10.0+cu111\n",
            "\u001b[31mERROR: pip's dependency resolver does not currently take into account all the packages that are installed. This behaviour is the source of the following dependency conflicts.\n",
            "torchtext 0.10.0 requires torch==1.9.0, but you have torch 1.9.1+cpu which is incompatible.\u001b[0m\n",
            "Successfully installed torch-1.9.1+cpu torchaudio-0.9.1 torchvision-0.10.1+cpu\n"
          ]
        }
      ]
    },
    {
      "cell_type": "markdown",
      "metadata": {
        "id": "e60574ed"
      },
      "source": [
        "**Setup Sumarization Model**"
      ],
      "id": "e60574ed"
    },
    {
      "cell_type": "code",
      "metadata": {
        "colab": {
          "base_uri": "https://localhost:8080/"
        },
        "id": "98234e5d-180e-41d3-87ae-8e25b10541ce",
        "scrolled": true,
        "outputId": "fd88c781-9135-47f1-a80c-3fcad8ed400e"
      },
      "source": [
        "!pip install PyTorch"
      ],
      "id": "98234e5d-180e-41d3-87ae-8e25b10541ce",
      "execution_count": null,
      "outputs": [
        {
          "name": "stdout",
          "output_type": "stream",
          "text": [
            "Collecting PyTorch\n",
            "  Downloading pytorch-1.0.2.tar.gz (689 bytes)\n",
            "Building wheels for collected packages: PyTorch\n",
            "  Building wheel for PyTorch (setup.py) ... \u001b[?25lerror\n",
            "\u001b[31m  ERROR: Failed building wheel for PyTorch\u001b[0m\n",
            "\u001b[?25h  Running setup.py clean for PyTorch\n",
            "Failed to build PyTorch\n",
            "Installing collected packages: PyTorch\n",
            "    Running setup.py install for PyTorch ... \u001b[?25l\u001b[?25herror\n",
            "\u001b[31mERROR: Command errored out with exit status 1: /usr/bin/python3 -u -c 'import io, os, sys, setuptools, tokenize; sys.argv[0] = '\"'\"'/tmp/pip-install-2ylo235l/pytorch_a575aa68173d4e2190abcf8c35ab7d35/setup.py'\"'\"'; __file__='\"'\"'/tmp/pip-install-2ylo235l/pytorch_a575aa68173d4e2190abcf8c35ab7d35/setup.py'\"'\"';f = getattr(tokenize, '\"'\"'open'\"'\"', open)(__file__) if os.path.exists(__file__) else io.StringIO('\"'\"'from setuptools import setup; setup()'\"'\"');code = f.read().replace('\"'\"'\\r\\n'\"'\"', '\"'\"'\\n'\"'\"');f.close();exec(compile(code, __file__, '\"'\"'exec'\"'\"'))' install --record /tmp/pip-record-ui93k_m4/install-record.txt --single-version-externally-managed --compile --install-headers /usr/local/include/python3.7/PyTorch Check the logs for full command output.\u001b[0m\n"
          ]
        }
      ]
    },
    {
      "cell_type": "code",
      "metadata": {
        "id": "d45306e1"
      },
      "source": [
        "from transformers import PegasusTokenizer, PegasusForConditionalGeneration\n",
        "from bs4 import BeautifulSoup\n",
        "import requests"
      ],
      "id": "d45306e1",
      "execution_count": null,
      "outputs": []
    },
    {
      "cell_type": "code",
      "metadata": {
        "colab": {
          "base_uri": "https://localhost:8080/",
          "height": 177,
          "referenced_widgets": [
            "dd93a74ca8ed4f0d8e2af41c598a1818",
            "bb885d96979942c5abbcb21fe8a5736e",
            "add2ec45ee074255bcec7fe0c742b0c2",
            "0aa61aeb04c7409a815897b00794e5ed",
            "f92792b226524893844764256d31933a",
            "8a58618949d744e786554770a1ea1a71",
            "9934c9449ef141b4bd13dc58f34d7c94",
            "043747ec9ab948c185ede78001657824",
            "482da33045a149689830aa92684f6a7f",
            "00bbc8b20b804e55aee73ebea2e6f4e6",
            "752b0cba9f4644c4aa828668f2f3330e",
            "359a919933534870ae3258eb68b75da6",
            "acc0082f407a48649a4b254211d0d5b1",
            "1da5d2476e5d42b180468fc02891ac81",
            "b450c818a13f441c8b29c2ca0b90b6a5",
            "e7aa01273ef742d5a2b5344c0325dde9",
            "ca58d09c90e348aa891f70777af2b585",
            "60bea1d2a57846fc935261efd198995c",
            "49b7ec4156d8472b9ed3fea43077164d",
            "a18d22649aed463993ce21ed251f7dc9",
            "df15ed6d047d45d5a1917a3282dae384",
            "8679c2df47f94c5e93bb13def38f3cbc",
            "b06a8dc20fce4b84bd6be6666315d6ad",
            "fc93bd2f82ce45f9bca304e95ec33d5a",
            "8b95869491524c7bb84c74047a8353a1",
            "f2d95799db3e4f7b9343e5a1393c4247",
            "aebc2a826d904787960f5548194966ee",
            "5d9ad6f18bd84a088fe9a586224fa85f",
            "6b2d7884f4dc404c87c11967e74d7434",
            "f271864fc5c7491199807fc69eedc7eb",
            "f41e6e2422b244268a36cdc60ee67a8c",
            "9b8ade141798408c83cfe2b8aea3224c",
            "6b0ba4a9bb4146039c054f0c22b19d06",
            "7491d95860534aa798755db185d81091",
            "1a7b4e0aba0c46c68a9aef1493bbe2d4",
            "08174e03216444389891235701f6ddc4",
            "07f980a22f2e4385b9e949f5d1334a7d",
            "d0077892af37470d9aa079e8d6bc2e27",
            "38cbd8c05cd7456ca937d908b1b5bb0d",
            "ee07e946d4124c6482da87e393fd2f07",
            "9b78fa2449bf4a14a47053649d349fab",
            "e0cda9b34848409a85f00308032182c2",
            "f00e992e2c68416ab55e7f04ccde20bb",
            "7f2acfcd324545b1aae21d1072f252a8",
            "07ef7eb33ea4499695d2391b68103d19",
            "67eb8ca454014ef3883b22bf1e35b823",
            "2006243a194645c2aa52760ac8204966",
            "e145f03dc70f4135b6f3982048661dbf",
            "c4e14bca4e59463abbfba3d91a834e8f",
            "46257d9c4c09459a8981ac2b1e9c3718",
            "6673b01193764cc7a81387eddf448536",
            "f605ff9f5088409daeb4dee9eac4d0dd",
            "92fa7efa42c747b3bd37843976823a12",
            "2fca90cbd0c845f5a9101908511367a4",
            "575b73a8935d444f9a39517ca96065db"
          ]
        },
        "id": "4d622436",
        "outputId": "a6d1e86d-7a45-4d78-fbaa-128f682e8a4e"
      },
      "source": [
        "model_name = \"human-centered-summarization/financial-summarization-pegasus\"\n",
        "tokenizer = PegasusTokenizer.from_pretrained(model_name)\n",
        "model = PegasusForConditionalGeneration.from_pretrained(model_name)"
      ],
      "id": "4d622436",
      "execution_count": null,
      "outputs": [
        {
          "data": {
            "application/vnd.jupyter.widget-view+json": {
              "model_id": "dd93a74ca8ed4f0d8e2af41c598a1818",
              "version_major": 2,
              "version_minor": 0
            },
            "text/plain": [
              "Downloading:   0%|          | 0.00/1.82M [00:00<?, ?B/s]"
            ]
          },
          "metadata": {},
          "output_type": "display_data"
        },
        {
          "data": {
            "application/vnd.jupyter.widget-view+json": {
              "model_id": "359a919933534870ae3258eb68b75da6",
              "version_major": 2,
              "version_minor": 0
            },
            "text/plain": [
              "Downloading:   0%|          | 0.00/1.31k [00:00<?, ?B/s]"
            ]
          },
          "metadata": {},
          "output_type": "display_data"
        },
        {
          "data": {
            "application/vnd.jupyter.widget-view+json": {
              "model_id": "b06a8dc20fce4b84bd6be6666315d6ad",
              "version_major": 2,
              "version_minor": 0
            },
            "text/plain": [
              "Downloading:   0%|          | 0.00/1.40k [00:00<?, ?B/s]"
            ]
          },
          "metadata": {},
          "output_type": "display_data"
        },
        {
          "data": {
            "application/vnd.jupyter.widget-view+json": {
              "model_id": "7491d95860534aa798755db185d81091",
              "version_major": 2,
              "version_minor": 0
            },
            "text/plain": [
              "Downloading:   0%|          | 0.00/1.24k [00:00<?, ?B/s]"
            ]
          },
          "metadata": {},
          "output_type": "display_data"
        },
        {
          "data": {
            "application/vnd.jupyter.widget-view+json": {
              "model_id": "07ef7eb33ea4499695d2391b68103d19",
              "version_major": 2,
              "version_minor": 0
            },
            "text/plain": [
              "Downloading:   0%|          | 0.00/2.12G [00:00<?, ?B/s]"
            ]
          },
          "metadata": {},
          "output_type": "display_data"
        }
      ]
    },
    {
      "cell_type": "markdown",
      "metadata": {
        "id": "ff2db0b3"
      },
      "source": [
        "Testing summarize a single article\n",
        "https://finance.yahoo.com/news/bitcoin-price-prediction-bulls-eye-114742508.html"
      ],
      "id": "ff2db0b3"
    },
    {
      "cell_type": "code",
      "metadata": {
        "id": "72c4b05f"
      },
      "source": [
        "url = \"https://finance.yahoo.com/news/bitcoin-price-prediction-bulls-eye-114742508.html\"\n",
        "r = requests.get(url)\n",
        "soup = BeautifulSoup(r.text, 'html.parser')\n",
        "paragraphs = soup.find_all('p')"
      ],
      "id": "72c4b05f",
      "execution_count": null,
      "outputs": []
    },
    {
      "cell_type": "code",
      "metadata": {
        "colab": {
          "base_uri": "https://localhost:8080/",
          "height": 37
        },
        "id": "c8f81c41",
        "outputId": "a3055e57-e83a-41d9-b1dc-b8a4e90ccc3f"
      },
      "source": [
        "paragraphs[1].text"
      ],
      "id": "c8f81c41",
      "execution_count": null,
      "outputs": [
        {
          "data": {
            "application/vnd.google.colaboratory.intrinsic+json": {
              "type": "string"
            },
            "text/plain": [
              "'After a bullish day for Bitcoin and the majors on Wednesday, it’s been a broadly bullish Wednesday morning.'"
            ]
          },
          "execution_count": 8,
          "metadata": {},
          "output_type": "execute_result"
        }
      ]
    },
    {
      "cell_type": "code",
      "metadata": {
        "id": "cf182957"
      },
      "source": [
        "text = [paragraph.text for paragraph in paragraphs]\n",
        "words = ' '.join(text).split(' ')[:350]\n",
        "ARTICLE = ' '.join(words)"
      ],
      "id": "cf182957",
      "execution_count": null,
      "outputs": []
    },
    {
      "cell_type": "code",
      "metadata": {
        "colab": {
          "base_uri": "https://localhost:8080/",
          "height": 106
        },
        "id": "cd2bb45e",
        "outputId": "31f039a0-116f-4711-8de6-e5ed3269cb3c"
      },
      "source": [
        "ARTICLE"
      ],
      "id": "cd2bb45e",
      "execution_count": null,
      "outputs": [
        {
          "data": {
            "application/vnd.google.colaboratory.intrinsic+json": {
              "type": "string"
            },
            "text/plain": [
              "' After a bullish day for Bitcoin and the majors on Wednesday, it’s been a broadly bullish Wednesday morning. At the time of writing, Bitcoin, BTC to USD, was up by 3.75% to $43,086.1. A mixed start to the day saw Bitcoin fall to an early morning low $41,432.0 before making a move. Steering clear of the first major support level at $40,687, Bitcoin rallied to a mid-morning current day high $43,860. Bitcoin broke through the first major resistance level at $42,489 and the 38.2% FIB of $41,592. The early rally saw Bitcoin also break through the second major resistance level at $43,449 before revising sub-$43,000 levels. It has been a mixed morning for the broader crypto market. At the time of writing, Polkadot was down by 1.61% to buck the morning trend. It’s been a bullish morning for the rest of the majors, however. Chainlink (+3.92%), Ethereum (+3.81%), and Litecoin (+4.11%) set the morning pace. Binance Coin (+1.39%), Bitcoin Cash SV (+2.04%), Cardano’s ADA (+0.84%), Crypto.com Coin (+2.99%), and Ripple’s XRP (+1.07%) trailed the front runners, however. Through the early hours, the crypto total market cap fell to an early morning low $1,854bn before rising to a high $1,951bn. At the time of writing, the total market cap stood at $1,912bn. Bitcoin’s dominance fell to an early morning low 42.00% before rising to a high 42.44%. At the time of writing, Bitcoin’s dominance stood at 42.39%. Bitcoin would need to avoid a fall back through the first major resistance level at $42,489 to bring $44,000 levels back into play. Support from the broader market will be needed, however, for Bitcoin to break back through the second major resistance level at $43,449. Barring a broad-based crypto rebound, the second major resistance level and morning high $43,860.0 would likely cap any upside. In the event of an extended rally through the afternoon, Bitcoin could test resistance at $45,000 before any pullback. The third major resistance level sits at $45,251. A fall back through the first major resistance level and through the 38.2% FIB of $41,592 would bring the first major support'"
            ]
          },
          "execution_count": 10,
          "metadata": {},
          "output_type": "execute_result"
        }
      ]
    },
    {
      "cell_type": "code",
      "metadata": {
        "id": "bf59b38f"
      },
      "source": [
        "input_ids = tokenizer.encode(ARTICLE, return_tensors='pt')"
      ],
      "id": "bf59b38f",
      "execution_count": null,
      "outputs": []
    },
    {
      "cell_type": "code",
      "metadata": {
        "id": "27dd0093"
      },
      "source": [
        "output = model.generate(\n",
        "    input_ids, \n",
        "    max_length=55, \n",
        "    num_beams=5, \n",
        "    early_stopping=True\n",
        ")"
      ],
      "id": "27dd0093",
      "execution_count": null,
      "outputs": []
    },
    {
      "cell_type": "code",
      "metadata": {
        "id": "b4d2fb51"
      },
      "source": [
        "summary = tokenizer.decode(output[0], skip_special_tokens=True)"
      ],
      "id": "b4d2fb51",
      "execution_count": null,
      "outputs": []
    },
    {
      "cell_type": "code",
      "metadata": {
        "colab": {
          "base_uri": "https://localhost:8080/",
          "height": 37
        },
        "id": "f6f2bd89",
        "outputId": "49511852-b0b9-4f69-a2a5-29f95bc4d7dd"
      },
      "source": [
        "summary"
      ],
      "id": "f6f2bd89",
      "execution_count": null,
      "outputs": [
        {
          "data": {
            "application/vnd.google.colaboratory.intrinsic+json": {
              "type": "string"
            },
            "text/plain": [
              "'Largest cryptocurrency has rallied to a mid-morning high. Chainlink, Ethereum, and Litecoin set the morning pace'"
            ]
          },
          "execution_count": 14,
          "metadata": {},
          "output_type": "execute_result"
        }
      ]
    },
    {
      "cell_type": "markdown",
      "metadata": {
        "id": "31b297df"
      },
      "source": [
        "**Build Pipeline**"
      ],
      "id": "31b297df"
    },
    {
      "cell_type": "code",
      "metadata": {
        "id": "e1a59cfe"
      },
      "source": [
        "monitored_tickers = ['BTC', 'ETH', 'AVAX-USD']"
      ],
      "id": "e1a59cfe",
      "execution_count": null,
      "outputs": []
    },
    {
      "cell_type": "markdown",
      "metadata": {
        "id": "ee811b8f"
      },
      "source": [
        "\n",
        "**Search for news using Google & Yahoo Finance**"
      ],
      "id": "ee811b8f"
    },
    {
      "cell_type": "code",
      "metadata": {
        "id": "f1b67c60"
      },
      "source": [
        "def search_for_stock_news_urls(ticker):\n",
        "    search_url = \"https://www.google.com/search?q=yahoo+finance+{}&tbm=nws\".format(ticker)\n",
        "    r = requests.get(search_url)\n",
        "    soup = BeautifulSoup(r.text, 'html.parser')\n",
        "    atags = soup.find_all('a')\n",
        "    hrefs = [link['href'] for link in atags]\n",
        "    return hrefs"
      ],
      "id": "f1b67c60",
      "execution_count": null,
      "outputs": []
    },
    {
      "cell_type": "code",
      "metadata": {
        "colab": {
          "base_uri": "https://localhost:8080/"
        },
        "id": "012f3527",
        "outputId": "c0bad51c-7fa9-4443-e7e0-4593562aa623"
      },
      "source": [
        "raw_urls = {ticker:search_for_stock_news_urls(ticker) for ticker in monitored_tickers}\n",
        "raw_urls"
      ],
      "id": "012f3527",
      "execution_count": null,
      "outputs": [
        {
          "data": {
            "text/plain": [
              "{'AVAX-USD': ['/?sa=X&ved=0ahUKEwjApuKu-eTzAhV1sDEKHRHyBDAQOwgC',\n",
              "  '/?output=search&ie=UTF-8&tbm=nws&sa=X&ved=0ahUKEwjApuKu-eTzAhV1sDEKHRHyBDAQPAgE',\n",
              "  '/search?q=yahoo+finance+AVAX-USD&tbm=nws&ie=UTF-8&gbv=1&sei=gFB2YcDmDfXgxgGR5JOAAw',\n",
              "  '/search?q=yahoo+finance+AVAX-USD&ie=UTF-8&source=lnms&sa=X&ved=0ahUKEwjApuKu-eTzAhV1sDEKHRHyBDAQ_AUIBygA',\n",
              "  '/search?q=yahoo+finance+AVAX-USD&ie=UTF-8&tbm=shop&source=lnms&sa=X&ved=0ahUKEwjApuKu-eTzAhV1sDEKHRHyBDAQ_AUICSgC',\n",
              "  '/search?q=yahoo+finance+AVAX-USD&ie=UTF-8&tbm=isch&source=lnms&sa=X&ved=0ahUKEwjApuKu-eTzAhV1sDEKHRHyBDAQ_AUICigD',\n",
              "  'https://maps.google.com/maps?q=yahoo+finance+AVAX-USD&um=1&ie=UTF-8&sa=X&ved=0ahUKEwjApuKu-eTzAhV1sDEKHRHyBDAQ_AUICygE',\n",
              "  '/search?q=yahoo+finance+AVAX-USD&ie=UTF-8&tbm=vid&source=lnms&sa=X&ved=0ahUKEwjApuKu-eTzAhV1sDEKHRHyBDAQ_AUIDCgF',\n",
              "  '/search?q=yahoo+finance+AVAX-USD&ie=UTF-8&tbm=bks&source=lnms&sa=X&ved=0ahUKEwjApuKu-eTzAhV1sDEKHRHyBDAQ_AUIDSgG',\n",
              "  '/advanced_search',\n",
              "  '/search?q=yahoo+finance+AVAX-USD&ie=UTF-8&tbm=nws&source=lnt&tbs=qdr:h&sa=X&ved=0ahUKEwjApuKu-eTzAhV1sDEKHRHyBDAQpwUIDw',\n",
              "  '/search?q=yahoo+finance+AVAX-USD&ie=UTF-8&tbm=nws&source=lnt&tbs=qdr:d&sa=X&ved=0ahUKEwjApuKu-eTzAhV1sDEKHRHyBDAQpwUIEA',\n",
              "  '/search?q=yahoo+finance+AVAX-USD&ie=UTF-8&tbm=nws&source=lnt&tbs=qdr:w&sa=X&ved=0ahUKEwjApuKu-eTzAhV1sDEKHRHyBDAQpwUIEQ',\n",
              "  '/search?q=yahoo+finance+AVAX-USD&ie=UTF-8&tbm=nws&source=lnt&tbs=qdr:m&sa=X&ved=0ahUKEwjApuKu-eTzAhV1sDEKHRHyBDAQpwUIEg',\n",
              "  '/search?q=yahoo+finance+AVAX-USD&ie=UTF-8&tbm=nws&source=lnt&tbs=qdr:y&sa=X&ved=0ahUKEwjApuKu-eTzAhV1sDEKHRHyBDAQpwUIEw',\n",
              "  '/search?q=yahoo+finance+AVAX-USD&ie=UTF-8&tbm=nws&source=lnt&tbs=ar:1&sa=X&ved=0ahUKEwjApuKu-eTzAhV1sDEKHRHyBDAQpwUIFA',\n",
              "  '/search?q=yahoo+finance+AVAX-USD&ie=UTF-8&tbm=nws&source=lnt&tbs=sbd:1&sa=X&ved=0ahUKEwjApuKu-eTzAhV1sDEKHRHyBDAQpwUIFg',\n",
              "  '/url?q=https://finance.yahoo.com/news/coinbase-launch-avax-trading-ahead-144417569.html&sa=U&ved=2ahUKEwjApuKu-eTzAhV1sDEKHRHyBDAQxfQBegQIAhAB&usg=AOvVaw3UIrIUrXqee-0zB1JX8x28',\n",
              "  '/url?q=https://finance.yahoo.com/news/coinbase-launch-avax-trading-ahead-144417569.html&sa=U&ved=2ahUKEwjApuKu-eTzAhV1sDEKHRHyBDAQ0Y8FegQIAhAC&usg=AOvVaw15PgNpxN2dBtcFxDUhZbvA',\n",
              "  '/url?q=https://finance.yahoo.com/news/24-old-gen-zer-became-100000997.html&sa=U&ved=2ahUKEwjApuKu-eTzAhV1sDEKHRHyBDAQxfQBegQIBxAB&usg=AOvVaw2lnrjMYVhRQSzhGYCrJPCY',\n",
              "  '/url?q=https://finance.yahoo.com/news/24-old-gen-zer-became-100000997.html&sa=U&ved=2ahUKEwjApuKu-eTzAhV1sDEKHRHyBDAQ0Y8FegQIBxAC&usg=AOvVaw3P9p6TuaZ2mWRu_JgTC0rT',\n",
              "  '/url?q=https://markets.businessinsider.com/news/currencies/altcoin-outlook-cryptocurrencies-q4-polygon-boost-cro-solana-cardano-avalanche-2021-10&sa=U&ved=2ahUKEwjApuKu-eTzAhV1sDEKHRHyBDAQxfQBegQICBAB&usg=AOvVaw1iwuiOpIlD6IvnVALK1FsD',\n",
              "  '/url?q=https://markets.businessinsider.com/news/currencies/altcoin-outlook-cryptocurrencies-q4-polygon-boost-cro-solana-cardano-avalanche-2021-10&sa=U&ved=2ahUKEwjApuKu-eTzAhV1sDEKHRHyBDAQ0Y8FegQICBAC&usg=AOvVaw21VawYjv97OnIc7ybk-ACo',\n",
              "  '/url?q=https://finance.yahoo.com/news/avalanche-avax-token-jumps-180m-181749941.html&sa=U&ved=2ahUKEwjApuKu-eTzAhV1sDEKHRHyBDAQxfQBegQICRAB&usg=AOvVaw0ob9KAmfF0EdeGLrnDik6C',\n",
              "  '/url?q=https://finance.yahoo.com/news/avalanche-avax-token-jumps-180m-181749941.html&sa=U&ved=2ahUKEwjApuKu-eTzAhV1sDEKHRHyBDAQ0Y8FegQICRAC&usg=AOvVaw3s7kceQWazFmZk9UOM9pxr',\n",
              "  '/url?q=https://finance.yahoo.com/news/avalanche-keep-defi-users-rush-010114732.html&sa=U&ved=2ahUKEwjApuKu-eTzAhV1sDEKHRHyBDAQxfQBegQIBRAB&usg=AOvVaw1ItrrnVPDIgCPievv6oaOV',\n",
              "  '/url?q=https://finance.yahoo.com/news/avalanche-keep-defi-users-rush-010114732.html&sa=U&ved=2ahUKEwjApuKu-eTzAhV1sDEKHRHyBDAQ0Y8FegQIBRAC&usg=AOvVaw1jvuNUkuR2yy7GkMOZpzMh',\n",
              "  '/url?q=https://finance.yahoo.com/news/altcoins-rally-cryptocurrency-market-recovers-132636190.html&sa=U&ved=2ahUKEwjApuKu-eTzAhV1sDEKHRHyBDAQxfQBegQIAxAB&usg=AOvVaw09cJKFhw5iU9AihxcRmSIZ',\n",
              "  '/url?q=https://finance.yahoo.com/news/altcoins-rally-cryptocurrency-market-recovers-132636190.html&sa=U&ved=2ahUKEwjApuKu-eTzAhV1sDEKHRHyBDAQ0Y8FegQIAxAC&usg=AOvVaw1Nq3205qXqf4YOorFhR1ss',\n",
              "  '/url?q=https://finance.yahoo.com/news/bitcoin-testing-50-000-resistance-155820724.html&sa=U&ved=2ahUKEwjApuKu-eTzAhV1sDEKHRHyBDAQxfQBegQIARAB&usg=AOvVaw02tP8_SXR6BTVno6BobAg_',\n",
              "  '/url?q=https://finance.yahoo.com/news/bitcoin-testing-50-000-resistance-155820724.html&sa=U&ved=2ahUKEwjApuKu-eTzAhV1sDEKHRHyBDAQ0Y8FegQIARAC&usg=AOvVaw2fqhS3ayrAb84YevTUrKIC',\n",
              "  '/url?q=https://sg.finance.yahoo.com/news/hottest-crypto-coins-are-now-the-bitcoin-and-ether-alternatives-013823172.html&sa=U&ved=2ahUKEwjApuKu-eTzAhV1sDEKHRHyBDAQxfQBegQIBhAB&usg=AOvVaw3R2qyYcmnsq5eBP6j7w_1y',\n",
              "  '/url?q=https://sg.finance.yahoo.com/news/hottest-crypto-coins-are-now-the-bitcoin-and-ether-alternatives-013823172.html&sa=U&ved=2ahUKEwjApuKu-eTzAhV1sDEKHRHyBDAQ0Y8FegQIBhAC&usg=AOvVaw2MzVEwGS8oeMoTUbdJx1oH',\n",
              "  '/url?q=https://finance.yahoo.com/news/defi-amm-sushiswap-builds-avalanche-130101149.html&sa=U&ved=2ahUKEwjApuKu-eTzAhV1sDEKHRHyBDAQxfQBegQIBBAB&usg=AOvVaw0egUPn3bQQokLC_EnoydwG',\n",
              "  '/url?q=https://finance.yahoo.com/news/defi-amm-sushiswap-builds-avalanche-130101149.html&sa=U&ved=2ahUKEwjApuKu-eTzAhV1sDEKHRHyBDAQ0Y8FegQIBBAC&usg=AOvVaw38Xu889SL-CAyXd7wcFkcl',\n",
              "  '/url?q=https://finance.yahoo.com/news/market-wrap-bitcoin-trades-sideways-203648408.html&sa=U&ved=2ahUKEwjApuKu-eTzAhV1sDEKHRHyBDAQxfQBegQIABAB&usg=AOvVaw2vJnNJTeJQRa8e5iJYAUTX',\n",
              "  '/url?q=https://finance.yahoo.com/news/market-wrap-bitcoin-trades-sideways-203648408.html&sa=U&ved=2ahUKEwjApuKu-eTzAhV1sDEKHRHyBDAQ0Y8FegQIABAC&usg=AOvVaw0vCCGsOvf3RLCNuEG4YhvK',\n",
              "  '/search?q=yahoo+finance+AVAX-USD&ie=UTF-8&tbm=nws&ei=gFB2YcDmDfXgxgGR5JOAAw&start=10&sa=N',\n",
              "  '/url?q=https://support.google.com/websearch%3Fp%3Dws_settings_location%26hl%3Den&sa=U&ved=0ahUKEwjApuKu-eTzAhV1sDEKHRHyBDAQty4IVQ&usg=AOvVaw3iPKDPd6Wm0UBBT5-i_qSZ',\n",
              "  '/url?q=https://accounts.google.com/ServiceLogin%3Fcontinue%3Dhttps://www.google.com/search%253Fq%253Dyahoo%252Bfinance%252BAVAX-USD%2526tbm%253Dnws%26hl%3Den&sa=U&ved=0ahUKEwjApuKu-eTzAhV1sDEKHRHyBDAQxs8CCFY&usg=AOvVaw2AjE1d5SX-WdQalMmTAmiG',\n",
              "  'https://www.google.com/preferences?hl=en&fg=1&sa=X&ved=0ahUKEwjApuKu-eTzAhV1sDEKHRHyBDAQ5fUCCFc',\n",
              "  'https://policies.google.com/privacy?hl=en&fg=1',\n",
              "  'https://policies.google.com/terms?hl=en&fg=1'],\n",
              " 'BTC': ['/?sa=X&ved=0ahUKEwixs6au-eTzAhUdSDABHcHNBcwQOwgC',\n",
              "  '/?output=search&ie=UTF-8&tbm=nws&sa=X&ved=0ahUKEwixs6au-eTzAhUdSDABHcHNBcwQPAgE',\n",
              "  '/search?q=yahoo+finance+BTC&tbm=nws&ie=UTF-8&gbv=1&sei=f1B2YfH3Dp2QwbkPwZuX4Aw',\n",
              "  '/search?q=yahoo+finance+BTC&ie=UTF-8&source=lnms&sa=X&ved=0ahUKEwixs6au-eTzAhUdSDABHcHNBcwQ_AUIBygA',\n",
              "  '/search?q=yahoo+finance+BTC&ie=UTF-8&tbm=shop&source=lnms&sa=X&ved=0ahUKEwixs6au-eTzAhUdSDABHcHNBcwQ_AUICSgC',\n",
              "  '/search?q=yahoo+finance+BTC&ie=UTF-8&tbm=vid&source=lnms&sa=X&ved=0ahUKEwixs6au-eTzAhUdSDABHcHNBcwQ_AUICigD',\n",
              "  '/search?q=yahoo+finance+BTC&ie=UTF-8&tbm=isch&source=lnms&sa=X&ved=0ahUKEwixs6au-eTzAhUdSDABHcHNBcwQ_AUICygE',\n",
              "  'https://maps.google.com/maps?q=yahoo+finance+BTC&um=1&ie=UTF-8&sa=X&ved=0ahUKEwixs6au-eTzAhUdSDABHcHNBcwQ_AUIDCgF',\n",
              "  '/search?q=yahoo+finance+BTC&ie=UTF-8&tbm=bks&source=lnms&sa=X&ved=0ahUKEwixs6au-eTzAhUdSDABHcHNBcwQ_AUIDSgG',\n",
              "  '/advanced_search',\n",
              "  '/search?q=yahoo+finance+BTC&ie=UTF-8&tbm=nws&source=lnt&tbs=qdr:h&sa=X&ved=0ahUKEwixs6au-eTzAhUdSDABHcHNBcwQpwUIDw',\n",
              "  '/search?q=yahoo+finance+BTC&ie=UTF-8&tbm=nws&source=lnt&tbs=qdr:d&sa=X&ved=0ahUKEwixs6au-eTzAhUdSDABHcHNBcwQpwUIEA',\n",
              "  '/search?q=yahoo+finance+BTC&ie=UTF-8&tbm=nws&source=lnt&tbs=qdr:w&sa=X&ved=0ahUKEwixs6au-eTzAhUdSDABHcHNBcwQpwUIEQ',\n",
              "  '/search?q=yahoo+finance+BTC&ie=UTF-8&tbm=nws&source=lnt&tbs=qdr:m&sa=X&ved=0ahUKEwixs6au-eTzAhUdSDABHcHNBcwQpwUIEg',\n",
              "  '/search?q=yahoo+finance+BTC&ie=UTF-8&tbm=nws&source=lnt&tbs=qdr:y&sa=X&ved=0ahUKEwixs6au-eTzAhUdSDABHcHNBcwQpwUIEw',\n",
              "  '/search?q=yahoo+finance+BTC&ie=UTF-8&tbm=nws&source=lnt&tbs=ar:1&sa=X&ved=0ahUKEwixs6au-eTzAhUdSDABHcHNBcwQpwUIFA',\n",
              "  '/search?q=yahoo+finance+BTC&ie=UTF-8&tbm=nws&source=lnt&tbs=sbd:1&sa=X&ved=0ahUKEwixs6au-eTzAhUdSDABHcHNBcwQpwUIFg',\n",
              "  '/url?q=https://finance.yahoo.com/news/terraform-labs-sues-sec-over-subpoena-180203820.html&sa=U&ved=2ahUKEwixs6au-eTzAhUdSDABHcHNBcwQxfQBegQIBBAB&usg=AOvVaw0WqR3uMHvZnPxsH3f342dF',\n",
              "  '/url?q=https://finance.yahoo.com/news/terraform-labs-sues-sec-over-subpoena-180203820.html&sa=U&ved=2ahUKEwixs6au-eTzAhUdSDABHcHNBcwQ0Y8FegQIBBAC&usg=AOvVaw39eAhq0sHfrMxLG35uF_q0',\n",
              "  '/url?q=https://finance.yahoo.com/news/solana-eyes-200-mark-surpassing-182522177.html&sa=U&ved=2ahUKEwixs6au-eTzAhUdSDABHcHNBcwQxfQBegQICRAB&usg=AOvVaw0ZLPZMo6z3uWUfDtxSpZe2',\n",
              "  '/url?q=https://finance.yahoo.com/news/solana-eyes-200-mark-surpassing-182522177.html&sa=U&ved=2ahUKEwixs6au-eTzAhUdSDABHcHNBcwQ0Y8FegQICRAC&usg=AOvVaw1zVSUGBXc9cHLROvLLTFZc',\n",
              "  '/url?q=https://finance.yahoo.com/news/cme-volume-gets-pumped-bitcoin-155000606.html&sa=U&ved=2ahUKEwixs6au-eTzAhUdSDABHcHNBcwQxfQBegQICBAB&usg=AOvVaw2nng_9UbNXjDT-gWw7wd8Y',\n",
              "  '/url?q=https://finance.yahoo.com/news/cme-volume-gets-pumped-bitcoin-155000606.html&sa=U&ved=2ahUKEwixs6au-eTzAhUdSDABHcHNBcwQ0Y8FegQICBAC&usg=AOvVaw2o7WwQSZ8xcWNNmP5R3aio',\n",
              "  '/url?q=https://finance.yahoo.com/amphtml/news/bitcoin-hit-2-milestones-week-100000636.html&sa=U&ved=2ahUKEwixs6au-eTzAhUdSDABHcHNBcwQxfQBegQIBxAB&usg=AOvVaw1DrObnN89a5y3IMEWyVan1',\n",
              "  '/url?q=https://finance.yahoo.com/amphtml/news/bitcoin-hit-2-milestones-week-100000636.html&sa=U&ved=2ahUKEwixs6au-eTzAhUdSDABHcHNBcwQ0Y8FegQIBxAC&usg=AOvVaw00zFXIRz1IS3gc7sZt-UnK',\n",
              "  '/url?q=https://finance.yahoo.com/news/crypto-daily-movers-shakers-october-002643200.html&sa=U&ved=2ahUKEwixs6au-eTzAhUdSDABHcHNBcwQxfQBegQIAxAB&usg=AOvVaw30RKZDZqKDpyNRbFm8VJpV',\n",
              "  '/url?q=https://finance.yahoo.com/news/crypto-daily-movers-shakers-october-002643200.html&sa=U&ved=2ahUKEwixs6au-eTzAhUdSDABHcHNBcwQ0Y8FegQIAxAC&usg=AOvVaw12If3Qq7lFsp2wOt_hIbHb',\n",
              "  '/url?q=https://finance.yahoo.com/news/crypto-venue-bets-trump-jlo-135159112.html&sa=U&ved=2ahUKEwixs6au-eTzAhUdSDABHcHNBcwQxfQBegQIBRAB&usg=AOvVaw154NV1BSxJYiyU6NQZtEta',\n",
              "  '/url?q=https://finance.yahoo.com/news/top-trump-regulator-determined-banks-211818891.html&sa=U&ved=2ahUKEwixs6au-eTzAhUdSDABHcHNBcwQxfQBegQIABAB&usg=AOvVaw3h6ts7m-m0nksQE3jxQJzI',\n",
              "  '/url?q=https://finance.yahoo.com/news/top-trump-regulator-determined-banks-211818891.html&sa=U&ved=2ahUKEwixs6au-eTzAhUdSDABHcHNBcwQ0Y8FegQIABAC&usg=AOvVaw0UUHiQWsDAdO67eM-UbLyv',\n",
              "  '/url?q=https://finance.yahoo.com/news/second-u-bitcoin-etf-launches-133837968.html&sa=U&ved=2ahUKEwixs6au-eTzAhUdSDABHcHNBcwQxfQBegQIBhAB&usg=AOvVaw2AkObuelURNYiHDWH0rbPs',\n",
              "  '/url?q=https://finance.yahoo.com/news/second-u-bitcoin-etf-launches-133837968.html&sa=U&ved=2ahUKEwixs6au-eTzAhUdSDABHcHNBcwQ0Y8FegQIBhAC&usg=AOvVaw3K78B7wCgxhNnalWxnNWuK',\n",
              "  '/url?q=https://finance.yahoo.com/news/bitcoin-record-breaking-week-ending-175104130.html&sa=U&ved=2ahUKEwixs6au-eTzAhUdSDABHcHNBcwQxfQBegQIAhAB&usg=AOvVaw2fpR306oycTEgqG664qA7b',\n",
              "  '/url?q=https://finance.yahoo.com/news/bitcoin-record-breaking-week-ending-175104130.html&sa=U&ved=2ahUKEwixs6au-eTzAhUdSDABHcHNBcwQ0Y8FegQIAhAC&usg=AOvVaw3XQ01K7Wol5CY8vKlO2SF3',\n",
              "  '/url?q=https://finance.yahoo.com/news/bitcoin-etf-demand-so-strong-we-could-bring-2-or-3-new-ones-to-market-valkyrie-ceo-193827132.html&sa=U&ved=2ahUKEwixs6au-eTzAhUdSDABHcHNBcwQxfQBegQIARAB&usg=AOvVaw3wE0bRVBJKlSadBYDyAxbo',\n",
              "  '/url?q=https://finance.yahoo.com/news/bitcoin-etf-demand-so-strong-we-could-bring-2-or-3-new-ones-to-market-valkyrie-ceo-193827132.html&sa=U&ved=2ahUKEwixs6au-eTzAhUdSDABHcHNBcwQ0Y8FegQIARAC&usg=AOvVaw2EHFsyILsscEbJuMoRGaWm',\n",
              "  '/search?q=yahoo+finance+BTC&ie=UTF-8&tbm=nws&ei=f1B2YfH3Dp2QwbkPwZuX4Aw&start=10&sa=N',\n",
              "  '/url?q=https://support.google.com/websearch%3Fp%3Dws_settings_location%26hl%3Den&sa=U&ved=0ahUKEwixs6au-eTzAhUdSDABHcHNBcwQty4IUw&usg=AOvVaw1O6eyFogaf8DibU_gQGM2W',\n",
              "  '/url?q=https://accounts.google.com/ServiceLogin%3Fcontinue%3Dhttps://www.google.com/search%253Fq%253Dyahoo%252Bfinance%252BBTC%2526tbm%253Dnws%26hl%3Den&sa=U&ved=0ahUKEwixs6au-eTzAhUdSDABHcHNBcwQxs8CCFQ&usg=AOvVaw1aY1DjTAodOOB2qD-71hZw',\n",
              "  'https://www.google.com/preferences?hl=en&fg=1&sa=X&ved=0ahUKEwixs6au-eTzAhUdSDABHcHNBcwQ5fUCCFU',\n",
              "  'https://policies.google.com/privacy?hl=en&fg=1',\n",
              "  'https://policies.google.com/terms?hl=en&fg=1'],\n",
              " 'ETH': ['/?sa=X&ved=0ahUKEwjm8cyu-eTzAhXoQjABHeVoDxwQOwgC',\n",
              "  '/?output=search&ie=UTF-8&tbm=nws&sa=X&ved=0ahUKEwjm8cyu-eTzAhXoQjABHeVoDxwQPAgE',\n",
              "  '/search?q=yahoo+finance+ETH&tbm=nws&ie=UTF-8&gbv=1&sei=f1B2Yaa2NeiFwbkP5dG94AE',\n",
              "  '/search?q=yahoo+finance+ETH&ie=UTF-8&source=lnms&sa=X&ved=0ahUKEwjm8cyu-eTzAhXoQjABHeVoDxwQ_AUIBygA',\n",
              "  '/search?q=yahoo+finance+ETH&ie=UTF-8&tbm=shop&source=lnms&sa=X&ved=0ahUKEwjm8cyu-eTzAhXoQjABHeVoDxwQ_AUICSgC',\n",
              "  '/search?q=yahoo+finance+ETH&ie=UTF-8&tbm=vid&source=lnms&sa=X&ved=0ahUKEwjm8cyu-eTzAhXoQjABHeVoDxwQ_AUICigD',\n",
              "  '/search?q=yahoo+finance+ETH&ie=UTF-8&tbm=isch&source=lnms&sa=X&ved=0ahUKEwjm8cyu-eTzAhXoQjABHeVoDxwQ_AUICygE',\n",
              "  'https://maps.google.com/maps?q=yahoo+finance+ETH&um=1&ie=UTF-8&sa=X&ved=0ahUKEwjm8cyu-eTzAhXoQjABHeVoDxwQ_AUIDCgF',\n",
              "  '/search?q=yahoo+finance+ETH&ie=UTF-8&tbm=bks&source=lnms&sa=X&ved=0ahUKEwjm8cyu-eTzAhXoQjABHeVoDxwQ_AUIDSgG',\n",
              "  '/advanced_search',\n",
              "  '/search?q=yahoo+finance+ETH&ie=UTF-8&tbm=nws&source=lnt&tbs=qdr:h&sa=X&ved=0ahUKEwjm8cyu-eTzAhXoQjABHeVoDxwQpwUIDw',\n",
              "  '/search?q=yahoo+finance+ETH&ie=UTF-8&tbm=nws&source=lnt&tbs=qdr:d&sa=X&ved=0ahUKEwjm8cyu-eTzAhXoQjABHeVoDxwQpwUIEA',\n",
              "  '/search?q=yahoo+finance+ETH&ie=UTF-8&tbm=nws&source=lnt&tbs=qdr:w&sa=X&ved=0ahUKEwjm8cyu-eTzAhXoQjABHeVoDxwQpwUIEQ',\n",
              "  '/search?q=yahoo+finance+ETH&ie=UTF-8&tbm=nws&source=lnt&tbs=qdr:m&sa=X&ved=0ahUKEwjm8cyu-eTzAhXoQjABHeVoDxwQpwUIEg',\n",
              "  '/search?q=yahoo+finance+ETH&ie=UTF-8&tbm=nws&source=lnt&tbs=qdr:y&sa=X&ved=0ahUKEwjm8cyu-eTzAhXoQjABHeVoDxwQpwUIEw',\n",
              "  '/search?q=yahoo+finance+ETH&ie=UTF-8&tbm=nws&source=lnt&tbs=ar:1&sa=X&ved=0ahUKEwjm8cyu-eTzAhXoQjABHeVoDxwQpwUIFA',\n",
              "  '/search?q=yahoo+finance+ETH&ie=UTF-8&tbm=nws&source=lnt&tbs=sbd:1&sa=X&ved=0ahUKEwjm8cyu-eTzAhXoQjABHeVoDxwQpwUIFg',\n",
              "  '/url?q=https://finance.yahoo.com/news/ethereum-litecoin-ripple-xrp-daily-002629006.html&sa=U&ved=2ahUKEwjm8cyu-eTzAhXoQjABHeVoDxwQxfQBegQIAxAB&usg=AOvVaw2LBa9fIYEtARps4zWjjxqs',\n",
              "  '/url?q=https://finance.yahoo.com/news/ethereum-litecoin-ripple-xrp-daily-002629006.html&sa=U&ved=2ahUKEwjm8cyu-eTzAhXoQjABHeVoDxwQ0Y8FegQIAxAC&usg=AOvVaw31trrkCOYb45DNBGGXNTeU',\n",
              "  '/url?q=https://finance.yahoo.com/news/ethereum-last-chance-low-risk-180709566.html&sa=U&ved=2ahUKEwjm8cyu-eTzAhXoQjABHeVoDxwQxfQBegQIBxAB&usg=AOvVaw3SWoWzsjG6hLfaBnMa2Uyg',\n",
              "  '/url?q=https://finance.yahoo.com/news/ethereum-last-chance-low-risk-180709566.html&sa=U&ved=2ahUKEwjm8cyu-eTzAhXoQjABHeVoDxwQ0Y8FegQIBxAC&usg=AOvVaw1QDpOrcuMCd0cOKDOceHX4',\n",
              "  '/url?q=https://finance.yahoo.com/news/analyst-who-called-bitcoins-rebound-says-ether-could-hit-10000-104657491.html&sa=U&ved=2ahUKEwjm8cyu-eTzAhXoQjABHeVoDxwQxfQBegQICBAB&usg=AOvVaw19zLvMlgS5vS5PWcmHIWIX',\n",
              "  '/url?q=https://finance.yahoo.com/news/analyst-who-called-bitcoins-rebound-says-ether-could-hit-10000-104657491.html&sa=U&ved=2ahUKEwjm8cyu-eTzAhXoQjABHeVoDxwQ0Y8FegQICBAC&usg=AOvVaw3cH8RzAGi4ZyqF5P3Hdu1j',\n",
              "  '/url?q=https://finance.yahoo.com/news/bitcoin-ethereum-weekly-technical-analysis-014030530.html&sa=U&ved=2ahUKEwjm8cyu-eTzAhXoQjABHeVoDxwQxfQBegQICRAB&usg=AOvVaw2JwCGEL3S8pHW37-59m5Fn',\n",
              "  '/url?q=https://finance.yahoo.com/news/bitcoin-ethereum-weekly-technical-analysis-014030530.html&sa=U&ved=2ahUKEwjm8cyu-eTzAhXoQjABHeVoDxwQ0Y8FegQICRAC&usg=AOvVaw0AOP_IIXPBgzzucbjAnjQ4',\n",
              "  '/url?q=https://finance.yahoo.com/news/first-etf-combining-bitcoin-and-ethereum-launches-in-canada-145811246.html&sa=U&ved=2ahUKEwjm8cyu-eTzAhXoQjABHeVoDxwQxfQBegQIBhAB&usg=AOvVaw2vicAZO_eHVYbmC0_lVOKx',\n",
              "  '/url?q=https://finance.yahoo.com/news/first-etf-combining-bitcoin-and-ethereum-launches-in-canada-145811246.html&sa=U&ved=2ahUKEwjm8cyu-eTzAhXoQjABHeVoDxwQ0Y8FegQIBhAC&usg=AOvVaw1-Nvq6Hkp7TvD0sgzmmOXp',\n",
              "  '/url?q=https://finance.yahoo.com/news/the-true-difference-between-bitcoin-and-ethereum-according-to-grayscales-ceo-195502446.html&sa=U&ved=2ahUKEwjm8cyu-eTzAhXoQjABHeVoDxwQxfQBegQIBRAB&usg=AOvVaw2w3JfSsyv4yGvE5a9H-smH',\n",
              "  '/url?q=https://finance.yahoo.com/news/the-true-difference-between-bitcoin-and-ethereum-according-to-grayscales-ceo-195502446.html&sa=U&ved=2ahUKEwjm8cyu-eTzAhXoQjABHeVoDxwQ0Y8FegQIBRAC&usg=AOvVaw0LEK2HxkyGP0IXjAMOV7d9',\n",
              "  '/url?q=https://finance.yahoo.com/news/ethereum-difficulty-bomb-timing-hints-113000901.html&sa=U&ved=2ahUKEwjm8cyu-eTzAhXoQjABHeVoDxwQxfQBegQIAhAB&usg=AOvVaw3iXPZbnKddiFx5yLwX3Slu',\n",
              "  '/url?q=https://finance.yahoo.com/news/ethereum-difficulty-bomb-timing-hints-113000901.html&sa=U&ved=2ahUKEwjm8cyu-eTzAhXoQjABHeVoDxwQ0Y8FegQIAhAC&usg=AOvVaw1hLkWxL6Wfj0NmJwR7yaLM',\n",
              "  '/url?q=https://finance.yahoo.com/news/why-defi-blue-chips-seriously-085147270.html&sa=U&ved=2ahUKEwjm8cyu-eTzAhXoQjABHeVoDxwQxfQBegQIARAB&usg=AOvVaw1mWzLmhfVwLC5ei7_0DYnu',\n",
              "  '/url?q=https://finance.yahoo.com/news/why-defi-blue-chips-seriously-085147270.html&sa=U&ved=2ahUKEwjm8cyu-eTzAhXoQjABHeVoDxwQ0Y8FegQIARAC&usg=AOvVaw3rx-y21Tk_7wfjDwLUNcE4',\n",
              "  '/url?q=https://finance.yahoo.com/news/ethereum-one-watch-amid-speculation-124044250.html&sa=U&ved=2ahUKEwjm8cyu-eTzAhXoQjABHeVoDxwQxfQBegQIABAB&usg=AOvVaw1V7N-mMNjQkDTYzSCxAsum',\n",
              "  '/url?q=https://finance.yahoo.com/news/ethereum-one-watch-amid-speculation-124044250.html&sa=U&ved=2ahUKEwjm8cyu-eTzAhXoQjABHeVoDxwQ0Y8FegQIABAC&usg=AOvVaw059glfuNzjIfQ0LIZMVypK',\n",
              "  '/url?q=https://finance.yahoo.com/news/ethereum-looking-7500-060648095.html&sa=U&ved=2ahUKEwjm8cyu-eTzAhXoQjABHeVoDxwQxfQBegQIBBAB&usg=AOvVaw2WVm8tfIjz7DfoJvvOH4ll',\n",
              "  '/url?q=https://finance.yahoo.com/news/ethereum-looking-7500-060648095.html&sa=U&ved=2ahUKEwjm8cyu-eTzAhXoQjABHeVoDxwQ0Y8FegQIBBAC&usg=AOvVaw3Nq_MtpbV201LBOYn4jqZA',\n",
              "  '/search?q=yahoo+finance+ETH&ie=UTF-8&tbm=nws&ei=f1B2Yaa2NeiFwbkP5dG94AE&start=10&sa=N',\n",
              "  '/url?q=https://support.google.com/websearch%3Fp%3Dws_settings_location%26hl%3Den&sa=U&ved=0ahUKEwjm8cyu-eTzAhXoQjABHeVoDxwQty4IVQ&usg=AOvVaw3UG_EnkC0aH7r1tsUwvY9k',\n",
              "  '/url?q=https://accounts.google.com/ServiceLogin%3Fcontinue%3Dhttps://www.google.com/search%253Fq%253Dyahoo%252Bfinance%252BETH%2526tbm%253Dnws%26hl%3Den&sa=U&ved=0ahUKEwjm8cyu-eTzAhXoQjABHeVoDxwQxs8CCFY&usg=AOvVaw3rSdHbbtBK4B0qAI8fX_lM',\n",
              "  'https://www.google.com/preferences?hl=en&fg=1&sa=X&ved=0ahUKEwjm8cyu-eTzAhXoQjABHeVoDxwQ5fUCCFc',\n",
              "  'https://policies.google.com/privacy?hl=en&fg=1',\n",
              "  'https://policies.google.com/terms?hl=en&fg=1']}"
            ]
          },
          "execution_count": 17,
          "metadata": {},
          "output_type": "execute_result"
        }
      ]
    },
    {
      "cell_type": "code",
      "metadata": {
        "colab": {
          "base_uri": "https://localhost:8080/"
        },
        "id": "346a0d06",
        "outputId": "005345ab-fec1-496c-b664-6e27bfd53ff4"
      },
      "source": [
        "raw_urls['BTC']"
      ],
      "id": "346a0d06",
      "execution_count": null,
      "outputs": [
        {
          "data": {
            "text/plain": [
              "['/?sa=X&ved=0ahUKEwixs6au-eTzAhUdSDABHcHNBcwQOwgC',\n",
              " '/?output=search&ie=UTF-8&tbm=nws&sa=X&ved=0ahUKEwixs6au-eTzAhUdSDABHcHNBcwQPAgE',\n",
              " '/search?q=yahoo+finance+BTC&tbm=nws&ie=UTF-8&gbv=1&sei=f1B2YfH3Dp2QwbkPwZuX4Aw',\n",
              " '/search?q=yahoo+finance+BTC&ie=UTF-8&source=lnms&sa=X&ved=0ahUKEwixs6au-eTzAhUdSDABHcHNBcwQ_AUIBygA',\n",
              " '/search?q=yahoo+finance+BTC&ie=UTF-8&tbm=shop&source=lnms&sa=X&ved=0ahUKEwixs6au-eTzAhUdSDABHcHNBcwQ_AUICSgC',\n",
              " '/search?q=yahoo+finance+BTC&ie=UTF-8&tbm=vid&source=lnms&sa=X&ved=0ahUKEwixs6au-eTzAhUdSDABHcHNBcwQ_AUICigD',\n",
              " '/search?q=yahoo+finance+BTC&ie=UTF-8&tbm=isch&source=lnms&sa=X&ved=0ahUKEwixs6au-eTzAhUdSDABHcHNBcwQ_AUICygE',\n",
              " 'https://maps.google.com/maps?q=yahoo+finance+BTC&um=1&ie=UTF-8&sa=X&ved=0ahUKEwixs6au-eTzAhUdSDABHcHNBcwQ_AUIDCgF',\n",
              " '/search?q=yahoo+finance+BTC&ie=UTF-8&tbm=bks&source=lnms&sa=X&ved=0ahUKEwixs6au-eTzAhUdSDABHcHNBcwQ_AUIDSgG',\n",
              " '/advanced_search',\n",
              " '/search?q=yahoo+finance+BTC&ie=UTF-8&tbm=nws&source=lnt&tbs=qdr:h&sa=X&ved=0ahUKEwixs6au-eTzAhUdSDABHcHNBcwQpwUIDw',\n",
              " '/search?q=yahoo+finance+BTC&ie=UTF-8&tbm=nws&source=lnt&tbs=qdr:d&sa=X&ved=0ahUKEwixs6au-eTzAhUdSDABHcHNBcwQpwUIEA',\n",
              " '/search?q=yahoo+finance+BTC&ie=UTF-8&tbm=nws&source=lnt&tbs=qdr:w&sa=X&ved=0ahUKEwixs6au-eTzAhUdSDABHcHNBcwQpwUIEQ',\n",
              " '/search?q=yahoo+finance+BTC&ie=UTF-8&tbm=nws&source=lnt&tbs=qdr:m&sa=X&ved=0ahUKEwixs6au-eTzAhUdSDABHcHNBcwQpwUIEg',\n",
              " '/search?q=yahoo+finance+BTC&ie=UTF-8&tbm=nws&source=lnt&tbs=qdr:y&sa=X&ved=0ahUKEwixs6au-eTzAhUdSDABHcHNBcwQpwUIEw',\n",
              " '/search?q=yahoo+finance+BTC&ie=UTF-8&tbm=nws&source=lnt&tbs=ar:1&sa=X&ved=0ahUKEwixs6au-eTzAhUdSDABHcHNBcwQpwUIFA',\n",
              " '/search?q=yahoo+finance+BTC&ie=UTF-8&tbm=nws&source=lnt&tbs=sbd:1&sa=X&ved=0ahUKEwixs6au-eTzAhUdSDABHcHNBcwQpwUIFg',\n",
              " '/url?q=https://finance.yahoo.com/news/terraform-labs-sues-sec-over-subpoena-180203820.html&sa=U&ved=2ahUKEwixs6au-eTzAhUdSDABHcHNBcwQxfQBegQIBBAB&usg=AOvVaw0WqR3uMHvZnPxsH3f342dF',\n",
              " '/url?q=https://finance.yahoo.com/news/terraform-labs-sues-sec-over-subpoena-180203820.html&sa=U&ved=2ahUKEwixs6au-eTzAhUdSDABHcHNBcwQ0Y8FegQIBBAC&usg=AOvVaw39eAhq0sHfrMxLG35uF_q0',\n",
              " '/url?q=https://finance.yahoo.com/news/solana-eyes-200-mark-surpassing-182522177.html&sa=U&ved=2ahUKEwixs6au-eTzAhUdSDABHcHNBcwQxfQBegQICRAB&usg=AOvVaw0ZLPZMo6z3uWUfDtxSpZe2',\n",
              " '/url?q=https://finance.yahoo.com/news/solana-eyes-200-mark-surpassing-182522177.html&sa=U&ved=2ahUKEwixs6au-eTzAhUdSDABHcHNBcwQ0Y8FegQICRAC&usg=AOvVaw1zVSUGBXc9cHLROvLLTFZc',\n",
              " '/url?q=https://finance.yahoo.com/news/cme-volume-gets-pumped-bitcoin-155000606.html&sa=U&ved=2ahUKEwixs6au-eTzAhUdSDABHcHNBcwQxfQBegQICBAB&usg=AOvVaw2nng_9UbNXjDT-gWw7wd8Y',\n",
              " '/url?q=https://finance.yahoo.com/news/cme-volume-gets-pumped-bitcoin-155000606.html&sa=U&ved=2ahUKEwixs6au-eTzAhUdSDABHcHNBcwQ0Y8FegQICBAC&usg=AOvVaw2o7WwQSZ8xcWNNmP5R3aio',\n",
              " '/url?q=https://finance.yahoo.com/amphtml/news/bitcoin-hit-2-milestones-week-100000636.html&sa=U&ved=2ahUKEwixs6au-eTzAhUdSDABHcHNBcwQxfQBegQIBxAB&usg=AOvVaw1DrObnN89a5y3IMEWyVan1',\n",
              " '/url?q=https://finance.yahoo.com/amphtml/news/bitcoin-hit-2-milestones-week-100000636.html&sa=U&ved=2ahUKEwixs6au-eTzAhUdSDABHcHNBcwQ0Y8FegQIBxAC&usg=AOvVaw00zFXIRz1IS3gc7sZt-UnK',\n",
              " '/url?q=https://finance.yahoo.com/news/crypto-daily-movers-shakers-october-002643200.html&sa=U&ved=2ahUKEwixs6au-eTzAhUdSDABHcHNBcwQxfQBegQIAxAB&usg=AOvVaw30RKZDZqKDpyNRbFm8VJpV',\n",
              " '/url?q=https://finance.yahoo.com/news/crypto-daily-movers-shakers-october-002643200.html&sa=U&ved=2ahUKEwixs6au-eTzAhUdSDABHcHNBcwQ0Y8FegQIAxAC&usg=AOvVaw12If3Qq7lFsp2wOt_hIbHb',\n",
              " '/url?q=https://finance.yahoo.com/news/crypto-venue-bets-trump-jlo-135159112.html&sa=U&ved=2ahUKEwixs6au-eTzAhUdSDABHcHNBcwQxfQBegQIBRAB&usg=AOvVaw154NV1BSxJYiyU6NQZtEta',\n",
              " '/url?q=https://finance.yahoo.com/news/top-trump-regulator-determined-banks-211818891.html&sa=U&ved=2ahUKEwixs6au-eTzAhUdSDABHcHNBcwQxfQBegQIABAB&usg=AOvVaw3h6ts7m-m0nksQE3jxQJzI',\n",
              " '/url?q=https://finance.yahoo.com/news/top-trump-regulator-determined-banks-211818891.html&sa=U&ved=2ahUKEwixs6au-eTzAhUdSDABHcHNBcwQ0Y8FegQIABAC&usg=AOvVaw0UUHiQWsDAdO67eM-UbLyv',\n",
              " '/url?q=https://finance.yahoo.com/news/second-u-bitcoin-etf-launches-133837968.html&sa=U&ved=2ahUKEwixs6au-eTzAhUdSDABHcHNBcwQxfQBegQIBhAB&usg=AOvVaw2AkObuelURNYiHDWH0rbPs',\n",
              " '/url?q=https://finance.yahoo.com/news/second-u-bitcoin-etf-launches-133837968.html&sa=U&ved=2ahUKEwixs6au-eTzAhUdSDABHcHNBcwQ0Y8FegQIBhAC&usg=AOvVaw3K78B7wCgxhNnalWxnNWuK',\n",
              " '/url?q=https://finance.yahoo.com/news/bitcoin-record-breaking-week-ending-175104130.html&sa=U&ved=2ahUKEwixs6au-eTzAhUdSDABHcHNBcwQxfQBegQIAhAB&usg=AOvVaw2fpR306oycTEgqG664qA7b',\n",
              " '/url?q=https://finance.yahoo.com/news/bitcoin-record-breaking-week-ending-175104130.html&sa=U&ved=2ahUKEwixs6au-eTzAhUdSDABHcHNBcwQ0Y8FegQIAhAC&usg=AOvVaw3XQ01K7Wol5CY8vKlO2SF3',\n",
              " '/url?q=https://finance.yahoo.com/news/bitcoin-etf-demand-so-strong-we-could-bring-2-or-3-new-ones-to-market-valkyrie-ceo-193827132.html&sa=U&ved=2ahUKEwixs6au-eTzAhUdSDABHcHNBcwQxfQBegQIARAB&usg=AOvVaw3wE0bRVBJKlSadBYDyAxbo',\n",
              " '/url?q=https://finance.yahoo.com/news/bitcoin-etf-demand-so-strong-we-could-bring-2-or-3-new-ones-to-market-valkyrie-ceo-193827132.html&sa=U&ved=2ahUKEwixs6au-eTzAhUdSDABHcHNBcwQ0Y8FegQIARAC&usg=AOvVaw2EHFsyILsscEbJuMoRGaWm',\n",
              " '/search?q=yahoo+finance+BTC&ie=UTF-8&tbm=nws&ei=f1B2YfH3Dp2QwbkPwZuX4Aw&start=10&sa=N',\n",
              " '/url?q=https://support.google.com/websearch%3Fp%3Dws_settings_location%26hl%3Den&sa=U&ved=0ahUKEwixs6au-eTzAhUdSDABHcHNBcwQty4IUw&usg=AOvVaw1O6eyFogaf8DibU_gQGM2W',\n",
              " '/url?q=https://accounts.google.com/ServiceLogin%3Fcontinue%3Dhttps://www.google.com/search%253Fq%253Dyahoo%252Bfinance%252BBTC%2526tbm%253Dnws%26hl%3Den&sa=U&ved=0ahUKEwixs6au-eTzAhUdSDABHcHNBcwQxs8CCFQ&usg=AOvVaw1aY1DjTAodOOB2qD-71hZw',\n",
              " 'https://www.google.com/preferences?hl=en&fg=1&sa=X&ved=0ahUKEwixs6au-eTzAhUdSDABHcHNBcwQ5fUCCFU',\n",
              " 'https://policies.google.com/privacy?hl=en&fg=1',\n",
              " 'https://policies.google.com/terms?hl=en&fg=1']"
            ]
          },
          "execution_count": 18,
          "metadata": {},
          "output_type": "execute_result"
        }
      ]
    },
    {
      "cell_type": "markdown",
      "metadata": {
        "id": "850b731d"
      },
      "source": [
        "**Remove unwanted URLS**"
      ],
      "id": "850b731d"
    },
    {
      "cell_type": "code",
      "metadata": {
        "id": "50663edd"
      },
      "source": [
        "import re"
      ],
      "id": "50663edd",
      "execution_count": null,
      "outputs": []
    },
    {
      "cell_type": "code",
      "metadata": {
        "id": "95329ae1"
      },
      "source": [
        "exclude_list = ['maps', 'policies', 'preferences', 'accounts', 'support']"
      ],
      "id": "95329ae1",
      "execution_count": null,
      "outputs": []
    },
    {
      "cell_type": "code",
      "metadata": {
        "id": "5cf6cbef"
      },
      "source": [
        "def strip_unwanted_urls(urls, exclude_list):\n",
        "    val = []\n",
        "    for url in urls: \n",
        "        if 'https://' in url and not any(exclude_word in url for exclude_word in exclude_list):\n",
        "            res = re.findall(r'(https?://\\S+)', url)[0].split('&')[0]\n",
        "            val.append(res)\n",
        "    return list(set(val))"
      ],
      "id": "5cf6cbef",
      "execution_count": null,
      "outputs": []
    },
    {
      "cell_type": "code",
      "metadata": {
        "colab": {
          "base_uri": "https://localhost:8080/"
        },
        "id": "bf4bed8b",
        "outputId": "03cf2515-f5fb-4569-f54e-b88df9ca6f87"
      },
      "source": [
        "cleaned_urls = {ticker:strip_unwanted_urls(raw_urls[ticker], exclude_list) for ticker in monitored_tickers}\n",
        "cleaned_urls"
      ],
      "id": "bf4bed8b",
      "execution_count": null,
      "outputs": [
        {
          "data": {
            "text/plain": [
              "{'AVAX-USD': ['https://finance.yahoo.com/news/24-old-gen-zer-became-100000997.html',\n",
              "  'https://finance.yahoo.com/news/avalanche-avax-token-jumps-180m-181749941.html',\n",
              "  'https://sg.finance.yahoo.com/news/hottest-crypto-coins-are-now-the-bitcoin-and-ether-alternatives-013823172.html',\n",
              "  'https://markets.businessinsider.com/news/currencies/altcoin-outlook-cryptocurrencies-q4-polygon-boost-cro-solana-cardano-avalanche-2021-10',\n",
              "  'https://finance.yahoo.com/news/bitcoin-testing-50-000-resistance-155820724.html',\n",
              "  'https://finance.yahoo.com/news/market-wrap-bitcoin-trades-sideways-203648408.html',\n",
              "  'https://finance.yahoo.com/news/defi-amm-sushiswap-builds-avalanche-130101149.html',\n",
              "  'https://finance.yahoo.com/news/coinbase-launch-avax-trading-ahead-144417569.html',\n",
              "  'https://finance.yahoo.com/news/avalanche-keep-defi-users-rush-010114732.html',\n",
              "  'https://finance.yahoo.com/news/altcoins-rally-cryptocurrency-market-recovers-132636190.html'],\n",
              " 'BTC': ['https://finance.yahoo.com/amphtml/news/bitcoin-hit-2-milestones-week-100000636.html',\n",
              "  'https://finance.yahoo.com/news/crypto-venue-bets-trump-jlo-135159112.html',\n",
              "  'https://finance.yahoo.com/news/cme-volume-gets-pumped-bitcoin-155000606.html',\n",
              "  'https://finance.yahoo.com/news/second-u-bitcoin-etf-launches-133837968.html',\n",
              "  'https://finance.yahoo.com/news/top-trump-regulator-determined-banks-211818891.html',\n",
              "  'https://finance.yahoo.com/news/bitcoin-record-breaking-week-ending-175104130.html',\n",
              "  'https://finance.yahoo.com/news/terraform-labs-sues-sec-over-subpoena-180203820.html',\n",
              "  'https://finance.yahoo.com/news/solana-eyes-200-mark-surpassing-182522177.html',\n",
              "  'https://finance.yahoo.com/news/crypto-daily-movers-shakers-october-002643200.html',\n",
              "  'https://finance.yahoo.com/news/bitcoin-etf-demand-so-strong-we-could-bring-2-or-3-new-ones-to-market-valkyrie-ceo-193827132.html'],\n",
              " 'ETH': ['https://finance.yahoo.com/news/ethereum-litecoin-ripple-xrp-daily-002629006.html',\n",
              "  'https://finance.yahoo.com/news/why-defi-blue-chips-seriously-085147270.html',\n",
              "  'https://finance.yahoo.com/news/ethereum-one-watch-amid-speculation-124044250.html',\n",
              "  'https://finance.yahoo.com/news/ethereum-difficulty-bomb-timing-hints-113000901.html',\n",
              "  'https://finance.yahoo.com/news/analyst-who-called-bitcoins-rebound-says-ether-could-hit-10000-104657491.html',\n",
              "  'https://finance.yahoo.com/news/bitcoin-ethereum-weekly-technical-analysis-014030530.html',\n",
              "  'https://finance.yahoo.com/news/the-true-difference-between-bitcoin-and-ethereum-according-to-grayscales-ceo-195502446.html',\n",
              "  'https://finance.yahoo.com/news/ethereum-last-chance-low-risk-180709566.html',\n",
              "  'https://finance.yahoo.com/news/first-etf-combining-bitcoin-and-ethereum-launches-in-canada-145811246.html',\n",
              "  'https://finance.yahoo.com/news/ethereum-looking-7500-060648095.html']}"
            ]
          },
          "execution_count": 22,
          "metadata": {},
          "output_type": "execute_result"
        }
      ]
    },
    {
      "cell_type": "markdown",
      "metadata": {
        "id": "0c48caac"
      },
      "source": [
        "**Search and Scrape Cleaned URLS**"
      ],
      "id": "0c48caac"
    },
    {
      "cell_type": "code",
      "metadata": {
        "id": "610706e6"
      },
      "source": [
        "def scrape_and_process(URLs):\n",
        "    ARTICLES = []\n",
        "    for url in URLs: \n",
        "        r = requests.get(url)\n",
        "        soup = BeautifulSoup(r.text, 'html.parser')\n",
        "        paragraphs = soup.find_all('p')\n",
        "        text = [paragraph.text for paragraph in paragraphs]\n",
        "        words = ' '.join(text).split(' ')[:350]\n",
        "        ARTICLE = ' '.join(words)\n",
        "        ARTICLES.append(ARTICLE)\n",
        "    return ARTICLES"
      ],
      "id": "610706e6",
      "execution_count": null,
      "outputs": []
    },
    {
      "cell_type": "code",
      "metadata": {
        "colab": {
          "base_uri": "https://localhost:8080/"
        },
        "id": "7aede4e5",
        "outputId": "e9003b8b-b107-489d-d632-8e7a4e8b9366"
      },
      "source": [
        "articles = {ticker:scrape_and_process(cleaned_urls[ticker]) for ticker in monitored_tickers}\n",
        "articles"
      ],
      "id": "7aede4e5",
      "execution_count": null,
      "outputs": [
        {
          "data": {
            "text/plain": [
              "{'AVAX-USD': ['24-year old Rahul Rai became a millionaire in May after BlockTower Capital acquired the fund he\\'d co-founded. Rai now runs the BlockTower Gamma Point Market Neutral Fund. He believes avalanche is the ethereum network\\'s closest rival and will \"steal liquidity\" from the bigger blockchain. Sign up here for our daily newsletter, 10 Things Before the Opening Bell. As cryptocurrencies become increasingly mainstream and more blockchain-based applications are springing up every day, competition is heating up between the different networks to host as much of that activity as possible. The ethereum network is the busiest by a long way, but 24-year old Rahul Rai, who became a millionaire when he sold a crypto fund he helped found, believes the avalanche blockchain has the most potential to take that number one spot. Rai grew up in India, worked as an analyst for Morgan Stanley in 2019 and founded crypto hedge fund Gamma Point Capital in 2021 together with Eash Aggarwal and Sanat Rao. BlockTower Capital, which has the backing of billionaire Marc Lasry among others, acquired his company for $35 million in May this year based on the firm\\'s \\u200b\\u200bstrategy, tech-stack and variety of funds on offer. He is now the co-head of Market Neutral at BlockTower Capital who runs the BlockTower Gamma Point Market Neutral Fund. Right now he likes avalanche - a layer one protocol that can host smart contracts, much like ethereum. The network\\'s native avax token is one of the best-performing cryptocurrencies this year, with a gain of 2,000%, compared with a rise of about 50% in bitcoin, the most widely traded coin, or a 320% increase in ether. \"Avalanche has a really good shot of - taking away a lot of liquidity and trading from ethereum,\" Rai told Insider in an interview. \"These ecosystems have really attracted this huge community of (developers) and now more importantly traders and users,\" Rai said. Avalanche allows users to create custom blockchains and decentralized, peer-to-peer applications. Rai said another incentive was the liquidity-mining tools that avalanche runs that reward early adopters with a governance token or the blockchain\\'s native coin. In',\n",
              "  'Thank you for your patience. Our engineers are working quickly to resolve the issue.',\n",
              "  ' By Vildana Hajric and Olga Kharif (Bloomberg) — FOMO remains alive and well in the cryptocurrency world, with lesser-known tokens outperforming again in the wake of recent rallies staged by industry leaders Bitcoin and Ether. Cardano has doubled this month, becoming the third-largest digital asset. Binance Coin is also up. A token named Avalanche has tripled in August. Meanwhile, prices for digital photos of rocks with laser eyes and cartoon depictions of cute animals are going gangbusters, sometimes quadrupling in a matter of days. Among analysts and investors, there’s little consensus as to what’s driving the frenzy. Some posit that speculators are moving from the mainstays to newer, more exciting offshoots, as they often do after big runs. Others see a world awash in cash and ultra-low rates, which ultimately pushes investors toward ever-wonkier assets. “There’s no doubt that there’s a lot of excitement in crypto,” said Yoni Assia, founder and chief executive of online exchange eToro. “You can definitely see it within the numbers in the industry, whether it’s looking at total volumes or looking at growth of companies,” he said, adding that “we’ve seen a lot of exuberance in the market.” Assia calls it a “generational buying moment” and cites a confluence of events, including rock-bottom interest rates worldwide, as well as massive fiscal stimulus efforts that delivered checks to many people during the pandemic. Some of that money has gone toward cryptocurrencies and related assets, such as stocks of digital miners. About 15% of Americans who received the first two stimulus checks invested part or all of the money, and about half of this group invested specifically in cryptocurrencies, according to a survey of more than 1,000 U.S. adults conducted by The Harris Poll for Yahoo Finance. At the same time, inflation has materialised as economies reopen, playing into the warnings from some crypto faithful of pending hyperinflation. Put all that together and it’s “leading a lot of people to look for various types of investments,” Assia said. A recent survey by eToro found that roughly a quarter of the 6,000 investors queried own crypto, a',\n",
              "  '\\r\\n            © 2021 Insider Inc. and finanzen.net GmbH (Imprint). All rights reserved.\\r\\n         \\r\\n            Registration on or use of this site constitutes acceptance of our Terms of Service and Privacy Policy.\\r\\n         \\nDisclaimer |\\r\\n\\t        Accessibility Statement |\\r\\n            Commerce Policy |\\r\\n            Made In NYC |\\r\\n            Stock quotes by finanzen.net\\n Jack Taylor/Getty Image Growth around non-fungible tokens and decentralized finance helped prices for some altcoins soar during the third quarter, and investors are looking for the next breakout as the fourth quarter begins. The global cryptocurrency market is again approaching the $2 trillion mark, as prices for Cardano\\'s ada, solana and other altcoins have taken off, with cardano ada now the third most-traded crypto. Now in the months ahead, investors will sharpen their focus on the benefits and shortfalls emerging from recent speed and efficiency upgrades on the blockchain networks of key altcoins, Ed Moya, senior currency analyst at Oanda, told Insider.  \"Everyone has been focused on which altcoins are going to address that scalability concern that you have with ethereum and bitcoin,\" he said. \\n\\n\\n \"People have to understand which businesses are going to be the leaders in NFTs or smart contracts,\" and other operations, he said. \"I think that\\'s where the market is and education takes some time. The industry is ripe for consolidation.\"  Here are six altcoins (in alphabetical order) experts tell Insider they\\'ll be watching during the fourth quarter and beyond: 1) Avalanche (AVAX) Market Capitalization: $14.5 billionYear-to-date performance: Up 1954% at $65.94 The blockchain developed by Ava Labs is a smart contracts platform for decentralized applications and its AVAX token began trading on Coinbase Pro this past week. Avalanche',\n",
              "  'Thank you for your patience. Our engineers are working quickly to resolve the issue.',\n",
              "  'Thank you for your patience. Our engineers are working quickly to resolve the issue.',\n",
              "  'Thank you for your patience. Our engineers are working quickly to resolve the issue.',\n",
              "  'Cryptocurrency exchange Coinbase has opened inbound transfers for AVAX to its trading platform Coinbase Pro. The listing will enable US-based customers to trade and purchase AVAX using three currency pairs – AVAX-USD, AVAX-USDT and AVAX-EUR. Customers will be able to buy AVAX from 9 AM PT on September 30 if the necessary liquidity conditions are met. \\xa0 The listing of Avalanches native token, AVAX, opens the door for US-based DeFi enthusiasts looking to gain exposure to the AVAX ecosystem ahead of the much-anticipated Avalanche rush incentives. The timing of the listing coincidentally aligns with Avalanche Rush, which is due to start this week. The program will bring over $500m in liquidity incentives to leading DeFi platforms on Avalanche including Aave, SushiSwap and Curve. Although AVAX is not yet available on Coinbase.com or via its array of mobile apps, the listing on Coinbase Pro means US customers now have access to AVAX without having to purchase from a DEX, bridge funds to another chain or use a less reputable exchange. Additionally, in a bid to make DeFi and access to the ecosystem even easier for Coinbase customers, the exchange confirmed that Coinbase Pro will only support ‘C-Chain Avalanche (AVAX)’ tokens. Contract-chain (C-Chain) tokens on Avalanche can be easily transferred back and forth to a Metamask or applicable Web3 wallet – meaning that Coinbase customers can withdraw their tokens straight to their Metamask wallet and have instant access to Avalanche DeFi once Avalanche Rush begins Coinbase remains the most popular exchange in the US ahead of FTX, Kraken and Binance.US – it accounts for the majority of trading volume within the US and has the most active users out of any exchange that operates in the US. The exchange has also doubled down on its efforts to attract both retail and institutional consumers to its platform. It recently announced a ‘Paycheck deposit‘ feature and an integration with Apple and Google pay services to provide a further incentive in using a Coinbase Card. A buyer has purchased a trio of highly sought-after “Ringers” NFTs for a total of $4.7m (1600 ETH) as interest',\n",
              "  'Thank you for your patience. Our engineers are working quickly to resolve the issue.',\n",
              "  'Thank you for your patience. Our engineers are working quickly to resolve the issue.'],\n",
              " 'BTC': ['Bitcoin set a record high this week, after the first US futures-based crypto ETF made its debut. But the new fund may not be the smartest, or more profitable, strategy for average retail investors, according to two experts. \"I think they\\'re better just purchasing bitcoin than to play the futures game at this point,\" a private equity CEO said. Sign up here for our daily newsletter, 10 Things Before the Opening Bell. As the long-awaited bitcoin futures exchange-traded fund hit the market this week, investors are keen to know what this structure ultimately means for their portfolios. The ETF structure itself was one of the most significant financial innovations when it was introduced in the 1990s as a type of investment that provides access to passive, indexed funds. Bitcoin has brought in a new era of innovation, but it remains in the nascent stage. The asset set a new all-time high above $66,000 on Wednesday, a day after the ProShares Bitcoin Strategy ETF - the first of its kind - launched on the New York Stock Exchange. While this development is a substantial achievement in acknowledging the legitimacy of the asset class, it\\'s noteworthy that within these types of ETFs, an actual bitcoin is neither bought nor sold during the execution of the trade and therefore has no direct impact on market supply. And unlike stocks or bitcoin, futures contracts come with expiration dates and investor need to \"roll\" their positions into the next month to avoid taking physical delivery of the underlying asset. Regardless, the institutionalization of bitcoin is ultimately a good sign for investors - at least in theory. But is a futures-based bitcoin ETF a smart strategy to implement? Maybe not, according to Eric Schiffer, CEO of private equity firm Patriarch Organization. \"For the average retail investor, I think they\\'re better just purchasing bitcoin than to play the futures game at this point,\" he told Insider in an interview. \"They\\'re going to want to get far more educated and leave that work to quants and some of the big funds.\" But there is a huge appetite among',\n",
              "  \"(Bloomberg) -- It’s the go-to place for making crypto wagers on whether Donald Trump retakes the White House and Jennifer Lopez and Ben Affleck get engaged. It’s also under scrutiny by a top Wall Street regulator. Most Read from Bloomberg Why Americans and Britons Are Rushing to Buy Idyllic Homes in Italy Cities' Answer to Sprawl? Go Wild. One of California’s Wealthiest Counties Could Run Out of Water Next Summer The Top Money Maker at Deutsche Bank Reaps Billions From Singapore Hamburg Is at the Heart of Germany’s Growing Dilemma Over China The firm is Polymarket -- a New York-based platform that’s surged in popularity during the pandemic as a way for bettors to predict the outcomes of real-world events, including elections, ballgames and the private lives of celebrities. The problem? It may be breaking U.S. financial rules. The Commodity Futures Trading Commission is investigating whether Polymarket is letting customers improperly trade swaps or binary options and if it should be registered with the agency, according to people familiar with the matter. “Polymarket is firmly committed to complying with applicable laws and regulations and to providing information to regulators that will assist them with any inquiry,” a spokeswoman for the firm said. The CFTC declined to comment. Led by 23-year-old founder Shayne Coplan, Polymarket is hot, facilitating some 4 billion shares since launching last year. The company has been in talks with investors on a new round of funding that could value it at almost $1 billion, according to two people with knowledge of the matter who asked not to be named because the discussions are private. As of Friday afternoon, Polymarket featured dozens of possible wagers, ranging from whether the Treasury Department will mint a $1 trillion coin by Nov. 5 to singer Nicki Minaj getting the Covid-19 vaccine by Nov. 29 to Elon Musk’s SpaceX reaching outer space by year’s end. Customers favor no Treasury coin, Minaj remaining unvaccinated and SpaceX coming up short. NFL Proposal While the CFTC is best known for policing banks’ derivatives desks and oil traders, it’s long been grappling with how to regulate\",\n",
              "  'October 25 from 9:00 a.m to 5 p.m. ET  Last week’s launch of the ProShares Bitcoin Strategy ETF (BITO) was a smash hit by any measure. Yet it may be that at least part of its success could in part be the result of how the instrument is structured rather than pure demand from buyers hoping for bitcoin exposure. In just a few hours, the exchange-traded fund (ETF) amassed $570 million in assets under management (AUM), making it one of the most successful debuts of an ETF in history. Within a few more hours, that number just about doubled. You’re reading Crypto Long & Short, our weekly newsletter featuring insights, news and analysis for the professional investor. Sign up here to get it in your inbox every Sunday. BITO’s assets are mostly invested on the Chicago Mercantile Exchange (CME), which saw an expected increase in both open interest and volume for bitcoin futures. One question is whether some of that volume could be the result of traders positioning for profit from the way this particular ETF is structured. Currently, for every dollar it takes in, ProShares allocates 40.2% to buying CME bitcoin futures contracts that settle in October and 31.2% for futures that settle in November. The remaining 28% or so is put in U.S. Treasury bills. Reminder: On the CME, bitcoin futures are settled in cash, meaning no actual bitcoin changes hands. It’s basically a side bet on the price of the asset. So if by Wednesday there were $1.108 billion in AUM, $791 million of it was bitcoin futures on the CME. That’s the equivalent of 13.8% of the CME’s bitcoin open interest of $5.745 billion. From Monday to Wednesday, open interest soared to $5.745 billion from $4 billion, an increase that was more than double the ProShares ETF’s holdings. Meanwhile, volume was up, too, to levels never seen before on bitcoin futures: Tuesday saw $5.9 billion in futures change hands on the CME, and Wednesday’s figure was north of $7.5 billion. In the 19 trading days prior, the average was $2.5 billion per day. Higher volumes?',\n",
              "  \"(Bloomberg) -- Most Read from Bloomberg Why Americans and Britons Are Rushing to Buy Idyllic Homes in Italy Cities' Answer to Sprawl? Go Wild. One of California’s Wealthiest Counties Could Run Out of Water Next Summer The Top Money Maker at Deutsche Bank Reaps Billions From Singapore Hamburg Is at the Heart of Germany’s Growing Dilemma Over China The second futures-backed U.S. Bitcoin exchange-traded fund made a slightly less conspicuous debut than the launch of the first such investment product three days ago. The Valkyrie Bitcoin Strategy ETF -- trading under the ticker BTF -- fell 2.8% from its inception price of $25 Friday. More than 3.1 million shares worth about $78 million changed hands during the session. Bitcoin, meanwhile, pared an earlier advance to fall as much as 4.3% to $60,011. The largest digital currency reached an all-time high of just under $67,000 on Wednesday. “There does seem to be a first mover advantage that plays out,” said Stephane Ouellette, chief executive and co-founder of FRNT Financial Inc., a crypto-focused capital-markets platform, citing the Canadian crypto ETFs as an example. “I wouldn’t intuitively think that the performance of the next one or one after is all that important from the perspective of the milestone for the asset class.” The bar was high for Valkyrie after the Tuesday debut of the ProShares Bitcoin Strategy ETF (ticker BITO), which ranked as the second-busiest launch ever, taking assets in the fund over $1 billion in just two days. “I think BITO stole its thunder -- this was a much quieter launch.” said Steve Sosnick, chief strategist at Interactive Brokers. The field could get crowded quickly: VanEck’s pending Bitcoin Strategy ETF (ticker XBTF) could come to market as soon as next week, carrying a management fee 30 basis points cheaper than the ProShares and Valkyrie funds. “The market can handle a lot of different issuers’ products and we very much welcome the competition -- obviously, we’re coming in second to market here but we’re very excited,” Leah Wald, Valkyrie Funds CEO, said in a Bloomberg Television interview Thursday, adding “we wish our competition\",\n",
              "  'Thank you for your patience. Our engineers are working quickly to resolve the issue.',\n",
              "  \"(Bloomberg) -- Bitcoin’s record-breaking week ended on a down note. Most Read from Bloomberg Why Americans and Britons Are Rushing to Buy Idyllic Homes in Italy The Top Money Maker at Deutsche Bank Reaps Billions From Singapore One of California’s Wealthiest Counties Could Run Out of Water Next Summer Cities' Answer to Sprawl? Go Wild. The Coming Electric Car Disruption That Nobody’s Talking About The world’s largest digital coin, down for a second straight day, has lost about 8% since reaching an all-time high of almost $67,000 Wednesday, a decline that’s wiped out more than $100 billion in market value. Other coins weren’t spared either -- Ether, second in rank by market value, has also dropped, losing 3% over the last two sessions. The Bloomberg Galaxy Crypto Index, which tracks some of the major digital currencies, fell 5% on Friday alone. “The excitement became somewhat overheated,” said Michael O’Rourke, chief market strategist at JonesTrading. Bitcoin on Friday lost as much as $4.2% to trade around $60,011. The coin had, earlier in the week, embarked on a historic run to all-time highs, reaching the milestone amid a watershed moment. Two futures-backed U.S. Bitcoin exchange-traded funds made their debuts this week -- the first, the ProShares Bitcoin Strategy ETF (ticker BITO), which ranked as the second-busiest launch ever, taking assets in the fund over $1 billion in just two days. The second, the Valkyrie Bitcoin Strategy ETF (ticker BTF) saw less-robust demand. Meanwhile, others hoping to launch soon are still in the queue, meaning that competition for assets or industry recognition could heat up. “The new products will now compete with one another and investors will need to do additional due diligence to understand the differences between the underlying assets and tax treatment,” said O’Rourke. Lindsey Bell, chief investment strategist at Ally Invest, says there is such a thing as too much popularity in the futures-ETFs space. Still, the products have opened the door to a new base of crypto-curious investors. “And for long-time crypto investors, the SEC’s blessing on these ETFs is another stamp of legitimacy for the space. Old Wall\",\n",
              "  'October 25 from 9:00 a.m to 5 p.m. ET  In a flipping of the script, a leading cryptocurrency project and its co-founder are suing the Securities and Exchange Commission (SEC). The lawsuit was filed Friday by Terraform Labs, the company behind the Terra decentralized finance protocol, and its co-founder Do Kwon, who confirmed in the filing that he and his company were served with SEC subpoenas at last month\\'s Messari crypto conference in New York City. Terra\\'s Luna cryptocurrency is currently the 11th largest by market cap. According to the lawsuit filed on Friday, Kwon and Terraform Labs are contesting the subpoenas issued by the SEC following a dialogue concerning Mirror Protocol, a decentralized finance protocol built on Terra, which allows users to trade \"synthetic\" assets that track the price movements of real assets, such as shares of Netflix or Tesla. The SEC has increasingly stepped up its pressure on crypto firms potentially offering unregistered securities. CoinDesk first reported the lawsuiit, which seeks to quash the subpoenas. But the company\\'s lawsuit not only disputes the subpoena and requested testimony from Kwon, a South Korea citizen and resident, but it also claims the SEC violated its own rules and hired an outside private process service company to deliver the subpoena at a crowded conference as a means to \"publicly intimidate and embarrass.\" \"In addition to violating its rules regarding service, the SEC\\'s conduct here violated its rules requiring it to keep formal orders of investigation confidential,\" the suit claims. The filing also documents a July 8, five-hour Webex call during which Kwon answered questions from SEC attorneys about how Terra\\'s Mirror Protocol functions. A subsequent request by the SEC for documents that the company said were either too broad in scope or did not exist \"evidenced the SEC\\'s misunderstanding of the nature of the Mirror Protocol itself.\" As Yahoo Finance previously documented, Terra is one of the leading decentralized finance (DeFi) projects. While the SEC\\'s inquiry appears to focus in on Terra\\'s synthetic asset-focused Mirror Protocol, the project also powers a decentralized stablecoin that differs from cash-backed competitors. Rather than',\n",
              "  'Thank you for your patience. Our engineers are working quickly to resolve the issue.',\n",
              "  ' Bitcoin, BTC to USD, rose by 0.98% on Saturday. Following a 2.40% loss on Friday, Bitcoin ended the day at $61,302.0. A mixed start to the day saw Bitcoin fall to a late morning intraday low $59,755.0 before making a move. Steering clear of the first major support level at $59,236, Bitcoin rose to a mid-day intraday high $61,764.0. Falling well short of the first major resistance level at $62,952, however, Bitcoin fell back to sub-$61,000 levels. Finding late support, Bitcoin broke back through to $61,000 levels to end the day in positive territory. The near-term bullish trend remained intact, supported the latest return to $66,000 levels. For the bears, Bitcoin would need a sustained fall through the 62% FIB of $27,237 to form a near-term bearish trend. Across the rest of the majors, it was a bullish day on Saturday. Chainlink rallied by 9.58% to lead the way, with Crypto.com Coin (+2.78%), Ethereum (+4.95%) and Litecoin (+2.84%) finding strong support. Binance Coin (+1.35%), Bitcoin Cash SV (+1.24%), Cardano’s ADA (+0.55%), Polkadot (+0.04%), and Ripple’s XRP (+0.47%) trailed the front runners, however. In the current week, the crypto total market fell to a Monday low $2,386bn before rising to a Thursday high $2,741bn. At the time of writing, the total market cap stood at $2,578bn. Bitcoin’s dominance rose to a Wednesday high 47.72% before falling to a Saturday low 44.75%. At the time of writing, Bitcoin’s dominance stood at 44.80%. At the time of writing, Bitcoin was down by 0.07% to $61,258.0. A mixed start to the day saw Bitcoin rise to an early morning high $61,476.0 before falling to a low $61,208.0. Bitcoin left the major support and resistance levels untested early on. Elsewhere, it was a mixed start to the day. Crypto.com Coin (+0.89%), Litecoin (+0.26%), Polkadot (+0.29%), and Ripple’s XRP (+0.03%) avoided the red early on. It was a bearish start for the rest of the majors, however. At the time of writing, Chainlink was down by 0.37% to lead the way down. Bitcoin would need to avoid the $60,940 pivot to bring the first major',\n",
              "  'October 25 from 9:00 a.m to 5 p.m. ET  A milestone week that began with the introduction of the first Bitcoin-based exchange traded fund (ETF) ended just as it began — with a new fund based on the world\\'s leading cryptocurrency.\\xa0 On Friday, digital asset manager Valkyrie launched its Bitcoin Strategy ETF (BTF) on the Nasdaq exchange. The company anticipates its fund will be the first of at least a couple more, as big and small investors flock to crypto investments. Valkyrie\\'s Bitcoin ETF followed the debut of the Proshares Bitcoin Strategy ETF (BITO), which listed on the New York Stock Exchange (NYSE) on Tuesday with a near-rapturous reception from investors, en route to becoming the second highest-traded ETF debut ever. The attention helped drive Bitcoin\\'s spot price to a fresh record just below $67,000, making any follow-up acts tough to follow. It also drove up BITO\\'s assets under management (AUM) to over $1 billion within less than 2 days.\\xa0 By comparison, Valkyrie\\'s ETF began trading at $25.52 per share, and fell to a low of $24 by Friday’s close. However, the company downplayed the move, preferring to focus on the longer-term implications of new crypto-based products. \"We believe that demand is strong enough to bring two or three Bitcoin futures ETFs to roughly the same AUM given enough time, and then investors will ultimately decide which firm best fits their values and they\\'ll eventually pull ahead of the pack,\" CEO Leah Wald told Yahoo Finance Live. Wald admitted that for Valkyrie the last few weeks leading up to their listing of BTF felt like both \"a marathon and a sprint.\" As their approval by the Securities and Exchanges Commission neared, Valkyrie had to change plans for listing their Bitcoin ETF earlier in the week. With their product being made effective late Wednesday afternoon, they chose to pivot their launch to Friday after consulting with launch partners according to Wald.\\xa0 As they approached the finish line, the company attempted a last minute revision of their ticker symbol from \"BTF\" to \"BTFD.\" The latter was a reference to a popular'],\n",
              " 'ETH': ['Thank you for your patience. Our engineers are working quickly to resolve the issue.',\n",
              "  ' The vibe is palpable. Bitcoin enthusiasts are celebrating its all-time high this week, and Ethereum is close to hitting its own record price of $4,357. Make no mistake, it’s a good time to be holding crypto. But there’s a fly in the ointment. The DeFi Pulse Index, a benchmark comprising 10 of the most valuable tokens in decentralized finance, is lagging behind ETH. And not in a small way. The index, which includes tokens from Uniswap, Aave, and MakerDAO, is up a modest 26% in the last 90 days, according to data from CoinGecko. In contrast, ETH has surged more than 102% in that same period. Measured another way, DPI has actually slid 21.8% against ETH for the last 30 days. What gives? It stands to reason that the leading DeFi tokens would outperform or at least keep pace with Ethereum. These are the platforms, after all, that are putting decentralized finance to work with new applications. If DeFi is the future of finance, true believers would like to see it trade well against ETH, which is a relatively simple buy and hold trade. Occultist, a well-known DeFi thinker, told The Defiant, said the problem is that the tokens behind open finance protocols don’t have enough intrinsic value. “The biggest problem in DeFi right now is the tokenomic structure of many ‘DeFi Blue Chips’,” said the influencer. “For many of these protocols to function well they require users to provide liquidity. The problem here is that users need to be incentivized for providing their liquidity which is costly for the protocol.” Occultist is referring to a problem that so-called DeFi 2.0 aims to solve by acquiring liquidity permanently. This contrasts with liquidity mining whereby a protocol uses its native token to incentivize users to make deposits. “Many of these protocols had to create liquidity out of thin air with very little resources to do so. Props to them, but it has shown to be far too costly and the result is a diluted supply of a token that no one actually wants,” Occultist said. Many projects included in DPI',\n",
              "  'The arrival of a bitcoin futures ETF has investors wondering which cryptocurrency could be next in line. Ethereum, the second-biggest cryptocurrency, is the most likely candidate, according to speculation on social media. A couple of cryptocurrency market leaders are convinced that it is only a matter of time before an Ethereum ETF emerges. Crypto investor Lark Davis, who is behind the Wealth Mastery newsletter, is bullish on the prospects for an Ethereum ETF. He noted how the Ethereum price was “pumping” on the heels of the bitcoin ETF development, saying, “Just wait until they announce the ETH ETFs!” Crypto trader and investor “The Wolf of All Streets” similarly took to Twitter to stay ahead of the curve and predict that an Ethereum ETF is “coming eventually.” They might not be too far off. Cryptocurrency investment firms already have the wheels turning on an Ethereum ETF. In fact, VanEck and ProShares, the latter of which is behind the Bitcoin Strategy ETF, already submitted applications to regulators for their own respective Ethereum futures ETFs over the summer. Those proposals were short lived, however, after both firms proceeded to yank them from consideration. There are still a handful of other Ethereum ETF applications pending with the SEC that are based on Ethereum spot market prices, including one by Kryptoin Investment Advisors and Gemini Trust Company. While there is a still a cloud of uncertainty over most cryptocurrencies as to how regulators will classify them, U.S. SEC officials previously made it clear that they don’t view Ethereum as a security. SEC Chairman Gary Gensler is partial to crypto futures ETFs rather than spot market funds. If an Ethereum ETF sees the light of day, it could potentially follow a similar model to the ProShares Bitcoin Strategy ETF, which is based on BTC futures. The possibility of an Ethereum ETF isn’t too farfetched, given the coin’s dominance rate of 18.4% on CoinMarketCap. In addition, the Ethereum price has skyrocketed this year as the popularity of non-fungible tokens (NFTs) and decentralized finance (DeFi) has soared. And while the Ethereum price has already advanced 400%-plus year-to-date, analysts',\n",
              "  ' This article originally appeared in Valid Points, CoinDesk’s weekly newsletter breaking down Ethereum 2.0 and its sweeping impact on crypto markets. Subscribe to Valid Points here. During Ethereum Core Devs Meeting #124 on Oct. 15, a proposal to push December’s “difficulty bomb” was discussed. According to ETH Hub, the “Difficulty Bomb refers to a mechanism that, at a predefined block number, increases the difficulty level of puzzles in the proof-of-work mining algorithm resulting in longer than normal block times (and thus less ETH rewards for miners).” In other words, it increases mining difficulty exponentially over time, eventually leading to an “Ice Age,” which would force the chain to stop producing blocks, essentially “freezing out” proof-of-work mining as Ethereum shifts to its proof-of-stake consensus mechanism. Read more: What to Expect When Ethereum 2.0 Undergoes Its First ‘Hard Fork’ Most importantly, the date of the difficulty bomb gives insight into when the Merge is expected to occur, since it will disincentivize miners from continuing to mine Ethereum’s proof-of-work chain at that point. Following the discussion on Friday, developers are now considering setting the effects of the difficulty bomb to take place in June 2022. That means the delay targets the Merge to take place before that date. Since the code for the difficulty bomb was first introduced in 2015, it has been delayed four times. Ethereum Project Manager Tim Beiko tweeted, “We think ~4 months is a generous timeframe from having the code done to seeing the Merge on mainnet.” Once again, the difficulty bomb does not set the Merge’s date in stone. Beacon Chain developers and the client teams use the difficulty bomb to keep them on track. If they have to delay the bomb again it will eat at time they could be spending on the transition to proof-of-stake. However, if the bomb is set too far away it loses its utility of disincentivizing the proof-of-work chain. Thus, the projected date represents the best data point we can use to estimate when the developers feel they will be ready to deploy the necessary code for the Merge. Follow @TimBeiko',\n",
              "  ' Bitcoin exploded to a new all-time high Wednesday just one day after the first-ever bitcoin-linked exchange traded fund (ETF) started trading on the New York Stock Exchange. The ProShares Bitcoin Strategy ETF (BITO) saw more than $550 million dollars pour into the new futures-linked product in its debut trading day. That enthusiasm, in part, helped push bitcoin\\'s price (BTC) to a new all-time high north of $65,000 Wednesday morning. Now, one analyst at Fundstrat Global Advisors says that enthusiasm is likely to spill over into pushing the second-largest cryptocurrency by market cap, ethereum, well past its own prior record. Fundstrat\\'s Head of Digital Asset Strategy Sean Farrell told Yahoo Finance Live he expects ether (ETH-USD) to not only move past its prior all-time high of about $4,200 set back in May, but potentially all the way up to $10,000. As his new research note highlights, outsized moves in bitcoin tend to precede following peaks in ether.\\xa0 \"What we\\'ve seen in prior bull market cycles for bitcoin is that bitcoin generally leads the rally, capital rotates, investors take their gains and rotate into altcoins, with the most predominant heavily-traded altcoin being ethereum,\" Farrell explained. \"And quite frankly, we think that a lot of people are overlooking ethereum into the end of the year, just due to the fact that bitcoin has garnered the lion\\'s share of headlines.\" While that may be true, Yahoo Finance previously highlighted an earlier $10,000 price call for ether from Magnetic Managing Director Megan Kaspar. Both Kaspar and Farrell point to the same underlying catalyst for their bullish price targets — ethereum has planned deflationary changes to its network looming. \"You don\\'t meet the average investor that is aware of recent software updates in the ethereum network,\" Farrell said. \"Recently, they updated the network with what was called EIP 1559, in which transaction fees are actually burned, causing a disinflationary effect. And what we\\'ve seen with the recent NFT craze is that all of the non-fungible tokens that have been minted and traded on the ethereum network have actually led to a rapid increase in the',\n",
              "  ' Bitcoin, BTC to USD, rose by 12.48% in the week ending 17th October. Following a 13.37% rally from the week prior, Bitcoin ended the week at $61,504.0. A mixed start to the week saw Bitcoin fall to a Tuesday intraweek low $53,837.5 before making a move. Steering well clear of the 23.6% FIB of $50,473 and the first major support level at $48,909, Bitcoin rallied to a Saturday intraweek high $62,900.0. Bitcoin broke through the first major resistance level at $58,462 and the second major resistance level at $62,232. A pullback to end the week at sub-$62,000 levels, however, saw Bitcoin fall back through the second major resistance level. 4 days in the green that included a 7.54% jump on Friday delivered the upside for the week. Bitcoin would need to avoid the $59,414 pivot to support a run the first major resistance level at $64,990. Support from the broader market would be needed for Bitcoin to break out from last week’s high $62,900.0. Barring an extended crypto rally, the first major resistance level and resistance Bitcoin’s all-time high $64,829 would likely cap any upside. In the event of an extended breakout, Bitcoin could test the second major resistance level at $68,476 before any pullback. A fall through the $59,414 pivot would bring the first major support level at $55,928 into play. Barring an extended sell-off, Bitcoin should steer clear of the sub-$50,000 levels. The 23.6% FIB of $50,473 and the second major support level at $50,351 should limit the downside. At the time of writing, Bitcoin was up by 1.33% to $62,321.0. A mixed start to the week saw Bitcoin fall to an early Monday low $61,406.0 before rising to an early high $62,573.0. Bitcoin left the major support and resistance levels untested early on. Ethereum rallied by 12.66% in the week ending 17th October. Reversing a 0.14% loss from the previous week, Ethereum ended the week at $3,847.18. A bearish start to the week saw Ethereum fall to a Monday intraweek low $3,373.45 before making a move. Steering clear of the 23.6% FIB of $3,369 and the',\n",
              "  ' The value of each of the two largest cryptocurrencies — bitcoin (BTC-USD) and ethereum (ETH-USD) — fell earlier this week amid an outright ban on cryptocurrency trading in China and indication of forthcoming regulations from the U.S. Securities Exchange Commission.\\xa0 In general, ethereum prices tend to move in tandem with bitcoin. But the two coins are used for very different purposes that should be taken into account by investors, says Michael Sonnenshein, CEO of Grayscale Investments, which calls itself the world\\'s largest cryptocurrency asset manager. That investing advice applies to the wide array of coins on offer, Sonnenshein said, urging investors to understand the use cases of each cryptocurrency in order to assess its viability as an investment. \"Things like bitcoin are inherently built to be a digital form of money or a store of value,\" says Sonnenshein during Yahoo Finance’s All Markets Summit Plus: Crypto Investing. \"Whereas things like ethereum are meant to be more of a gas to power decentralized applications, and the list goes on and on.\"\\xa0 \"There\\'s a challenge for investors,\" he adds. \"There are now hundreds, if not thousands, of digital currencies out there.\" \"Many investors, I think, first have to understand the underlying technology, as well as the use cases around various digital currencies to decide what may make sense for them,\" he says. While prominent critics of bitcoin question its efficacy as a form of money, many bitcoin supporters say it can be used for transactions, and point to companies like Overstock.com (OSTK) and Starbucks (SBUX) that offer customers ways to pay in bitcoin.\\xa0 Speaking on a panel in July, Ark Invest CEO/CIO Cathie Wood said, \"Right now high-value transactions take place over bitcoin and that is a very useful role.\" Meanwhile, ethereum comprises both the second-largest cryptocurrency and the blockchain that supports most non-fungible tokens, or NFTs, which amount to unique digital assets that can be traded but not replicated. NFTs drew attention in March when a digital work by the artist Beeple sold at auction for $69 million. Regardless of the variation between coins, some investors will pass up on',\n",
              "  ' Two weeks ago, see here, when Ethereum (ETH) was trading at $3580s, I anticipated using the Elliott Wave Principle (EWP) that “as long as ETH can stay above … $3173 over the next few days, it should ideally top out around $4000 +/- 200. Then (red) intermediate wave-ii should take hold for several days before the heart of the third wave kicks in: (red) wave-iii. The wave-ii will essentially be the last good time to “load up the boat,” “back up the truck,” etc., as buyers will step in quicker than you can say lift-off.” Fast forward, and ETH topped at $3968 on October 15. Thus, so far, so good. Figure 1 below shows the updated EWP count since last, with the completion of (green) minor wave-3 and wave-4 as anticipated, followed by a nice subdividing (green) minor wave-5. Thus, the expected five waves higher from the September lows look as complete as can be. ETH should now be in (red) intermediate wave-ii, to ideally around $3350 +/- 50 before (red) wave-iii of (black) major-3 of (blue) primary-V kicks in and carries the cryptocurrency to ~$7500. Figure 1. ETH daily chart with EWP count and technical indicators. The fractal with 2017 continues to play out and projects short-term weakness followed by strength. How can I be so assured ETH will pull back and then rally. The answer lies in the fact that financial markets are fractal, and cryptocurrencies are no different. And the EWP tracks just that: the repetitive nature of price’s advance through five waves up and three waves down. To illustrate, Figure 2 below shows a comparison between the price action of April through November of 2017 vs. the current price action since February this year. As you can see, the resemblance is striking, with tops and bottoms very well aligned. Figure 1. ETH daily charts. Comparison between 2017 and 2021 A similar pattern has emerged now. That is no surprise as my Premium Crypto Trading Members know I have an EWP count showing ETH topped for a Primary III wave in June 2017, bottomed for a',\n",
              "  ' Investors who want to buy a cryptocurrency ETF don\\'t have to choose between bitcoin (BTC) or ethereum (ETH) and its tokens called ether, because a new fund that holds both started trading today. The new ETF from Evolve ETFs trades under the ticker ETC on the TSX and is Canada\\'s first multicurrency ETF. It will hold the world\\'s two largest cryptocurrencies weighted by their market capitalization, which is around 67 per cent bitcoin and 33 per cent ethereum. For now, Evolve will do this by holding its bitcoin ETF (EBIT) and Ether ETF (ETHR) and rebalanced monthly. Bitcoin and ethereum make up around 65 per cent of the cryptocurrency market. \"Bitcoin has established itself as a store of value and is often referred to as digital gold,\" said Raj Lala, president and CEO, Evolve ETFs in a release. \"Ether is often referred to as digital oil and has become an essential building block for digital finance including NFTs and other DeFi applications.\" Combining the two can also help provide diversification. Though they often move in similar directions, performance has varied between bitcoin and ether. Evolve says in 2020, ether outperformed bitcoin by over 150 per cent. But ether was negative in 2019 while bitcoin was up 90 per cent. ETC is TFSA and RRSP-eligible and has no fee but the underlying funds charge 0.75 per cent annually plus applicable taxes. Price movements will be based on the U.S. dollar prices of bitcoin and ether. Evolve says it doesn\\'t plan for ETC to pay regular distributions. Canada has been ahead of the game compared to the U.S. when it comes to cryptocurrency ETFs. Bitcoin ETFs from Purpose Investments (BTCC.B. and BTCC.U) and Evolve ETFs were the first out of the gate in February. The SEC in the U.S. still hasn\\'t given any cryptocurrency ETF the greenlight. Jessy Bains is a senior reporter at Yahoo Finance Canada. Follow him on Twitter @jessysbains. Download the Yahoo Finance app, available for Apple and Android. Related Quotes Merck stock surged Friday — pulling Atea with it — after its Covid pill reduced the risk',\n",
              "  'Check back at 8:30 a.m. ET for results  Over the past many weeks, see my last article here; I anticipated using the Elliott Wave Principle (EWP) that Ethereum, aka Ether, (ETH) would pull back, rally again, experience a more significant pullback, and then get ready for the rally to $9000. As stated in my September 23rd update, “Albeit the cryptocurrency did not adhere to the ideal/textbook path, the overall pattern forecasted over a month ago, and in fact, already drafted early August (see here), came to fruition.” In addition, in that late-September update, I found “Wave-2 looks about complete,” and “If $2678 was all she wrote [for wave-2], I consider [my prior] forecast complete and will start to look for the setup towards $9000.” Thus, I see no reason to change my tune as IMHO, and now I can fine-tune the setup for the hard of the preferred pending rally: the 3rd of the 3rd wave. See Figure 1 below. Figure 1. ETH daily chart with EWP count and technical indicators. Since the $2678 low, ETH has moved in what can best be described as impulsive (5-wave) moves higher, and corrective (3-wave) moves lower, the details of which I share daily with my Premium Crypto Trading Members. But, Figure 1 above shows plenty of detail and suggests ETH should wrap up a few minor 4th and 5th waves to complete (red) intermediate wave-i of (black) major-3. Remember, in an impulsive move, wave-2 comes after wave-1, then a wave-3, followed by a 4th and 5th wave. Always. Thus, as long as ETH can stay above the (green) minor-1 high (solid green down arrow) at $3173 over the next few days, it should ideally top out around $4000+/-200. Then (red) intermediate wave-ii should take hold for several days before the heart of the third wave kicks in: (red) wave-iii. The wave-ii will essentially be the last good time to “load up the boat,” “back up the truck,” etc., as buyers will step in quicker than you can say “lift-off”. Lastly, please note how ETH is back above all its simple moving']}"
            ]
          },
          "execution_count": 24,
          "metadata": {},
          "output_type": "execute_result"
        }
      ]
    },
    {
      "cell_type": "code",
      "metadata": {
        "colab": {
          "base_uri": "https://localhost:8080/",
          "height": 106
        },
        "id": "c963390d",
        "outputId": "bd3bb9e9-78df-4593-a099-0c58184b106c"
      },
      "source": [
        "articles['BTC'][3]"
      ],
      "id": "c963390d",
      "execution_count": null,
      "outputs": [
        {
          "data": {
            "application/vnd.google.colaboratory.intrinsic+json": {
              "type": "string"
            },
            "text/plain": [
              "\"(Bloomberg) -- Most Read from Bloomberg Why Americans and Britons Are Rushing to Buy Idyllic Homes in Italy Cities' Answer to Sprawl? Go Wild. One of California’s Wealthiest Counties Could Run Out of Water Next Summer The Top Money Maker at Deutsche Bank Reaps Billions From Singapore Hamburg Is at the Heart of Germany’s Growing Dilemma Over China The second futures-backed U.S. Bitcoin exchange-traded fund made a slightly less conspicuous debut than the launch of the first such investment product three days ago. The Valkyrie Bitcoin Strategy ETF -- trading under the ticker BTF -- fell 2.8% from its inception price of $25 Friday. More than 3.1 million shares worth about $78 million changed hands during the session. Bitcoin, meanwhile, pared an earlier advance to fall as much as 4.3% to $60,011. The largest digital currency reached an all-time high of just under $67,000 on Wednesday. “There does seem to be a first mover advantage that plays out,” said Stephane Ouellette, chief executive and co-founder of FRNT Financial Inc., a crypto-focused capital-markets platform, citing the Canadian crypto ETFs as an example. “I wouldn’t intuitively think that the performance of the next one or one after is all that important from the perspective of the milestone for the asset class.” The bar was high for Valkyrie after the Tuesday debut of the ProShares Bitcoin Strategy ETF (ticker BITO), which ranked as the second-busiest launch ever, taking assets in the fund over $1 billion in just two days. “I think BITO stole its thunder -- this was a much quieter launch.” said Steve Sosnick, chief strategist at Interactive Brokers. The field could get crowded quickly: VanEck’s pending Bitcoin Strategy ETF (ticker XBTF) could come to market as soon as next week, carrying a management fee 30 basis points cheaper than the ProShares and Valkyrie funds. “The market can handle a lot of different issuers’ products and we very much welcome the competition -- obviously, we’re coming in second to market here but we’re very excited,” Leah Wald, Valkyrie Funds CEO, said in a Bloomberg Television interview Thursday, adding “we wish our competition\""
            ]
          },
          "execution_count": 25,
          "metadata": {},
          "output_type": "execute_result"
        }
      ]
    },
    {
      "cell_type": "code",
      "metadata": {
        "id": "88a89a26"
      },
      "source": [
        ""
      ],
      "id": "88a89a26",
      "execution_count": null,
      "outputs": []
    },
    {
      "cell_type": "markdown",
      "metadata": {
        "id": "a10724f9"
      },
      "source": [
        "**Summarise all Articles**"
      ],
      "id": "a10724f9"
    },
    {
      "cell_type": "code",
      "metadata": {
        "id": "f4f9f113"
      },
      "source": [
        "def summarize(articles):\n",
        "    summaries = []\n",
        "    for article in articles:\n",
        "        input_ids = tokenizer.encode(article, return_tensors='pt')\n",
        "        output = model.generate(input_ids, max_length=55, num_beams=5, early_stopping=True)\n",
        "        summary = tokenizer.decode(output[0], skip_special_tokens=True)\n",
        "        summaries.append(summary)\n",
        "    return summaries"
      ],
      "id": "f4f9f113",
      "execution_count": null,
      "outputs": []
    },
    {
      "cell_type": "code",
      "metadata": {
        "colab": {
          "background_save": true
        },
        "id": "40044bce",
        "outputId": "2d9def88-9428-42b3-a6cc-63ee3646eece"
      },
      "source": [
        "summaries = {ticker:summarize(articles[ticker]) for ticker in monitored_tickers}\n",
        "summaries"
      ],
      "id": "40044bce",
      "execution_count": null,
      "outputs": [
        {
          "data": {
            "text/plain": [
              "{'AVAX-USD': ['avalanche is closest rival to ethereum, he says. Rai grew up in India, worked as an analyst for Morgan Stanley in 2019',\n",
              "  'We are aware of the issue and are working to resolve it.',\n",
              "  'Cardano, Avalanche surge after big rallies for Bitcoin, Ether. Prices for photos with laser eyes are going gangbusters',\n",
              "  'Markets to focus on network upgrades, scalability: Oanda. Here are six companies to watch in the fourth quarter',\n",
              "  'We are aware of the issue and are working to resolve it.',\n",
              "  'We are aware of the issue and are working to resolve it.',\n",
              "  'We are aware of the issue and are working to resolve it.',\n",
              "  'Exchange to list AVAX native token on Coinbase Pro. Coinbase remains the most popular exchange in the US ahead of FTX',\n",
              "  'We are aware of the issue and are working to resolve it.',\n",
              "  'We are aware of the issue and are working to resolve it.'],\n",
              " 'BTC': ['Retail investors may be better off just purchasing the asset. ProShares Bitcoin Strategy ETF made its debut on New York Stock Exchange',\n",
              "  'New York-based firm is in talks for $1 billion investment. CFTC is looking into whether Polymarket is breaking rules',\n",
              "  'ProShares will host a conference call with investors on Thursday. Open interest and volume on the CME were expected to rise',\n",
              "  'Valkyrie Bitcoin Strategy ETF takes assets over $1 billion. VanEck is set to launch a similar fund next week',\n",
              "  'We are aware of the issue and are working to resolve it.',\n",
              "  'The coin has lost about 8% since reaching an all-time high. Two futures-backed U.S. Bitcoin ETFs took assets over $1 billion in two days',\n",
              "  'The lawsuit claims SEC violated rules and hired private process service.',\n",
              "  'We are aware of the issue and are working to resolve it.',\n",
              "  'Chainlink leads the way with a 9.58% gain, followed by Bitcoin Cash.',\n",
              "  'Valkyrie launches Bitcoin ETF on Nasdaq. Company expects at least two more crypto-based products'],\n",
              " 'ETH': ['We are aware of the issue and are working to resolve it.',\n",
              "  'Decentralized finance’s tokens lagging behind Ethereum. Decentralized finance’s tokens don’t have enough value: Occultist',\n",
              "  '‘Just wait until they announce the ETH ETFs,’ ‘The Wolf of All Streets’ says. There are still a handful of Ethereum ETF applications pending with the SEC',\n",
              "  'Developers are now considering setting the effects of the difficulty bomb in June.',\n",
              "  'Fundstrat expects ether to move past $4,200 by year-end',\n",
              "  'Reversing a 0.14% loss from the previous week, Ethereum ended the week higher.',\n",
              "  'Ethereum is meant to be more of a gas to power applications, Grayscale CEO says.',\n",
              "  'Ethereum topped at $3968 on October 15. EWP count shows expected five waves higher from September lows',\n",
              "  \"ETC is Canada's first multicurrency ETF. Ether and bitcoin make up around 65 per cent of the cryptocurrency market\",\n",
              "  'Ether (ETH) is trading at $3173 after moving higher since the $2678 low. Elliott Principle tells us to ‘load up the boat’ as buyers']}"
            ]
          },
          "execution_count": null,
          "metadata": {},
          "output_type": "execute_result"
        }
      ]
    },
    {
      "cell_type": "code",
      "metadata": {
        "colab": {
          "background_save": true
        },
        "id": "02ce7b22",
        "outputId": "352a3d59-0c39-42c3-958e-5c44a6ce23ba"
      },
      "source": [
        "summaries['BTC']"
      ],
      "id": "02ce7b22",
      "execution_count": null,
      "outputs": [
        {
          "data": {
            "text/plain": [
              "['Retail investors may be better off just purchasing the asset. ProShares Bitcoin Strategy ETF made its debut on New York Stock Exchange',\n",
              " 'New York-based firm is in talks for $1 billion investment. CFTC is looking into whether Polymarket is breaking rules',\n",
              " 'ProShares will host a conference call with investors on Thursday. Open interest and volume on the CME were expected to rise',\n",
              " 'Valkyrie Bitcoin Strategy ETF takes assets over $1 billion. VanEck is set to launch a similar fund next week',\n",
              " 'We are aware of the issue and are working to resolve it.',\n",
              " 'The coin has lost about 8% since reaching an all-time high. Two futures-backed U.S. Bitcoin ETFs took assets over $1 billion in two days',\n",
              " 'The lawsuit claims SEC violated rules and hired private process service.',\n",
              " 'We are aware of the issue and are working to resolve it.',\n",
              " 'Chainlink leads the way with a 9.58% gain, followed by Bitcoin Cash.',\n",
              " 'Valkyrie launches Bitcoin ETF on Nasdaq. Company expects at least two more crypto-based products']"
            ]
          },
          "execution_count": null,
          "metadata": {},
          "output_type": "execute_result"
        }
      ]
    },
    {
      "cell_type": "markdown",
      "metadata": {
        "id": "3ad3f41d"
      },
      "source": [
        "**Adding Sentiment Analysis**"
      ],
      "id": "3ad3f41d"
    },
    {
      "cell_type": "code",
      "metadata": {
        "colab": {
          "background_save": true,
          "referenced_widgets": [
            "5b447c6d1d6a436da6d7255d8f8efd8f",
            "feb4d6e99813450ca46ef3f026585aa1",
            "5df20215a40442fa9073f1b0538e28fe",
            "09888f6d02fa491b9e65bec83cc6b5f0"
          ]
        },
        "id": "86a10dfc",
        "outputId": "d0f2c468-ae9e-4f15-e8eb-5d4757496f3e"
      },
      "source": [
        "from transformers import pipeline\n",
        "sentiment = pipeline('sentiment-analysis')"
      ],
      "id": "86a10dfc",
      "execution_count": null,
      "outputs": [
        {
          "name": "stderr",
          "output_type": "stream",
          "text": [
            "No model was supplied, defaulted to distilbert-base-uncased-finetuned-sst-2-english (https://huggingface.co/distilbert-base-uncased-finetuned-sst-2-english)\n"
          ]
        },
        {
          "data": {
            "application/vnd.jupyter.widget-view+json": {
              "model_id": "5b447c6d1d6a436da6d7255d8f8efd8f",
              "version_major": 2,
              "version_minor": 0
            },
            "text/plain": [
              "Downloading:   0%|          | 0.00/629 [00:00<?, ?B/s]"
            ]
          },
          "metadata": {},
          "output_type": "display_data"
        },
        {
          "data": {
            "application/vnd.jupyter.widget-view+json": {
              "model_id": "feb4d6e99813450ca46ef3f026585aa1",
              "version_major": 2,
              "version_minor": 0
            },
            "text/plain": [
              "Downloading:   0%|          | 0.00/255M [00:00<?, ?B/s]"
            ]
          },
          "metadata": {},
          "output_type": "display_data"
        },
        {
          "data": {
            "application/vnd.jupyter.widget-view+json": {
              "model_id": "5df20215a40442fa9073f1b0538e28fe",
              "version_major": 2,
              "version_minor": 0
            },
            "text/plain": [
              "Downloading:   0%|          | 0.00/48.0 [00:00<?, ?B/s]"
            ]
          },
          "metadata": {},
          "output_type": "display_data"
        },
        {
          "data": {
            "application/vnd.jupyter.widget-view+json": {
              "model_id": "09888f6d02fa491b9e65bec83cc6b5f0",
              "version_major": 2,
              "version_minor": 0
            },
            "text/plain": [
              "Downloading:   0%|          | 0.00/226k [00:00<?, ?B/s]"
            ]
          },
          "metadata": {},
          "output_type": "display_data"
        }
      ]
    },
    {
      "cell_type": "code",
      "metadata": {
        "colab": {
          "background_save": true
        },
        "id": "b810a453",
        "outputId": "2632a17d-6164-42e4-a690-86c94335fafb"
      },
      "source": [
        "sentiment(summaries['BTC'])"
      ],
      "id": "b810a453",
      "execution_count": null,
      "outputs": [
        {
          "name": "stderr",
          "output_type": "stream",
          "text": [
            "/usr/local/lib/python3.7/dist-packages/torch/utils/data/dataloader.py:481: UserWarning: This DataLoader will create 8 worker processes in total. Our suggested max number of worker in current system is 2, which is smaller than what this DataLoader is going to create. Please be aware that excessive worker creation might get DataLoader running slow or even freeze, lower the worker number to avoid potential slowness/freeze if necessary.\n",
            "  cpuset_checked))\n"
          ]
        },
        {
          "data": {
            "text/plain": [
              "[{'label': 'NEGATIVE', 'score': 0.9965948462486267},\n",
              " {'label': 'NEGATIVE', 'score': 0.9558952450752258},\n",
              " {'label': 'POSITIVE', 'score': 0.9968835711479187},\n",
              " {'label': 'NEGATIVE', 'score': 0.9783180952072144},\n",
              " {'label': 'POSITIVE', 'score': 0.9979088306427002},\n",
              " {'label': 'NEGATIVE', 'score': 0.999359667301178},\n",
              " {'label': 'NEGATIVE', 'score': 0.99298095703125},\n",
              " {'label': 'POSITIVE', 'score': 0.9979088306427002},\n",
              " {'label': 'NEGATIVE', 'score': 0.6248753666877747},\n",
              " {'label': 'NEGATIVE', 'score': 0.9989308714866638}]"
            ]
          },
          "execution_count": null,
          "metadata": {},
          "output_type": "execute_result"
        }
      ]
    },
    {
      "cell_type": "code",
      "metadata": {
        "colab": {
          "background_save": true
        },
        "id": "bd1c31ca",
        "outputId": "cd92d3de-24c2-4fb3-dbe6-0c8270bfbf09"
      },
      "source": [
        "scores = {ticker:sentiment(summaries[ticker]) for ticker in monitored_tickers}\n",
        "scores"
      ],
      "id": "bd1c31ca",
      "execution_count": null,
      "outputs": [
        {
          "name": "stderr",
          "output_type": "stream",
          "text": [
            "/usr/local/lib/python3.7/dist-packages/torch/utils/data/dataloader.py:481: UserWarning: This DataLoader will create 8 worker processes in total. Our suggested max number of worker in current system is 2, which is smaller than what this DataLoader is going to create. Please be aware that excessive worker creation might get DataLoader running slow or even freeze, lower the worker number to avoid potential slowness/freeze if necessary.\n",
            "  cpuset_checked))\n"
          ]
        },
        {
          "data": {
            "text/plain": [
              "{'AVAX-USD': [{'label': 'POSITIVE', 'score': 0.9923396110534668},\n",
              "  {'label': 'POSITIVE', 'score': 0.9979088306427002},\n",
              "  {'label': 'NEGATIVE', 'score': 0.9695053100585938},\n",
              "  {'label': 'POSITIVE', 'score': 0.860296905040741},\n",
              "  {'label': 'POSITIVE', 'score': 0.9979088306427002},\n",
              "  {'label': 'POSITIVE', 'score': 0.9979088306427002},\n",
              "  {'label': 'POSITIVE', 'score': 0.9979088306427002},\n",
              "  {'label': 'POSITIVE', 'score': 0.9983674883842468},\n",
              "  {'label': 'POSITIVE', 'score': 0.9979088306427002},\n",
              "  {'label': 'POSITIVE', 'score': 0.9979088306427002}],\n",
              " 'BTC': [{'label': 'NEGATIVE', 'score': 0.9965948462486267},\n",
              "  {'label': 'NEGATIVE', 'score': 0.9558952450752258},\n",
              "  {'label': 'POSITIVE', 'score': 0.9968835711479187},\n",
              "  {'label': 'NEGATIVE', 'score': 0.9783180952072144},\n",
              "  {'label': 'POSITIVE', 'score': 0.9979088306427002},\n",
              "  {'label': 'NEGATIVE', 'score': 0.999359667301178},\n",
              "  {'label': 'NEGATIVE', 'score': 0.99298095703125},\n",
              "  {'label': 'POSITIVE', 'score': 0.9979088306427002},\n",
              "  {'label': 'NEGATIVE', 'score': 0.6248753666877747},\n",
              "  {'label': 'NEGATIVE', 'score': 0.9989308714866638}],\n",
              " 'ETH': [{'label': 'POSITIVE', 'score': 0.9979088306427002},\n",
              "  {'label': 'NEGATIVE', 'score': 0.9992571473121643},\n",
              "  {'label': 'NEGATIVE', 'score': 0.9974950551986694},\n",
              "  {'label': 'NEGATIVE', 'score': 0.9726837873458862},\n",
              "  {'label': 'NEGATIVE', 'score': 0.9987817406654358},\n",
              "  {'label': 'NEGATIVE', 'score': 0.7049556970596313},\n",
              "  {'label': 'NEGATIVE', 'score': 0.9987099170684814},\n",
              "  {'label': 'NEGATIVE', 'score': 0.912875771522522},\n",
              "  {'label': 'POSITIVE', 'score': 0.986530601978302},\n",
              "  {'label': 'NEGATIVE', 'score': 0.995140790939331}]}"
            ]
          },
          "execution_count": null,
          "metadata": {},
          "output_type": "execute_result"
        }
      ]
    },
    {
      "cell_type": "code",
      "metadata": {
        "colab": {
          "background_save": true
        },
        "id": "9eb9a277",
        "outputId": "f339ce55-e4e8-4215-980a-b090f3bd91cb"
      },
      "source": [
        "print(summaries['BTC'][3], scores['BTC'][3]['label'], scores['BTC'][3]['score'])"
      ],
      "id": "9eb9a277",
      "execution_count": null,
      "outputs": [
        {
          "name": "stdout",
          "output_type": "stream",
          "text": [
            "Valkyrie Bitcoin Strategy ETF takes assets over $1 billion. VanEck is set to launch a similar fund next week NEGATIVE 0.9783180952072144\n"
          ]
        }
      ]
    },
    {
      "cell_type": "code",
      "metadata": {
        "colab": {
          "background_save": true
        },
        "id": "d6b5897a"
      },
      "source": [
        ""
      ],
      "id": "d6b5897a",
      "execution_count": null,
      "outputs": []
    },
    {
      "cell_type": "markdown",
      "metadata": {
        "id": "5158790a"
      },
      "source": [
        "**Export Results to CSV**"
      ],
      "id": "5158790a"
    },
    {
      "cell_type": "code",
      "metadata": {
        "id": "YPaWecrZGgVi"
      },
      "source": [
        "#### Andrew, I couldnt run this project on my machine, and on Colab I didnt get the CSV file."
      ],
      "id": "YPaWecrZGgVi",
      "execution_count": 1,
      "outputs": []
    },
    {
      "cell_type": "code",
      "metadata": {
        "colab": {
          "background_save": true
        },
        "id": "12af3b2c"
      },
      "source": [
        "def create_output_array(summaries, scores, urls):\n",
        "    output = []\n",
        "    for ticker in monitored_tickers:\n",
        "        for counter in range(len(summaries[ticker])):\n",
        "            output_this = [\n",
        "                ticker,\n",
        "                summaries[ticker][counter],\n",
        "                scores[ticker][counter]['label'],\n",
        "                scores[ticker][counter]['score'],\n",
        "                urls[ticker][counter]\n",
        "            ]\n",
        "            output.append(output_this)\n",
        "    return output"
      ],
      "id": "12af3b2c",
      "execution_count": null,
      "outputs": []
    },
    {
      "cell_type": "code",
      "metadata": {
        "colab": {
          "background_save": true
        },
        "id": "233e67e6",
        "outputId": "a540ef4f-49fb-4df2-c012-3fbbd876e225"
      },
      "source": [
        "final_output = create_output_array(summaries, scores, cleaned_urls)\n",
        "final_output"
      ],
      "id": "233e67e6",
      "execution_count": null,
      "outputs": [
        {
          "data": {
            "text/plain": [
              "[['BTC',\n",
              "  'Retail investors may be better off just purchasing the asset. ProShares Bitcoin Strategy ETF made its debut on New York Stock Exchange',\n",
              "  'NEGATIVE',\n",
              "  0.9965948462486267,\n",
              "  'https://finance.yahoo.com/amphtml/news/bitcoin-hit-2-milestones-week-100000636.html'],\n",
              " ['BTC',\n",
              "  'New York-based firm is in talks for $1 billion investment. CFTC is looking into whether Polymarket is breaking rules',\n",
              "  'NEGATIVE',\n",
              "  0.9558952450752258,\n",
              "  'https://finance.yahoo.com/news/crypto-venue-bets-trump-jlo-135159112.html'],\n",
              " ['BTC',\n",
              "  'ProShares will host a conference call with investors on Thursday. Open interest and volume on the CME were expected to rise',\n",
              "  'POSITIVE',\n",
              "  0.9968835711479187,\n",
              "  'https://finance.yahoo.com/news/cme-volume-gets-pumped-bitcoin-155000606.html'],\n",
              " ['BTC',\n",
              "  'Valkyrie Bitcoin Strategy ETF takes assets over $1 billion. VanEck is set to launch a similar fund next week',\n",
              "  'NEGATIVE',\n",
              "  0.9783180952072144,\n",
              "  'https://finance.yahoo.com/news/second-u-bitcoin-etf-launches-133837968.html'],\n",
              " ['BTC',\n",
              "  'We are aware of the issue and are working to resolve it.',\n",
              "  'POSITIVE',\n",
              "  0.9979088306427002,\n",
              "  'https://finance.yahoo.com/news/top-trump-regulator-determined-banks-211818891.html'],\n",
              " ['BTC',\n",
              "  'The coin has lost about 8% since reaching an all-time high. Two futures-backed U.S. Bitcoin ETFs took assets over $1 billion in two days',\n",
              "  'NEGATIVE',\n",
              "  0.999359667301178,\n",
              "  'https://finance.yahoo.com/news/bitcoin-record-breaking-week-ending-175104130.html'],\n",
              " ['BTC',\n",
              "  'The lawsuit claims SEC violated rules and hired private process service.',\n",
              "  'NEGATIVE',\n",
              "  0.99298095703125,\n",
              "  'https://finance.yahoo.com/news/terraform-labs-sues-sec-over-subpoena-180203820.html'],\n",
              " ['BTC',\n",
              "  'We are aware of the issue and are working to resolve it.',\n",
              "  'POSITIVE',\n",
              "  0.9979088306427002,\n",
              "  'https://finance.yahoo.com/news/solana-eyes-200-mark-surpassing-182522177.html'],\n",
              " ['BTC',\n",
              "  'Chainlink leads the way with a 9.58% gain, followed by Bitcoin Cash.',\n",
              "  'NEGATIVE',\n",
              "  0.6248753666877747,\n",
              "  'https://finance.yahoo.com/news/crypto-daily-movers-shakers-october-002643200.html'],\n",
              " ['BTC',\n",
              "  'Valkyrie launches Bitcoin ETF on Nasdaq. Company expects at least two more crypto-based products',\n",
              "  'NEGATIVE',\n",
              "  0.9989308714866638,\n",
              "  'https://finance.yahoo.com/news/bitcoin-etf-demand-so-strong-we-could-bring-2-or-3-new-ones-to-market-valkyrie-ceo-193827132.html'],\n",
              " ['ETH',\n",
              "  'We are aware of the issue and are working to resolve it.',\n",
              "  'POSITIVE',\n",
              "  0.9979088306427002,\n",
              "  'https://finance.yahoo.com/news/ethereum-litecoin-ripple-xrp-daily-002629006.html'],\n",
              " ['ETH',\n",
              "  'Decentralized finance’s tokens lagging behind Ethereum. Decentralized finance’s tokens don’t have enough value: Occultist',\n",
              "  'NEGATIVE',\n",
              "  0.9992571473121643,\n",
              "  'https://finance.yahoo.com/news/why-defi-blue-chips-seriously-085147270.html'],\n",
              " ['ETH',\n",
              "  '‘Just wait until they announce the ETH ETFs,’ ‘The Wolf of All Streets’ says. There are still a handful of Ethereum ETF applications pending with the SEC',\n",
              "  'NEGATIVE',\n",
              "  0.9974950551986694,\n",
              "  'https://finance.yahoo.com/news/ethereum-one-watch-amid-speculation-124044250.html'],\n",
              " ['ETH',\n",
              "  'Developers are now considering setting the effects of the difficulty bomb in June.',\n",
              "  'NEGATIVE',\n",
              "  0.9726837873458862,\n",
              "  'https://finance.yahoo.com/news/ethereum-difficulty-bomb-timing-hints-113000901.html'],\n",
              " ['ETH',\n",
              "  'Fundstrat expects ether to move past $4,200 by year-end',\n",
              "  'NEGATIVE',\n",
              "  0.9987817406654358,\n",
              "  'https://finance.yahoo.com/news/analyst-who-called-bitcoins-rebound-says-ether-could-hit-10000-104657491.html'],\n",
              " ['ETH',\n",
              "  'Reversing a 0.14% loss from the previous week, Ethereum ended the week higher.',\n",
              "  'NEGATIVE',\n",
              "  0.7049556970596313,\n",
              "  'https://finance.yahoo.com/news/bitcoin-ethereum-weekly-technical-analysis-014030530.html'],\n",
              " ['ETH',\n",
              "  'Ethereum is meant to be more of a gas to power applications, Grayscale CEO says.',\n",
              "  'NEGATIVE',\n",
              "  0.9987099170684814,\n",
              "  'https://finance.yahoo.com/news/the-true-difference-between-bitcoin-and-ethereum-according-to-grayscales-ceo-195502446.html'],\n",
              " ['ETH',\n",
              "  'Ethereum topped at $3968 on October 15. EWP count shows expected five waves higher from September lows',\n",
              "  'NEGATIVE',\n",
              "  0.912875771522522,\n",
              "  'https://finance.yahoo.com/news/ethereum-last-chance-low-risk-180709566.html'],\n",
              " ['ETH',\n",
              "  \"ETC is Canada's first multicurrency ETF. Ether and bitcoin make up around 65 per cent of the cryptocurrency market\",\n",
              "  'POSITIVE',\n",
              "  0.986530601978302,\n",
              "  'https://finance.yahoo.com/news/first-etf-combining-bitcoin-and-ethereum-launches-in-canada-145811246.html'],\n",
              " ['ETH',\n",
              "  'Ether (ETH) is trading at $3173 after moving higher since the $2678 low. Elliott Principle tells us to ‘load up the boat’ as buyers',\n",
              "  'NEGATIVE',\n",
              "  0.995140790939331,\n",
              "  'https://finance.yahoo.com/news/ethereum-looking-7500-060648095.html'],\n",
              " ['AVAX-USD',\n",
              "  'avalanche is closest rival to ethereum, he says. Rai grew up in India, worked as an analyst for Morgan Stanley in 2019',\n",
              "  'POSITIVE',\n",
              "  0.9923396110534668,\n",
              "  'https://finance.yahoo.com/news/24-old-gen-zer-became-100000997.html'],\n",
              " ['AVAX-USD',\n",
              "  'We are aware of the issue and are working to resolve it.',\n",
              "  'POSITIVE',\n",
              "  0.9979088306427002,\n",
              "  'https://finance.yahoo.com/news/avalanche-avax-token-jumps-180m-181749941.html'],\n",
              " ['AVAX-USD',\n",
              "  'Cardano, Avalanche surge after big rallies for Bitcoin, Ether. Prices for photos with laser eyes are going gangbusters',\n",
              "  'NEGATIVE',\n",
              "  0.9695053100585938,\n",
              "  'https://sg.finance.yahoo.com/news/hottest-crypto-coins-are-now-the-bitcoin-and-ether-alternatives-013823172.html'],\n",
              " ['AVAX-USD',\n",
              "  'Markets to focus on network upgrades, scalability: Oanda. Here are six companies to watch in the fourth quarter',\n",
              "  'POSITIVE',\n",
              "  0.860296905040741,\n",
              "  'https://markets.businessinsider.com/news/currencies/altcoin-outlook-cryptocurrencies-q4-polygon-boost-cro-solana-cardano-avalanche-2021-10'],\n",
              " ['AVAX-USD',\n",
              "  'We are aware of the issue and are working to resolve it.',\n",
              "  'POSITIVE',\n",
              "  0.9979088306427002,\n",
              "  'https://finance.yahoo.com/news/bitcoin-testing-50-000-resistance-155820724.html'],\n",
              " ['AVAX-USD',\n",
              "  'We are aware of the issue and are working to resolve it.',\n",
              "  'POSITIVE',\n",
              "  0.9979088306427002,\n",
              "  'https://finance.yahoo.com/news/market-wrap-bitcoin-trades-sideways-203648408.html'],\n",
              " ['AVAX-USD',\n",
              "  'We are aware of the issue and are working to resolve it.',\n",
              "  'POSITIVE',\n",
              "  0.9979088306427002,\n",
              "  'https://finance.yahoo.com/news/defi-amm-sushiswap-builds-avalanche-130101149.html'],\n",
              " ['AVAX-USD',\n",
              "  'Exchange to list AVAX native token on Coinbase Pro. Coinbase remains the most popular exchange in the US ahead of FTX',\n",
              "  'POSITIVE',\n",
              "  0.9983674883842468,\n",
              "  'https://finance.yahoo.com/news/coinbase-launch-avax-trading-ahead-144417569.html'],\n",
              " ['AVAX-USD',\n",
              "  'We are aware of the issue and are working to resolve it.',\n",
              "  'POSITIVE',\n",
              "  0.9979088306427002,\n",
              "  'https://finance.yahoo.com/news/avalanche-keep-defi-users-rush-010114732.html'],\n",
              " ['AVAX-USD',\n",
              "  'We are aware of the issue and are working to resolve it.',\n",
              "  'POSITIVE',\n",
              "  0.9979088306427002,\n",
              "  'https://finance.yahoo.com/news/altcoins-rally-cryptocurrency-market-recovers-132636190.html']]"
            ]
          },
          "execution_count": null,
          "metadata": {},
          "output_type": "execute_result"
        }
      ]
    },
    {
      "cell_type": "code",
      "metadata": {
        "colab": {
          "background_save": true
        },
        "id": "17620e72"
      },
      "source": [
        "final_output.insert(0, ['Ticker', 'Summary', 'Label', 'Confidence', 'URL'])"
      ],
      "id": "17620e72",
      "execution_count": null,
      "outputs": []
    },
    {
      "cell_type": "code",
      "metadata": {
        "colab": {
          "background_save": true
        },
        "id": "32eab358",
        "outputId": "e2990f6b-925a-483e-8d2f-4903334c5ca0"
      },
      "source": [
        "final_output"
      ],
      "id": "32eab358",
      "execution_count": null,
      "outputs": [
        {
          "data": {
            "text/plain": [
              "[['Ticker', 'Summary', 'Label', 'Confidence', 'URL'],\n",
              " ['BTC',\n",
              "  'Retail investors may be better off just purchasing the asset. ProShares Bitcoin Strategy ETF made its debut on New York Stock Exchange',\n",
              "  'NEGATIVE',\n",
              "  0.9965948462486267,\n",
              "  'https://finance.yahoo.com/amphtml/news/bitcoin-hit-2-milestones-week-100000636.html'],\n",
              " ['BTC',\n",
              "  'New York-based firm is in talks for $1 billion investment. CFTC is looking into whether Polymarket is breaking rules',\n",
              "  'NEGATIVE',\n",
              "  0.9558952450752258,\n",
              "  'https://finance.yahoo.com/news/crypto-venue-bets-trump-jlo-135159112.html'],\n",
              " ['BTC',\n",
              "  'ProShares will host a conference call with investors on Thursday. Open interest and volume on the CME were expected to rise',\n",
              "  'POSITIVE',\n",
              "  0.9968835711479187,\n",
              "  'https://finance.yahoo.com/news/cme-volume-gets-pumped-bitcoin-155000606.html'],\n",
              " ['BTC',\n",
              "  'Valkyrie Bitcoin Strategy ETF takes assets over $1 billion. VanEck is set to launch a similar fund next week',\n",
              "  'NEGATIVE',\n",
              "  0.9783180952072144,\n",
              "  'https://finance.yahoo.com/news/second-u-bitcoin-etf-launches-133837968.html'],\n",
              " ['BTC',\n",
              "  'We are aware of the issue and are working to resolve it.',\n",
              "  'POSITIVE',\n",
              "  0.9979088306427002,\n",
              "  'https://finance.yahoo.com/news/top-trump-regulator-determined-banks-211818891.html'],\n",
              " ['BTC',\n",
              "  'The coin has lost about 8% since reaching an all-time high. Two futures-backed U.S. Bitcoin ETFs took assets over $1 billion in two days',\n",
              "  'NEGATIVE',\n",
              "  0.999359667301178,\n",
              "  'https://finance.yahoo.com/news/bitcoin-record-breaking-week-ending-175104130.html'],\n",
              " ['BTC',\n",
              "  'The lawsuit claims SEC violated rules and hired private process service.',\n",
              "  'NEGATIVE',\n",
              "  0.99298095703125,\n",
              "  'https://finance.yahoo.com/news/terraform-labs-sues-sec-over-subpoena-180203820.html'],\n",
              " ['BTC',\n",
              "  'We are aware of the issue and are working to resolve it.',\n",
              "  'POSITIVE',\n",
              "  0.9979088306427002,\n",
              "  'https://finance.yahoo.com/news/solana-eyes-200-mark-surpassing-182522177.html'],\n",
              " ['BTC',\n",
              "  'Chainlink leads the way with a 9.58% gain, followed by Bitcoin Cash.',\n",
              "  'NEGATIVE',\n",
              "  0.6248753666877747,\n",
              "  'https://finance.yahoo.com/news/crypto-daily-movers-shakers-october-002643200.html'],\n",
              " ['BTC',\n",
              "  'Valkyrie launches Bitcoin ETF on Nasdaq. Company expects at least two more crypto-based products',\n",
              "  'NEGATIVE',\n",
              "  0.9989308714866638,\n",
              "  'https://finance.yahoo.com/news/bitcoin-etf-demand-so-strong-we-could-bring-2-or-3-new-ones-to-market-valkyrie-ceo-193827132.html'],\n",
              " ['ETH',\n",
              "  'We are aware of the issue and are working to resolve it.',\n",
              "  'POSITIVE',\n",
              "  0.9979088306427002,\n",
              "  'https://finance.yahoo.com/news/ethereum-litecoin-ripple-xrp-daily-002629006.html'],\n",
              " ['ETH',\n",
              "  'Decentralized finance’s tokens lagging behind Ethereum. Decentralized finance’s tokens don’t have enough value: Occultist',\n",
              "  'NEGATIVE',\n",
              "  0.9992571473121643,\n",
              "  'https://finance.yahoo.com/news/why-defi-blue-chips-seriously-085147270.html'],\n",
              " ['ETH',\n",
              "  '‘Just wait until they announce the ETH ETFs,’ ‘The Wolf of All Streets’ says. There are still a handful of Ethereum ETF applications pending with the SEC',\n",
              "  'NEGATIVE',\n",
              "  0.9974950551986694,\n",
              "  'https://finance.yahoo.com/news/ethereum-one-watch-amid-speculation-124044250.html'],\n",
              " ['ETH',\n",
              "  'Developers are now considering setting the effects of the difficulty bomb in June.',\n",
              "  'NEGATIVE',\n",
              "  0.9726837873458862,\n",
              "  'https://finance.yahoo.com/news/ethereum-difficulty-bomb-timing-hints-113000901.html'],\n",
              " ['ETH',\n",
              "  'Fundstrat expects ether to move past $4,200 by year-end',\n",
              "  'NEGATIVE',\n",
              "  0.9987817406654358,\n",
              "  'https://finance.yahoo.com/news/analyst-who-called-bitcoins-rebound-says-ether-could-hit-10000-104657491.html'],\n",
              " ['ETH',\n",
              "  'Reversing a 0.14% loss from the previous week, Ethereum ended the week higher.',\n",
              "  'NEGATIVE',\n",
              "  0.7049556970596313,\n",
              "  'https://finance.yahoo.com/news/bitcoin-ethereum-weekly-technical-analysis-014030530.html'],\n",
              " ['ETH',\n",
              "  'Ethereum is meant to be more of a gas to power applications, Grayscale CEO says.',\n",
              "  'NEGATIVE',\n",
              "  0.9987099170684814,\n",
              "  'https://finance.yahoo.com/news/the-true-difference-between-bitcoin-and-ethereum-according-to-grayscales-ceo-195502446.html'],\n",
              " ['ETH',\n",
              "  'Ethereum topped at $3968 on October 15. EWP count shows expected five waves higher from September lows',\n",
              "  'NEGATIVE',\n",
              "  0.912875771522522,\n",
              "  'https://finance.yahoo.com/news/ethereum-last-chance-low-risk-180709566.html'],\n",
              " ['ETH',\n",
              "  \"ETC is Canada's first multicurrency ETF. Ether and bitcoin make up around 65 per cent of the cryptocurrency market\",\n",
              "  'POSITIVE',\n",
              "  0.986530601978302,\n",
              "  'https://finance.yahoo.com/news/first-etf-combining-bitcoin-and-ethereum-launches-in-canada-145811246.html'],\n",
              " ['ETH',\n",
              "  'Ether (ETH) is trading at $3173 after moving higher since the $2678 low. Elliott Principle tells us to ‘load up the boat’ as buyers',\n",
              "  'NEGATIVE',\n",
              "  0.995140790939331,\n",
              "  'https://finance.yahoo.com/news/ethereum-looking-7500-060648095.html'],\n",
              " ['AVAX-USD',\n",
              "  'avalanche is closest rival to ethereum, he says. Rai grew up in India, worked as an analyst for Morgan Stanley in 2019',\n",
              "  'POSITIVE',\n",
              "  0.9923396110534668,\n",
              "  'https://finance.yahoo.com/news/24-old-gen-zer-became-100000997.html'],\n",
              " ['AVAX-USD',\n",
              "  'We are aware of the issue and are working to resolve it.',\n",
              "  'POSITIVE',\n",
              "  0.9979088306427002,\n",
              "  'https://finance.yahoo.com/news/avalanche-avax-token-jumps-180m-181749941.html'],\n",
              " ['AVAX-USD',\n",
              "  'Cardano, Avalanche surge after big rallies for Bitcoin, Ether. Prices for photos with laser eyes are going gangbusters',\n",
              "  'NEGATIVE',\n",
              "  0.9695053100585938,\n",
              "  'https://sg.finance.yahoo.com/news/hottest-crypto-coins-are-now-the-bitcoin-and-ether-alternatives-013823172.html'],\n",
              " ['AVAX-USD',\n",
              "  'Markets to focus on network upgrades, scalability: Oanda. Here are six companies to watch in the fourth quarter',\n",
              "  'POSITIVE',\n",
              "  0.860296905040741,\n",
              "  'https://markets.businessinsider.com/news/currencies/altcoin-outlook-cryptocurrencies-q4-polygon-boost-cro-solana-cardano-avalanche-2021-10'],\n",
              " ['AVAX-USD',\n",
              "  'We are aware of the issue and are working to resolve it.',\n",
              "  'POSITIVE',\n",
              "  0.9979088306427002,\n",
              "  'https://finance.yahoo.com/news/bitcoin-testing-50-000-resistance-155820724.html'],\n",
              " ['AVAX-USD',\n",
              "  'We are aware of the issue and are working to resolve it.',\n",
              "  'POSITIVE',\n",
              "  0.9979088306427002,\n",
              "  'https://finance.yahoo.com/news/market-wrap-bitcoin-trades-sideways-203648408.html'],\n",
              " ['AVAX-USD',\n",
              "  'We are aware of the issue and are working to resolve it.',\n",
              "  'POSITIVE',\n",
              "  0.9979088306427002,\n",
              "  'https://finance.yahoo.com/news/defi-amm-sushiswap-builds-avalanche-130101149.html'],\n",
              " ['AVAX-USD',\n",
              "  'Exchange to list AVAX native token on Coinbase Pro. Coinbase remains the most popular exchange in the US ahead of FTX',\n",
              "  'POSITIVE',\n",
              "  0.9983674883842468,\n",
              "  'https://finance.yahoo.com/news/coinbase-launch-avax-trading-ahead-144417569.html'],\n",
              " ['AVAX-USD',\n",
              "  'We are aware of the issue and are working to resolve it.',\n",
              "  'POSITIVE',\n",
              "  0.9979088306427002,\n",
              "  'https://finance.yahoo.com/news/avalanche-keep-defi-users-rush-010114732.html'],\n",
              " ['AVAX-USD',\n",
              "  'We are aware of the issue and are working to resolve it.',\n",
              "  'POSITIVE',\n",
              "  0.9979088306427002,\n",
              "  'https://finance.yahoo.com/news/altcoins-rally-cryptocurrency-market-recovers-132636190.html']]"
            ]
          },
          "execution_count": null,
          "metadata": {},
          "output_type": "execute_result"
        }
      ]
    },
    {
      "cell_type": "code",
      "metadata": {
        "colab": {
          "background_save": true
        },
        "id": "fdd0fa82"
      },
      "source": [
        "import csv\n",
        "with open('assetsummaries.csv', mode='w', newline='') as f:\n",
        "    csv_writer = csv.writer(f, delimiter=',', quotechar='\"', quoting=csv.QUOTE_MINIMAL)\n",
        "    csv_writer.writerows(final_output)"
      ],
      "id": "fdd0fa82",
      "execution_count": null,
      "outputs": []
    },
    {
      "cell_type": "code",
      "metadata": {
        "colab": {
          "background_save": true
        },
        "id": "0bb0a3f2"
      },
      "source": [
        ""
      ],
      "id": "0bb0a3f2",
      "execution_count": null,
      "outputs": []
    },
    {
      "cell_type": "code",
      "metadata": {
        "colab": {
          "background_save": true
        },
        "id": "91c51a70"
      },
      "source": [
        ""
      ],
      "id": "91c51a70",
      "execution_count": null,
      "outputs": []
    },
    {
      "cell_type": "code",
      "metadata": {
        "colab": {
          "background_save": true
        },
        "id": "a61d2db1"
      },
      "source": [
        "import pandas as pd"
      ],
      "id": "a61d2db1",
      "execution_count": null,
      "outputs": []
    },
    {
      "cell_type": "code",
      "metadata": {
        "colab": {
          "background_save": true
        },
        "id": "f6bf7713"
      },
      "source": [
        "df = pd.DataFrame(final_output)"
      ],
      "id": "f6bf7713",
      "execution_count": null,
      "outputs": []
    },
    {
      "cell_type": "code",
      "metadata": {
        "colab": {
          "background_save": true
        },
        "id": "50cd9e2c",
        "outputId": "6dc083a9-db8c-49ed-a52b-6f7b26c49f34"
      },
      "source": [
        "df.head()"
      ],
      "id": "50cd9e2c",
      "execution_count": null,
      "outputs": [
        {
          "data": {
            "text/html": [
              "<div>\n",
              "<style scoped>\n",
              "    .dataframe tbody tr th:only-of-type {\n",
              "        vertical-align: middle;\n",
              "    }\n",
              "\n",
              "    .dataframe tbody tr th {\n",
              "        vertical-align: top;\n",
              "    }\n",
              "\n",
              "    .dataframe thead th {\n",
              "        text-align: right;\n",
              "    }\n",
              "</style>\n",
              "<table border=\"1\" class=\"dataframe\">\n",
              "  <thead>\n",
              "    <tr style=\"text-align: right;\">\n",
              "      <th></th>\n",
              "      <th>0</th>\n",
              "      <th>1</th>\n",
              "      <th>2</th>\n",
              "      <th>3</th>\n",
              "      <th>4</th>\n",
              "    </tr>\n",
              "  </thead>\n",
              "  <tbody>\n",
              "    <tr>\n",
              "      <th>0</th>\n",
              "      <td>Ticker</td>\n",
              "      <td>Summary</td>\n",
              "      <td>Label</td>\n",
              "      <td>Confidence</td>\n",
              "      <td>URL</td>\n",
              "    </tr>\n",
              "    <tr>\n",
              "      <th>1</th>\n",
              "      <td>BTC</td>\n",
              "      <td>Retail investors may be better off just purcha...</td>\n",
              "      <td>NEGATIVE</td>\n",
              "      <td>0.996595</td>\n",
              "      <td>https://finance.yahoo.com/amphtml/news/bitcoin...</td>\n",
              "    </tr>\n",
              "    <tr>\n",
              "      <th>2</th>\n",
              "      <td>BTC</td>\n",
              "      <td>New York-based firm is in talks for $1 billion...</td>\n",
              "      <td>NEGATIVE</td>\n",
              "      <td>0.955895</td>\n",
              "      <td>https://finance.yahoo.com/news/crypto-venue-be...</td>\n",
              "    </tr>\n",
              "    <tr>\n",
              "      <th>3</th>\n",
              "      <td>BTC</td>\n",
              "      <td>ProShares will host a conference call with inv...</td>\n",
              "      <td>POSITIVE</td>\n",
              "      <td>0.996884</td>\n",
              "      <td>https://finance.yahoo.com/news/cme-volume-gets...</td>\n",
              "    </tr>\n",
              "    <tr>\n",
              "      <th>4</th>\n",
              "      <td>BTC</td>\n",
              "      <td>Valkyrie Bitcoin Strategy ETF takes assets ove...</td>\n",
              "      <td>NEGATIVE</td>\n",
              "      <td>0.978318</td>\n",
              "      <td>https://finance.yahoo.com/news/second-u-bitcoi...</td>\n",
              "    </tr>\n",
              "  </tbody>\n",
              "</table>\n",
              "</div>"
            ],
            "text/plain": [
              "        0  ...                                                  4\n",
              "0  Ticker  ...                                                URL\n",
              "1     BTC  ...  https://finance.yahoo.com/amphtml/news/bitcoin...\n",
              "2     BTC  ...  https://finance.yahoo.com/news/crypto-venue-be...\n",
              "3     BTC  ...  https://finance.yahoo.com/news/cme-volume-gets...\n",
              "4     BTC  ...  https://finance.yahoo.com/news/second-u-bitcoi...\n",
              "\n",
              "[5 rows x 5 columns]"
            ]
          },
          "execution_count": null,
          "metadata": {},
          "output_type": "execute_result"
        }
      ]
    },
    {
      "cell_type": "code",
      "metadata": {
        "colab": {
          "background_save": true
        },
        "id": "2d8268c6",
        "outputId": "d57a04f5-2af4-491e-de99-412b649f1171"
      },
      "source": [
        "df[2].value_counts()"
      ],
      "id": "2d8268c6",
      "execution_count": null,
      "outputs": [
        {
          "data": {
            "text/plain": [
              "NEGATIVE    16\n",
              "POSITIVE    14\n",
              "Label        1\n",
              "Name: 2, dtype: int64"
            ]
          },
          "execution_count": null,
          "metadata": {},
          "output_type": "execute_result"
        }
      ]
    },
    {
      "cell_type": "code",
      "metadata": {
        "colab": {
          "background_save": true
        },
        "id": "d595ff3b"
      },
      "source": [
        ""
      ],
      "id": "d595ff3b",
      "execution_count": null,
      "outputs": []
    }
  ]
}